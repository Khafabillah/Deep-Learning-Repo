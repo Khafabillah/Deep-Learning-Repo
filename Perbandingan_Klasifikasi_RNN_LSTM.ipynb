{
  "nbformat": 4,
  "nbformat_minor": 0,
  "metadata": {
    "colab": {
      "provenance": []
    },
    "kernelspec": {
      "name": "python3",
      "display_name": "Python 3"
    },
    "language_info": {
      "name": "python"
    }
  },
  "cells": [
    {
      "cell_type": "markdown",
      "source": [
        "# **Laporan Komparasi Model Sentimen: SimpleRNN vs. LSTM**\n",
        "\n",
        "## Kelompok 66\n",
        "\n",
        "Muhamad Khafabillah Sopian (2307824)\n",
        "\n",
        "Abyan Laksono (2304127)\n",
        "\n",
        "---\n",
        "Laporan ini menyajikan hasil perbandingan dua arsitektur *Recurrent Neural Network* (RNN) dasar, yaitu SimpleRNN dan LSTM, dalam tugas klasifikasi sentimen 3-kelas ulasan Aplikasi Dana. Analisis ini berfokus pada arsitektur mana yang paling efektif dalam menangani data teks berbahasa Indonesia, terutama dalam mengatasi tantangan **ketidakseimbangan kelas**, di mana jumlah sampel Sentimen Netral jauh lebih sedikit dibanding Negatif dan Positif."
      ],
      "metadata": {
        "id": "wqryLURtAQH7"
      }
    },
    {
      "cell_type": "markdown",
      "source": [
        "### **Perbandingan Metrik Kinerja Akhir**\n",
        "\n",
        "Kita langsung lihat *head-to-head* angka validasi final dari kedua model. Perlu dicatat, kedua model ini dilatih menggunakan *preprocessing* data yang identik.\n",
        "\n",
        "| Metrik Kinerja | Model SimpleRNN | Model LSTM | Catatan Penting |\n",
        "| :--- | :--- | :--- | :--- |\n",
        "| **Akurasi Validasi** | **47.52%** | **81.66%** | Perbedaan Akurasi lebih dari 30%, sangat signifikan. |\n",
        "| **Loss Validasi** | **1.0127** | **0.4614** | Terbukti, SimpleRNN memiliki kesalahan prediksi dua kali lebih besar. |\n",
        "| **F1-Score Kelas Netral** | **0.00** | **0.61** | Angka 0.00 pada SimpleRNN adalah kegagalan total pada kelas minoritas. |\n",
        "| **Performa Negasi** | Gagal Total | Perlu Aturan *Post-Processing* | LSTM masih butuh bantuan linguistik sederhana untuk negasi. |"
      ],
      "metadata": {
        "id": "jogGZgH1CEkp"
      }
    },
    {
      "cell_type": "markdown",
      "source": [
        "## **3. Analisis Mendalam: Mengapa LSTM Unggul Jauh?**\n",
        "\n",
        "Perbedaan performa yang sangat ekstrem antara dua model ini murni berasal dari keunggulan desain arsitektur LSTM.\n",
        "\n",
        "### **Model SimpleRNN: Gagal Fundamental**\n",
        "\n",
        "Model SimpleRNN mengalami kegagalan fundamental karena sifatnya yang sederhana dan **rentan terhadap *vanishing gradient***. Dalam ulasan yang panjang, informasi yang ada di awal kalimat (konteks) akan \"terlupakan\" atau *memori*nya hilang di akhir kalimat. Konsekuensinya:\n",
        "\n",
        "* **Hilang Memori:** Model tidak mampu memahami konteks yang kompleks atau nuansa halus dalam sentimen.\n",
        "* **Mengabaikan Kelas Minoritas:** Ketika dihadapkan pada **ketidakseimbangan kelas** (Netral yang sedikit), SimpleRNN memilih jalan pintas logis: **mengabaikan kelas Netral sepenuhnya** (terbukti dari F1-score $0.00$). Semua prediksi Netral dilemparkan ke kelas Negatif/Positif.\n",
        "\n",
        "### **Model LSTM: Kestabilan Berkat Mekanisme Gating**\n",
        "\n",
        "Model LSTM berhasil mencapai **Akurasi 81.66%** dan performa Netral yang jauh lebih baik (F1-score $0.61$) berkat inovasinya: **Mekanisme *Gating***. Gerbang ini bertindak sebagai **filter cerdas** yang memberikan LSTM kontrol penuh atas memorinya. Berkat mekanisme *Gating* (terdiri dari *Forget Gate*, *Input Gate*, dan *Output Gate*), LSTM dapat secara selektif **menyimpan** dan **melupakan** informasi yang masuk ke dalam sel. Kemampuan ini sangat efektif mengatasi masalah *vanishing gradient*, membuat LSTM jauh lebih stabil, dan memungkinkannya mempelajari fitur pembeda dari ketiga kelas sentimen secara seimbang, bahkan pada kelas Netral yang jumlahnya sedikit."
      ],
      "metadata": {
        "id": "rIGsAjPYDBbN"
      }
    },
    {
      "cell_type": "markdown",
      "source": [
        "## **4. Kesimpulan dan Rekomendasi Akhir**\n",
        "\n",
        "Hasil komparasi ini memberikan kesimpulan yang sangat tegas: **Model LSTM adalah arsitektur yang superior dan *reliable***, sementara SimpleRNN terbukti tidak layak digunakan sebagai solusi klasifikasi sentimen untuk dataset ulasan ini.\n",
        "\n",
        "Kinerja LSTM yang jauh lebih stabil (Akurasi $81.66\\%$ dengan F1-score Netral $0.61$) membuktikan bahwa **Mekanisme *Gating*** yang dimiliki LSTM sangat krusial. Kemampuan ini bukan hanya mengatasi kelemahan *vanishing gradient* milik SimpleRNN, tetapi juga memungkinkan model untuk mempertahankan kestabilan prediksinya meskipun dihadapkan pada tantangan *ketidakseimbangan kelas*.\n",
        "\n",
        "Meskipun performa LSTM sudah sangat baik, analisis mendalam menunjukkan adanya kelemahan minor, yaitu kesulitan dalam memahami **pola negasi** (seperti \"tidak bagus\"). Kelemahan ini berhasil diatasi dengan menerapkan **aturan pascaprediksi (*post-processing rule*)** sederhana."
      ],
      "metadata": {
        "id": "187l_ih8nfDi"
      }
    }
  ]
}