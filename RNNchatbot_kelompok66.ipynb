{
  "nbformat": 4,
  "nbformat_minor": 0,
  "metadata": {
    "colab": {
      "provenance": []
    },
    "kernelspec": {
      "name": "python3",
      "display_name": "Python 3"
    },
    "language_info": {
      "name": "python"
    }
  },
  "cells": [
    {
      "cell_type": "markdown",
      "source": [
        "# **Pembuatan Chatbot Konsultasi Kesehatan Menggunakan SimpleRNN**\n",
        "\n",
        "## **Kelompok 66 — Mata Kuliah Deep Learning**  \n",
        "**Universitas Pendidikan Indonesia**  \n",
        "**Semester 5 — Tahun 2025**\n",
        "\n",
        "### **Anggota**\n",
        "- **Muhamad Khafabillah Sopian** (2307824)  \n",
        "- **Abyan Laksono** (2304127)\n",
        "\n",
        "---\n",
        "\n",
        "## **Deskripsi Proyek**\n",
        "\n",
        "Proyek ini bertujuan untuk membangun model **Chatbot Konsultasi Kesehatan** berbasis **Recurrent Neural Network (RNN)** dengan arsitektur **SimpleRNN** sebagai model *baseline*.  \n",
        "\n",
        "Fokus penelitian ini adalah mengukur kemampuan SimpleRNN dalam memahami dan menghasilkan respons yang relevan terhadap pertanyaan-pertanyaan kesehatan dalam Bahasa Indonesia.  \n",
        "Hasil dari model ini nantinya akan dibandingkan dengan model **LSTM** untuk menilai perbedaan kinerja antar arsitektur RNN."
      ],
      "metadata": {
        "id": "N0HBI3vipCZz"
      }
    },
    {
      "cell_type": "markdown",
      "source": [
        "## **Import Library**\n",
        "\n",
        "### **Penjelasan Singkat**\n",
        "Pada tahap ini, semua pustaka (*library*) yang dibutuhkan untuk proyek ini akan diimpor.  \n",
        "Setiap pustaka memiliki fungsi yang berbeda, antara lain:\n",
        "\n",
        "* **Pandas & NumPy:** Untuk memuat, memanipulasi, dan mengolah data.  \n",
        "* **TensorFlow / Keras:** Untuk membangun model **SimpleRNN** (Encoder–Decoder).  \n",
        "* **OS** digunakan untuk mengakses dan mengelola file atau folder di sistem operasi dari dalam kode Python.\n",
        "* **Tokenizer & pad_sequences:** Untuk melakukan pra-pemrosesan teks seperti tokenisasi dan padding.  \n",
        "* **NLTK:** Untuk menghitung metrik evaluasi standar NLP, yaitu **BLEU Score**.  \n",
        "* **Google.colab (drive):** Untuk mengakses dataset yang tersimpan di Google Drive (jika dijalankan di Google Colab).  \n",
        "* **Matplotlib:** Untuk menampilkan visualisasi hasil pelatihan model.  \n",
        "* **Sklearn:** Untuk melakukan pembagian data (*train–test split*) serta evaluasi tambahan."
      ],
      "metadata": {
        "id": "uAaUY63ErI5-"
      }
    },
    {
      "cell_type": "code",
      "source": [
        "import pandas as pd\n",
        "import numpy as np\n",
        "import tensorflow as tf\n",
        "import os\n",
        "import random\n",
        "from tensorflow.keras.preprocessing.text import Tokenizer\n",
        "from tensorflow.keras.preprocessing.sequence import pad_sequences\n",
        "from tensorflow.keras.models import Model\n",
        "from tensorflow.keras.layers import Input, Embedding, SimpleRNN, Dense, LSTM\n",
        "from sklearn.model_selection import train_test_split\n",
        "import matplotlib.pyplot as plt\n",
        "import re\n",
        "import string\n",
        "import nltk\n",
        "from nltk.translate.bleu_score import sentence_bleu, SmoothingFunction"
      ],
      "metadata": {
        "id": "dL1A3WpCrJjr"
      },
      "execution_count": 47,
      "outputs": []
    },
    {
      "cell_type": "markdown",
      "source": [
        "## **Load Data**\n",
        "\n",
        "### **Penjelasan Singkat**\n",
        "Tahap ini bertujuan untuk **memuat dataset chatbot** dari direktori Google Drive ke dalam lingkungan kerja (misalnya Google Colab).  \n",
        "Dataset yang digunakan terdiri dari dua bagian:\n",
        "- `doctorQnA_train.csv` → digunakan untuk proses pelatihan model.  \n",
        "- `doctorQnA_test.csv` → digunakan untuk pengujian performa model.  \n",
        "\n",
        "Pada tahap ini, kita hanya membaca data dan menampilkan informasi dasarnya seperti jumlah baris, kolom, serta beberapa contoh isi data.  \n",
        "Proses pembersihan atau penyaringan data akan dilakukan nanti pada tahap *Exploratory Data Analysis (EDA)* dan *Praproses*.\n"
      ],
      "metadata": {
        "id": "dTyCEFO0sMXa"
      }
    },
    {
      "cell_type": "code",
      "source": [
        "BASE_DIR = \"/content/drive/MyDrive/Deep Learning\"\n",
        "TRAIN_FILE = \"doctorQnA_train.csv\"\n",
        "TEST_FILE  = \"doctorQnA_test.csv\"\n",
        "\n",
        "train_path = os.path.join(BASE_DIR, TRAIN_FILE)\n",
        "test_path  = os.path.join(BASE_DIR, TEST_FILE)\n",
        "\n",
        "df_train = pd.read_csv(train_path, encoding=\"utf-8\")\n",
        "df_test  = pd.read_csv(test_path, encoding=\"utf-8\")\n",
        "\n",
        "print(\"=== INFORMASI DATA TRAIN ===\")\n",
        "print(df_train.info())\n",
        "print(\"\\n=== INFORMASI DATA TEST ===\")\n",
        "print(df_test.info())\n",
        "\n",
        "print(\"\\nJumlah baris dan kolom (Train):\", df_train.shape)\n",
        "print(\"Jumlah baris dan kolom (Test) :\", df_test.shape)\n",
        "\n",
        "print(\"\\nContoh data train:\")\n",
        "print(df_train.head())\n",
        "\n",
        "print(\"\\nContoh data test:\")\n",
        "print(df_test.head())\n"
      ],
      "metadata": {
        "colab": {
          "base_uri": "https://localhost:8080/"
        },
        "id": "1233cGlcsMwJ",
        "outputId": "823f80c6-b2fb-4487-9cbb-8e649354e29d"
      },
      "execution_count": 48,
      "outputs": [
        {
          "output_type": "stream",
          "name": "stdout",
          "text": [
            "=== INFORMASI DATA TRAIN ===\n",
            "<class 'pandas.core.frame.DataFrame'>\n",
            "RangeIndex: 5694 entries, 0 to 5693\n",
            "Data columns (total 2 columns):\n",
            " #   Column    Non-Null Count  Dtype \n",
            "---  ------    --------------  ----- \n",
            " 0   question  5694 non-null   object\n",
            " 1   answer    5694 non-null   object\n",
            "dtypes: object(2)\n",
            "memory usage: 89.1+ KB\n",
            "None\n",
            "\n",
            "=== INFORMASI DATA TEST ===\n",
            "<class 'pandas.core.frame.DataFrame'>\n",
            "RangeIndex: 633 entries, 0 to 632\n",
            "Data columns (total 2 columns):\n",
            " #   Column    Non-Null Count  Dtype \n",
            "---  ------    --------------  ----- \n",
            " 0   question  633 non-null    object\n",
            " 1   answer    633 non-null    object\n",
            "dtypes: object(2)\n",
            "memory usage: 10.0+ KB\n",
            "None\n",
            "\n",
            "Jumlah baris dan kolom (Train): (5694, 2)\n",
            "Jumlah baris dan kolom (Test) : (633, 2)\n",
            "\n",
            "Contoh data train:\n",
            "                                            question  \\\n",
            "0  Assalamaualaikum dok, saya mau konsul mengenai...   \n",
            "1  Selamat sore dok, kemarin saya terpeleset, ter...   \n",
            "2  Selamat sore dok, minggu kemarin anak saya sun...   \n",
            "3  Selamat Sore alodokter, dok maaf ganggu saya m...   \n",
            "4  Dok, saya mau bertanya. Saya wanita umur 20th ...   \n",
            "\n",
            "                                              answer  \n",
            "0  Waalaikumsalm. warna fases bayi serta konsentr...  \n",
            "1  cedera ligamen lutut anterior (ACL) ialah suat...  \n",
            "2  Beragam metode sunat (sirkumsisi) tersedia saa...  \n",
            "3  Luka di lutut sehabis terjatuh dari motor yang...  \n",
            "4  Alo, selamat siangkeluhan nyeri atau kram pada...  \n",
            "\n",
            "Contoh data test:\n",
            "                                            question  \\\n",
            "0  Halo dok, saya remaja 15 tahun. Saya sedang ha...   \n",
            "1  Putra saya usia 15 th, testis kirinya sakit do...   \n",
            "2  Dok saya kalau kena gorengan yang bukan masaka...   \n",
            "3  Saya berhari-hari susah BAB dok, dan saya nged...   \n",
            "4  Ãƒâ€šÃ‚Â Hai dok, anak saya berusia2 bulan. se...   \n",
            "\n",
            "                                              answer  \n",
            "0  Menstruasi sewajarnya akan berlangsung selama ...  \n",
            "1  Alo,Nyeri pada testis dapat disebabkan karena ...  \n",
            "2  Alo, selamat siangtenggorokan gatal dapat dise...  \n",
            "3  Benjolan di anus yang terasa nyeri, menyerupai...  \n",
            "4  Ubun-ubun bayi yang cembung sehabis melahirkan...  \n"
          ]
        }
      ]
    },
    {
      "cell_type": "markdown",
      "source": [
        "### **Exploratory Data Analysis (EDA)**\n",
        "\n",
        "Pada bagian ini dilakukan analisis awal terhadap dataset untuk memahami karakteristik data sebelum dilakukan praprosesan.  \n",
        "Analisis meliputi:\n",
        "1. Jumlah data pada train dan test set.  \n",
        "2. Pemeriksaan nilai kosong (missing values).  \n",
        "3. Pengamatan panjang teks pada kolom **question** dan **answer** untuk melihat sebaran panjang kalimat."
      ],
      "metadata": {
        "id": "nMhVgp9v2A8S"
      }
    },
    {
      "cell_type": "code",
      "source": [
        "# Jumlah data\n",
        "print(\"Jumlah data train :\", len(df_train))\n",
        "print(\"Jumlah data test  :\", len(df_test))\n",
        "\n",
        "# Cek nilai kosong\n",
        "print(\"\\nJumlah nilai kosong per kolom (train):\")\n",
        "print(df_train.isnull().sum())\n",
        "\n",
        "print(\"\\nJumlah nilai kosong per kolom (test):\")\n",
        "print(df_test.isnull().sum())\n",
        "\n",
        "# Panjang teks pada kolom question dan answer\n",
        "df_train[\"q_length\"] = df_train[\"question\"].apply(len)\n",
        "df_train[\"a_length\"] = df_train[\"answer\"].apply(len)\n",
        "df_test[\"q_length\"] = df_test[\"question\"].apply(len)\n",
        "df_test[\"a_length\"] = df_test[\"answer\"].apply(len)\n",
        "\n",
        "print(\"\\nRata-rata panjang karakter dalam teks (train):\")\n",
        "print(\"Pertanyaan :\", df_train[\"q_length\"].mean())\n",
        "print(\"Jawaban    :\", df_train[\"a_length\"].mean())\n",
        "\n",
        "print(\"\\nRata-rata panjang karakter dalam teks (test):\")\n",
        "print(\"Pertanyaan :\", df_test[\"q_length\"].mean())\n",
        "print(\"Jawaban    :\", df_test[\"a_length\"].mean())"
      ],
      "metadata": {
        "colab": {
          "base_uri": "https://localhost:8080/"
        },
        "id": "oHtLYjFY2BdL",
        "outputId": "ef38f996-d5cf-4020-cdd9-f1b5fa22466b"
      },
      "execution_count": 49,
      "outputs": [
        {
          "output_type": "stream",
          "name": "stdout",
          "text": [
            "Jumlah data train : 5694\n",
            "Jumlah data test  : 633\n",
            "\n",
            "Jumlah nilai kosong per kolom (train):\n",
            "question    0\n",
            "answer      0\n",
            "dtype: int64\n",
            "\n",
            "Jumlah nilai kosong per kolom (test):\n",
            "question    0\n",
            "answer      0\n",
            "dtype: int64\n",
            "\n",
            "Rata-rata panjang karakter dalam teks (train):\n",
            "Pertanyaan : 285.11433087460483\n",
            "Jawaban    : 439.3602037232174\n",
            "\n",
            "Rata-rata panjang karakter dalam teks (test):\n",
            "Pertanyaan : 284.01895734597156\n",
            "Jawaban    : 445.97630331753555\n"
          ]
        }
      ]
    },
    {
      "cell_type": "markdown",
      "source": [
        "### **Visualisasi Distribusi Panjang Teks**\n",
        "\n",
        "Visualisasi ini digunakan untuk melihat persebaran panjang teks pada kolom **question** dan **answer**.  \n",
        "Grafik histogram membantu memahami apakah sebagian besar pertanyaan dan jawaban memiliki panjang yang mirip, atau terdapat variasi yang signifikan."
      ],
      "metadata": {
        "id": "qfnMUXIe2OPT"
      }
    },
    {
      "cell_type": "code",
      "source": [
        "plt.figure(figsize=(10,5))\n",
        "plt.hist(df_train[\"q_length\"], bins=50, alpha=0.7, label=\"Question length\")\n",
        "plt.hist(df_train[\"a_length\"], bins=50, alpha=0.7, label=\"Answer length\")\n",
        "plt.title(\"Distribusi Panjang Teks (Train Set)\")\n",
        "plt.xlabel(\"Jumlah Karakter\")\n",
        "plt.ylabel(\"Frekuensi\")\n",
        "plt.legend()\n",
        "plt.show()"
      ],
      "metadata": {
        "colab": {
          "base_uri": "https://localhost:8080/",
          "height": 487
        },
        "id": "1w0uO3eG2P7e",
        "outputId": "05c6fc61-0bd6-4fc6-fdfa-e66c79e47f65"
      },
      "execution_count": 50,
      "outputs": [
        {
          "output_type": "display_data",
          "data": {
            "text/plain": [
              "<Figure size 1000x500 with 1 Axes>"
            ],
            "image/png": "[encoded data removed]"
          },
          "metadata": {}
        }
      ]
    },
    {
      "cell_type": "markdown",
      "source": [
        "**Penjelasan Hasil Visualisasi**\n",
        "\n",
        "Grafik di atas menampilkan **distribusi panjang teks** untuk kolom *question* (pertanyaan) dan *answer* (jawaban) pada dataset pelatihan.  \n",
        "Dari grafik tersebut dapat diamati bahwa sebagian besar teks memiliki panjang dalam rentang **sekitar 100 hingga 600 karakter**, dengan puncak frekuensi pada kisaran **250–400 karakter**.  \n",
        "\n",
        "Hal ini menunjukkan bahwa pertanyaan dan jawaban dalam dataset memiliki **panjang yang relatif seragam** serta tidak terdapat perbedaan yang signifikan antara distribusi keduanya.  \n",
        "Informasi ini penting untuk menentukan parameter **`maxlen`** saat proses tokenisasi, agar semua urutan teks memiliki panjang yang sesuai tanpa kehilangan konteks penting."
      ],
      "metadata": {
        "id": "4be5L3NK20Si"
      }
    },
    {
      "cell_type": "markdown",
      "source": [
        "### **Praproses Data**\n",
        "\n",
        "Tahap praproses bertujuan untuk **membersihkan teks** agar siap digunakan dalam pelatihan model.  \n",
        "Beberapa langkah yang dilakukan meliputi:\n",
        "1. Mengubah seluruh teks menjadi huruf kecil (*lowercasing*).  \n",
        "2. Menghapus karakter yang tidak diperlukan seperti angka, tanda baca, dan simbol.  \n",
        "3. Menghapus spasi berlebih.  \n",
        "4. Membersihkan karakter yang tidak terbaca akibat encoding (misalnya karakter aneh pada dataset).  \n",
        "\n",
        "Langkah ini penting agar data yang dimasukkan ke model lebih konsisten dan mudah dipelajari oleh Neural Network."
      ],
      "metadata": {
        "id": "lf5aaci13AHN"
      }
    },
    {
      "cell_type": "code",
      "source": [
        "# Membersihkan teks pada kolom question dan answer\n",
        "\n",
        "def clean_text(text):\n",
        "    text = str(text).lower()                        # ubah ke huruf kecil\n",
        "    text = re.sub(r\"http\\\\S+|www\\\\S+\", \" \", text)   # hapus URL\n",
        "    text = re.sub(r\"[^a-zA-Z0-9\\\\s]\", \" \", text)    # hapus tanda baca & simbol\n",
        "    text = re.sub(r\"\\\\s+\", \" \", text).strip()       # hapus spasi berlebih\n",
        "    return text\n",
        "\n",
        "df_train[\"clean_question\"] = df_train[\"question\"].apply(clean_text)\n",
        "df_train[\"clean_answer\"]   = df_train[\"answer\"].apply(clean_text)\n",
        "df_test[\"clean_question\"]  = df_test[\"question\"].apply(clean_text)\n",
        "df_test[\"clean_answer\"]    = df_test[\"answer\"].apply(clean_text)\n",
        "\n",
        "# Cek hasil pembersihan\n",
        "print(\"Sebelum dibersihkan:\")\n",
        "print(df_train.loc[0, \"question\"])\n",
        "print(\"\\nSetelah dibersihkan:\")\n",
        "print(df_train.loc[0, \"clean_question\"])"
      ],
      "metadata": {
        "colab": {
          "base_uri": "https://localhost:8080/"
        },
        "id": "Ag35KFBL3AgZ",
        "outputId": "a6b26986-f152-427a-ac9d-633bbf9ef0c0"
      },
      "execution_count": 51,
      "outputs": [
        {
          "output_type": "stream",
          "name": "stdout",
          "text": [
            "Sebelum dibersihkan:\n",
            "Assalamaualaikum dok, saya mau konsul mengenai feses bayi. Bayi saya baru berusia 3 bulan, semalam pup warna fesesnya kuning pucat. Padahal sore harinya saat pup fesesnya berwarna normal, bayi saya minum asui dan sufor dok. Kondisinya bayi saya tidak sedang demam, tidak rewel dan masih aktif. Apakah berbahaya dok?\n",
            "\n",
            "Setelah dibersihkan:\n",
            "assalamaualaikum dok  saya mau konsul mengenai feses bayi  bayi saya baru berusia 3 bulan  semalam pup warna fesesnya kuning pucat  padahal sore harinya saat pup fesesnya berwarna normal  bayi saya minum asui dan sufor dok  kondisinya bayi saya tidak sedang demam  tidak rewel dan masih aktif  apakah berbahaya dok\n"
          ]
        }
      ]
    },
    {
      "cell_type": "markdown",
      "source": [
        "### Tokenisasi dan Padding\n",
        "\n",
        "Langkah ini menyiapkan data teks menjadi bentuk numerik agar dapat diproses oleh model RNN.  \n",
        "Proses ini mencakup:\n",
        "- Membuat tokenizer untuk pertanyaan (encoder) dan jawaban (decoder).  \n",
        "- Menambahkan token khusus pada jawaban (`sostok` sebagai penanda awal dan `eostok` sebagai penanda akhir).  \n",
        "- Mengonversi setiap teks menjadi deretan angka (sequence).  \n",
        "- Melakukan padding supaya semua urutan memiliki panjang seragam."
      ],
      "metadata": {
        "id": "QS6RZYyL_e_4"
      }
    },
    {
      "cell_type": "code",
      "source": [
        "Q_COL = \"clean_question\" if \"clean_question\" in df_train.columns else \"question\"\n",
        "A_COL = \"clean_answer\" if \"clean_answer\" in df_train.columns else \"answer\"\n",
        "\n",
        "train_questions = df_train[Q_COL].astype(str).tolist()\n",
        "train_answers = df_train[A_COL].astype(str).tolist()\n",
        "\n",
        "test_questions = df_test[Q_COL].astype(str).tolist()\n",
        "test_answers = df_test[A_COL].astype(str).tolist()\n",
        "\n",
        "train_answers_inp = [f\"sostok {t}\" for t in train_answers]\n",
        "train_answers_out = [f\"{t} eostok\" for t in train_answers]\n",
        "test_answers_inp = [f\"sostok {t}\" for t in test_answers]\n",
        "test_answers_out = [f\"{t} eostok\" for t in test_answers]\n",
        "\n",
        "VOCAB_Q = 30000\n",
        "VOCAB_A = 30000\n",
        "\n",
        "tok_q = Tokenizer(num_words=VOCAB_Q, oov_token=\"<OOV>\")\n",
        "tok_a = Tokenizer(num_words=VOCAB_A, oov_token=\"<OOV>\")\n",
        "\n",
        "tok_q.fit_on_texts(train_questions)\n",
        "tok_a.fit_on_texts(train_answers_inp + train_answers_out)\n",
        "\n",
        "def pct95_len(texts):\n",
        "    lengths = np.array([len(t.split()) for t in texts])\n",
        "    return int(np.percentile(lengths, 95))\n",
        "\n",
        "MAX_LEN_Q = max(8, pct95_len(train_questions))\n",
        "MAX_LEN_A = max(8, pct95_len(train_answers_out))\n",
        "\n",
        "enc_train = tok_q.texts_to_sequences(train_questions)\n",
        "dec_in_train = tok_a.texts_to_sequences(train_answers_inp)\n",
        "dec_out_train = tok_a.texts_to_sequences(train_answers_out)\n",
        "\n",
        "enc_test = tok_q.texts_to_sequences(test_questions)\n",
        "dec_in_test = tok_a.texts_to_sequences(test_answers_inp)\n",
        "dec_out_test = tok_a.texts_to_sequences(test_answers_out)\n",
        "\n",
        "enc_train_pad = pad_sequences(enc_train, maxlen=MAX_LEN_Q, padding=\"post\", truncating=\"post\")\n",
        "dec_in_train_pad = pad_sequences(dec_in_train, maxlen=MAX_LEN_A, padding=\"post\", truncating=\"post\")\n",
        "dec_out_train_pad = pad_sequences(dec_out_train, maxlen=MAX_LEN_A, padding=\"post\", truncating=\"post\")\n",
        "\n",
        "enc_test_pad = pad_sequences(enc_test, maxlen=MAX_LEN_Q, padding=\"post\", truncating=\"post\")\n",
        "dec_in_test_pad = pad_sequences(dec_in_test, maxlen=MAX_LEN_A, padding=\"post\", truncating=\"post\")\n",
        "dec_out_test_pad = pad_sequences(dec_out_test, maxlen=MAX_LEN_A, padding=\"post\", truncating=\"post\")\n",
        "\n",
        "print(\"Jumlah kata unik encoder :\", len(tok_q.word_index))\n",
        "print(\"Jumlah kata unik decoder :\", len(tok_a.word_index))\n",
        "print(\"MAX_LEN_Q:\", MAX_LEN_Q, \"| MAX_LEN_A:\", MAX_LEN_A)\n",
        "print(\"enc_train_pad:\", enc_train_pad.shape, \"| dec_in_train_pad:\", dec_in_train_pad.shape)"
      ],
      "metadata": {
        "colab": {
          "base_uri": "https://localhost:8080/"
        },
        "id": "OveaUNsa_2kS",
        "outputId": "1ac62b86-f76e-4d75-fff5-e68ff5d15b9a"
      },
      "execution_count": 52,
      "outputs": [
        {
          "output_type": "stream",
          "name": "stdout",
          "text": [
            "Jumlah kata unik encoder : 9393\n",
            "Jumlah kata unik decoder : 11822\n",
            "MAX_LEN_Q: 70 | MAX_LEN_A: 84\n",
            "enc_train_pad: (5694, 70) | dec_in_train_pad: (5694, 84)\n"
          ]
        }
      ]
    },
    {
      "cell_type": "markdown",
      "source": [
        "### **Pembangunan Model (SimpleRNN Encoder–Decoder)**\n",
        "\n",
        "Model ini menggunakan arsitektur **sequence-to-sequence (seq2seq)** berbasis **SimpleRNN**.  \n",
        "Encoder akan membaca dan memahami konteks pertanyaan, sedangkan decoder akan menghasilkan jawaban berdasarkan representasi konteks tersebut.  \n",
        "\n",
        "Komponen utama:\n",
        "- **Embedding Layer:** mengubah indeks kata menjadi representasi vektor.  \n",
        "- **Encoder RNN:** menghasilkan *context vector* dari input pertanyaan.  \n",
        "- **Decoder RNN:** menghasilkan token jawaban secara bertahap berdasarkan context vector.  \n",
        "- **Dense Layer:** memprediksi token berikutnya di setiap langkah waktu dengan aktivasi *softmax*."
      ],
      "metadata": {
        "id": "otbX0V2_FPlQ"
      }
    },
    {
      "cell_type": "code",
      "source": [
        "VOCAB_SIZE_Q = min(30000, len(tok_q.word_index) + 1)\n",
        "VOCAB_SIZE_A = min(30000, len(tok_a.word_index) + 1)\n",
        "\n",
        "EMB_DIM = 256\n",
        "RNN_UNITS = 256\n",
        "\n",
        "# Encoder\n",
        "enc_inputs = Input(shape=(MAX_LEN_Q,))\n",
        "enc_emb = Embedding(input_dim=VOCAB_SIZE_Q, output_dim=EMB_DIM, mask_zero=True)(enc_inputs)\n",
        "enc_out, enc_state = SimpleRNN(RNN_UNITS, return_state=True)(enc_emb)\n",
        "\n",
        "# Decoder\n",
        "dec_inputs = Input(shape=(MAX_LEN_A,))\n",
        "dec_emb = Embedding(input_dim=VOCAB_SIZE_A, output_dim=EMB_DIM, mask_zero=True)(dec_inputs)\n",
        "dec_out = SimpleRNN(RNN_UNITS, return_sequences=True)(dec_emb, initial_state=enc_state)\n",
        "dec_dense = Dense(VOCAB_SIZE_A, activation=\"softmax\")(dec_out)\n",
        "\n",
        "model = Model([enc_inputs, dec_inputs], dec_dense)\n",
        "model.compile(optimizer=\"adam\", loss=\"sparse_categorical_crossentropy\", metrics=[\"accuracy\"])\n",
        "\n",
        "model.summary()"
      ],
      "metadata": {
        "colab": {
          "base_uri": "https://localhost:8080/",
          "height": 492
        },
        "id": "d0sX8d6eFQB7",
        "outputId": "1cf844f0-8f20-43f9-e515-cc305b64d030"
      },
      "execution_count": 53,
      "outputs": [
        {
          "output_type": "display_data",
          "data": {
            "text/plain": [
              "\u001b[1mModel: \"functional_3\"\u001b[0m\n"
            ],
            "text/html": [
              "<pre style=\"white-space:pre;overflow-x:auto;line-height:normal;font-family:Menlo,'DejaVu Sans Mono',consolas,'Courier New',monospace\"><span style=\"font-weight: bold\">Model: \"functional_3\"</span>\n",
              "</pre>\n"
            ]
          },
          "metadata": {}
        },
        {
          "output_type": "display_data",
          "data": {
            "text/plain": [
              "┏━━━━━━━━━━━━━━━━━━━━━┳━━━━━━━━━━━━━━━━━━━┳━━━━━━━━━━━━┳━━━━━━━━━━━━━━━━━━━┓\n",
              "┃\u001b[1m \u001b[0m\u001b[1mLayer (type)       \u001b[0m\u001b[1m \u001b[0m┃\u001b[1m \u001b[0m\u001b[1mOutput Shape     \u001b[0m\u001b[1m \u001b[0m┃\u001b[1m \u001b[0m\u001b[1m   Param #\u001b[0m\u001b[1m \u001b[0m┃\u001b[1m \u001b[0m\u001b[1mConnected to     \u001b[0m\u001b[1m \u001b[0m┃\n",
              "┡━━━━━━━━━━━━━━━━━━━━━╇━━━━━━━━━━━━━━━━━━━╇━━━━━━━━━━━━╇━━━━━━━━━━━━━━━━━━━┩\n",
              "│ input_layer_6       │ (\u001b[38;5;45mNone\u001b[0m, \u001b[38;5;34m70\u001b[0m)        │          \u001b[38;5;34m0\u001b[0m │ -                 │\n",
              "│ (\u001b[38;5;33mInputLayer\u001b[0m)        │                   │            │                   │\n",
              "├─────────────────────┼───────────────────┼────────────┼───────────────────┤\n",
              "│ input_layer_7       │ (\u001b[38;5;45mNone\u001b[0m, \u001b[38;5;34m84\u001b[0m)        │          \u001b[38;5;34m0\u001b[0m │ -                 │\n",
              "│ (\u001b[38;5;33mInputLayer\u001b[0m)        │                   │            │                   │\n",
              "├─────────────────────┼───────────────────┼────────────┼───────────────────┤\n",
              "│ embedding_6         │ (\u001b[38;5;45mNone\u001b[0m, \u001b[38;5;34m70\u001b[0m, \u001b[38;5;34m256\u001b[0m)   │  \u001b[38;5;34m2,404,864\u001b[0m │ input_layer_6[\u001b[38;5;34m0\u001b[0m]… │\n",
              "│ (\u001b[38;5;33mEmbedding\u001b[0m)         │                   │            │                   │\n",
              "├─────────────────────┼───────────────────┼────────────┼───────────────────┤\n",
              "│ not_equal_6         │ (\u001b[38;5;45mNone\u001b[0m, \u001b[38;5;34m70\u001b[0m)        │          \u001b[38;5;34m0\u001b[0m │ input_layer_6[\u001b[38;5;34m0\u001b[0m]… │\n",
              "│ (\u001b[38;5;33mNotEqual\u001b[0m)          │                   │            │                   │\n",
              "├─────────────────────┼───────────────────┼────────────┼───────────────────┤\n",
              "│ embedding_7         │ (\u001b[38;5;45mNone\u001b[0m, \u001b[38;5;34m84\u001b[0m, \u001b[38;5;34m256\u001b[0m)   │  \u001b[38;5;34m3,026,688\u001b[0m │ input_layer_7[\u001b[38;5;34m0\u001b[0m]… │\n",
              "│ (\u001b[38;5;33mEmbedding\u001b[0m)         │                   │            │                   │\n",
              "├─────────────────────┼───────────────────┼────────────┼───────────────────┤\n",
              "│ simple_rnn_6        │ [(\u001b[38;5;45mNone\u001b[0m, \u001b[38;5;34m256\u001b[0m),     │    \u001b[38;5;34m131,328\u001b[0m │ embedding_6[\u001b[38;5;34m0\u001b[0m][\u001b[38;5;34m0\u001b[0m… │\n",
              "│ (\u001b[38;5;33mSimpleRNN\u001b[0m)         │ (\u001b[38;5;45mNone\u001b[0m, \u001b[38;5;34m256\u001b[0m)]      │            │ not_equal_6[\u001b[38;5;34m0\u001b[0m][\u001b[38;5;34m0\u001b[0m] │\n",
              "├─────────────────────┼───────────────────┼────────────┼───────────────────┤\n",
              "│ simple_rnn_7        │ (\u001b[38;5;45mNone\u001b[0m, \u001b[38;5;34m84\u001b[0m, \u001b[38;5;34m256\u001b[0m)   │    \u001b[38;5;34m131,328\u001b[0m │ embedding_7[\u001b[38;5;34m0\u001b[0m][\u001b[38;5;34m0\u001b[0m… │\n",
              "│ (\u001b[38;5;33mSimpleRNN\u001b[0m)         │                   │            │ simple_rnn_6[\u001b[38;5;34m0\u001b[0m][\u001b[38;5;34m…\u001b[0m │\n",
              "├─────────────────────┼───────────────────┼────────────┼───────────────────┤\n",
              "│ dense_3 (\u001b[38;5;33mDense\u001b[0m)     │ (\u001b[38;5;45mNone\u001b[0m, \u001b[38;5;34m84\u001b[0m, \u001b[38;5;34m11823\u001b[0m) │  \u001b[38;5;34m3,038,511\u001b[0m │ simple_rnn_7[\u001b[38;5;34m0\u001b[0m][\u001b[38;5;34m…\u001b[0m │\n",
              "└─────────────────────┴───────────────────┴────────────┴───────────────────┘\n"
            ],
            "text/html": [
              "<pre style=\"white-space:pre;overflow-x:auto;line-height:normal;font-family:Menlo,'DejaVu Sans Mono',consolas,'Courier New',monospace\">┏━━━━━━━━━━━━━━━━━━━━━┳━━━━━━━━━━━━━━━━━━━┳━━━━━━━━━━━━┳━━━━━━━━━━━━━━━━━━━┓\n",
              "┃<span style=\"font-weight: bold\"> Layer (type)        </span>┃<span style=\"font-weight: bold\"> Output Shape      </span>┃<span style=\"font-weight: bold\">    Param # </span>┃<span style=\"font-weight: bold\"> Connected to      </span>┃\n",
              "┡━━━━━━━━━━━━━━━━━━━━━╇━━━━━━━━━━━━━━━━━━━╇━━━━━━━━━━━━╇━━━━━━━━━━━━━━━━━━━┩\n",
              "│ input_layer_6       │ (<span style=\"color: #00d7ff; text-decoration-color: #00d7ff\">None</span>, <span style=\"color: #00af00; text-decoration-color: #00af00\">70</span>)        │          <span style=\"color: #00af00; text-decoration-color: #00af00\">0</span> │ -                 │\n",
              "│ (<span style=\"color: #0087ff; text-decoration-color: #0087ff\">InputLayer</span>)        │                   │            │                   │\n",
              "├─────────────────────┼───────────────────┼────────────┼───────────────────┤\n",
              "│ input_layer_7       │ (<span style=\"color: #00d7ff; text-decoration-color: #00d7ff\">None</span>, <span style=\"color: #00af00; text-decoration-color: #00af00\">84</span>)        │          <span style=\"color: #00af00; text-decoration-color: #00af00\">0</span> │ -                 │\n",
              "│ (<span style=\"color: #0087ff; text-decoration-color: #0087ff\">InputLayer</span>)        │                   │            │                   │\n",
              "├─────────────────────┼───────────────────┼────────────┼───────────────────┤\n",
              "│ embedding_6         │ (<span style=\"color: #00d7ff; text-decoration-color: #00d7ff\">None</span>, <span style=\"color: #00af00; text-decoration-color: #00af00\">70</span>, <span style=\"color: #00af00; text-decoration-color: #00af00\">256</span>)   │  <span style=\"color: #00af00; text-decoration-color: #00af00\">2,404,864</span> │ input_layer_6[<span style=\"color: #00af00; text-decoration-color: #00af00\">0</span>]… │\n",
              "│ (<span style=\"color: #0087ff; text-decoration-color: #0087ff\">Embedding</span>)         │                   │            │                   │\n",
              "├─────────────────────┼───────────────────┼────────────┼───────────────────┤\n",
              "│ not_equal_6         │ (<span style=\"color: #00d7ff; text-decoration-color: #00d7ff\">None</span>, <span style=\"color: #00af00; text-decoration-color: #00af00\">70</span>)        │          <span style=\"color: #00af00; text-decoration-color: #00af00\">0</span> │ input_layer_6[<span style=\"color: #00af00; text-decoration-color: #00af00\">0</span>]… │\n",
              "│ (<span style=\"color: #0087ff; text-decoration-color: #0087ff\">NotEqual</span>)          │                   │            │                   │\n",
              "├─────────────────────┼───────────────────┼────────────┼───────────────────┤\n",
              "│ embedding_7         │ (<span style=\"color: #00d7ff; text-decoration-color: #00d7ff\">None</span>, <span style=\"color: #00af00; text-decoration-color: #00af00\">84</span>, <span style=\"color: #00af00; text-decoration-color: #00af00\">256</span>)   │  <span style=\"color: #00af00; text-decoration-color: #00af00\">3,026,688</span> │ input_layer_7[<span style=\"color: #00af00; text-decoration-color: #00af00\">0</span>]… │\n",
              "│ (<span style=\"color: #0087ff; text-decoration-color: #0087ff\">Embedding</span>)         │                   │            │                   │\n",
              "├─────────────────────┼───────────────────┼────────────┼───────────────────┤\n",
              "│ simple_rnn_6        │ [(<span style=\"color: #00d7ff; text-decoration-color: #00d7ff\">None</span>, <span style=\"color: #00af00; text-decoration-color: #00af00\">256</span>),     │    <span style=\"color: #00af00; text-decoration-color: #00af00\">131,328</span> │ embedding_6[<span style=\"color: #00af00; text-decoration-color: #00af00\">0</span>][<span style=\"color: #00af00; text-decoration-color: #00af00\">0</span>… │\n",
              "│ (<span style=\"color: #0087ff; text-decoration-color: #0087ff\">SimpleRNN</span>)         │ (<span style=\"color: #00d7ff; text-decoration-color: #00d7ff\">None</span>, <span style=\"color: #00af00; text-decoration-color: #00af00\">256</span>)]      │            │ not_equal_6[<span style=\"color: #00af00; text-decoration-color: #00af00\">0</span>][<span style=\"color: #00af00; text-decoration-color: #00af00\">0</span>] │\n",
              "├─────────────────────┼───────────────────┼────────────┼───────────────────┤\n",
              "│ simple_rnn_7        │ (<span style=\"color: #00d7ff; text-decoration-color: #00d7ff\">None</span>, <span style=\"color: #00af00; text-decoration-color: #00af00\">84</span>, <span style=\"color: #00af00; text-decoration-color: #00af00\">256</span>)   │    <span style=\"color: #00af00; text-decoration-color: #00af00\">131,328</span> │ embedding_7[<span style=\"color: #00af00; text-decoration-color: #00af00\">0</span>][<span style=\"color: #00af00; text-decoration-color: #00af00\">0</span>… │\n",
              "│ (<span style=\"color: #0087ff; text-decoration-color: #0087ff\">SimpleRNN</span>)         │                   │            │ simple_rnn_6[<span style=\"color: #00af00; text-decoration-color: #00af00\">0</span>][<span style=\"color: #00af00; text-decoration-color: #00af00\">…</span> │\n",
              "├─────────────────────┼───────────────────┼────────────┼───────────────────┤\n",
              "│ dense_3 (<span style=\"color: #0087ff; text-decoration-color: #0087ff\">Dense</span>)     │ (<span style=\"color: #00d7ff; text-decoration-color: #00d7ff\">None</span>, <span style=\"color: #00af00; text-decoration-color: #00af00\">84</span>, <span style=\"color: #00af00; text-decoration-color: #00af00\">11823</span>) │  <span style=\"color: #00af00; text-decoration-color: #00af00\">3,038,511</span> │ simple_rnn_7[<span style=\"color: #00af00; text-decoration-color: #00af00\">0</span>][<span style=\"color: #00af00; text-decoration-color: #00af00\">…</span> │\n",
              "└─────────────────────┴───────────────────┴────────────┴───────────────────┘\n",
              "</pre>\n"
            ]
          },
          "metadata": {}
        },
        {
          "output_type": "display_data",
          "data": {
            "text/plain": [
              "\u001b[1m Total params: \u001b[0m\u001b[38;5;34m8,732,719\u001b[0m (33.31 MB)\n"
            ],
            "text/html": [
              "<pre style=\"white-space:pre;overflow-x:auto;line-height:normal;font-family:Menlo,'DejaVu Sans Mono',consolas,'Courier New',monospace\"><span style=\"font-weight: bold\"> Total params: </span><span style=\"color: #00af00; text-decoration-color: #00af00\">8,732,719</span> (33.31 MB)\n",
              "</pre>\n"
            ]
          },
          "metadata": {}
        },
        {
          "output_type": "display_data",
          "data": {
            "text/plain": [
              "\u001b[1m Trainable params: \u001b[0m\u001b[38;5;34m8,732,719\u001b[0m (33.31 MB)\n"
            ],
            "text/html": [
              "<pre style=\"white-space:pre;overflow-x:auto;line-height:normal;font-family:Menlo,'DejaVu Sans Mono',consolas,'Courier New',monospace\"><span style=\"font-weight: bold\"> Trainable params: </span><span style=\"color: #00af00; text-decoration-color: #00af00\">8,732,719</span> (33.31 MB)\n",
              "</pre>\n"
            ]
          },
          "metadata": {}
        },
        {
          "output_type": "display_data",
          "data": {
            "text/plain": [
              "\u001b[1m Non-trainable params: \u001b[0m\u001b[38;5;34m0\u001b[0m (0.00 B)\n"
            ],
            "text/html": [
              "<pre style=\"white-space:pre;overflow-x:auto;line-height:normal;font-family:Menlo,'DejaVu Sans Mono',consolas,'Courier New',monospace\"><span style=\"font-weight: bold\"> Non-trainable params: </span><span style=\"color: #00af00; text-decoration-color: #00af00\">0</span> (0.00 B)\n",
              "</pre>\n"
            ]
          },
          "metadata": {}
        }
      ]
    },
    {
      "cell_type": "markdown",
      "source": [
        "### Pembagian Data\n",
        "\n",
        "Data dibagi menjadi dua bagian: **train** untuk melatih model dan **validation** untuk memantau performa selama pelatihan agar tidak overfitting. Pasangan input–target dijaga konsisten: encoder input (`enc_train_pad`), decoder input (`dec_in_train_pad`), dan decoder target (`dec_out_train_pad`).\n"
      ],
      "metadata": {
        "id": "8IbVIIpdIhyY"
      }
    },
    {
      "cell_type": "code",
      "source": [
        "from sklearn.model_selection import train_test_split\n",
        "\n",
        "X_enc_tr, X_enc_val, X_dec_in_tr, X_dec_in_val, y_tr, y_val = train_test_split(\n",
        "    enc_train_pad, dec_in_train_pad, dec_out_train_pad,\n",
        "    test_size=0.1, random_state=42\n",
        ")\n",
        "\n",
        "print(\"Train shapes  :\", X_enc_tr.shape, X_dec_in_tr.shape, y_tr.shape)\n",
        "print(\"Valid  shapes :\", X_enc_val.shape, X_dec_in_val.shape, y_val.shape)"
      ],
      "metadata": {
        "colab": {
          "base_uri": "https://localhost:8080/"
        },
        "id": "uVi9ZS2HIhQo",
        "outputId": "a810bdfb-df87-41c9-ccab-bdf7cbf4cc6c"
      },
      "execution_count": 54,
      "outputs": [
        {
          "output_type": "stream",
          "name": "stdout",
          "text": [
            "Train shapes  : (5124, 70) (5124, 84) (5124, 84)\n",
            "Valid  shapes : (570, 70) (570, 84) (570, 84)\n"
          ]
        }
      ]
    },
    {
      "cell_type": "markdown",
      "source": [
        "### Kontrol (hasil konsisten antar *Run All*)\n",
        "\n",
        "Agar hasil pelatihan tidak berubah-ubah saat *Run All*"
      ],
      "metadata": {
        "id": "iMCPU4lwZ1SV"
      }
    },
    {
      "cell_type": "code",
      "source": [
        "SEED = 42\n",
        "\n",
        "# Kunci hash & deterministik TF (sebelum TF memuat ops)\n",
        "os.environ[\"PYTHONHASHSEED\"] = str(SEED)\n",
        "os.environ[\"TF_DETERMINISTIC_OPS\"] = \"1\"             # aktifkan ops deterministik (jika didukung)\n",
        "os.environ[\"CUBLAS_WORKSPACE_CONFIG\"] = \":4096:8\"    # untuk deterministik di GPU NVIDIA (jika berlaku)\n",
        "\n",
        "# Seed di tiga level\n",
        "random.seed(SEED)\n",
        "np.random.seed(SEED)\n",
        "tf.random.set_seed(SEED)\n",
        "\n",
        "# (Opsional, TF 2.13+): aktifkan deterministik via API\n",
        "try:\n",
        "    tf.config.experimental.enable_op_determinism(True)\n",
        "except Exception as e:\n",
        "    pass\n",
        "\n",
        "print(\"Seed & determinism set. SEED =\", SEED)"
      ],
      "metadata": {
        "colab": {
          "base_uri": "https://localhost:8080/"
        },
        "id": "kSFULIOUZ7mD",
        "outputId": "4c44187e-29f0-4b51-eda8-bcdb279f3d5d"
      },
      "execution_count": 55,
      "outputs": [
        {
          "output_type": "stream",
          "name": "stdout",
          "text": [
            "Seed & determinism set. SEED = 42\n"
          ]
        }
      ]
    },
    {
      "cell_type": "markdown",
      "source": [
        "### **Pelatihan Model**\n",
        "\n",
        "Model SimpleRNN yang sudah dibangun akan dilatih menggunakan **data train** dan dievaluasi pada **data validasi**.  \n",
        "Optimasi dilakukan menggunakan algoritma **Adam**, dengan fungsi loss `sparse_categorical_crossentropy`, karena target output berupa indeks kata.  \n",
        "Callback **EarlyStopping** digunakan untuk menghentikan pelatihan otomatis jika performa validasi tidak membaik selama beberapa epoch, sementara **ModelCheckpoint** menyimpan bobot model terbaik."
      ],
      "metadata": {
        "id": "wD2Mp7O0aq1M"
      }
    },
    {
      "cell_type": "code",
      "source": [
        "from tensorflow.keras.callbacks import EarlyStopping, ModelCheckpoint\n",
        "\n",
        "# Konfigurasi callback\n",
        "early_stop = EarlyStopping(monitor=\"val_loss\", patience=3, restore_best_weights=True, verbose=1)\n",
        "checkpoint = ModelCheckpoint(\"model_simplernn_best.h5\", monitor=\"val_loss\", save_best_only=True, verbose=1)\n",
        "\n",
        "# Kompilasi model\n",
        "model.compile(optimizer=\"adam\",\n",
        "              loss=\"sparse_categorical_crossentropy\",\n",
        "              metrics=[\"accuracy\"])\n",
        "\n",
        "# Proses pelatihan\n",
        "history = model.fit(\n",
        "    [X_enc_tr, X_dec_in_tr],\n",
        "    y_tr,\n",
        "    validation_data=([X_enc_val, X_dec_in_val], y_val),\n",
        "    epochs=20,\n",
        "    batch_size=64,\n",
        "    shuffle=False,    # agar hasil training konsisten\n",
        "    callbacks=[early_stop, checkpoint],\n",
        "    verbose=1\n",
        ")"
      ],
      "metadata": {
        "id": "AGvlO-cuarR7",
        "colab": {
          "base_uri": "https://localhost:8080/"
        },
        "outputId": "64b9d3dd-8056-44f8-f83a-0b9f00a826fd"
      },
      "execution_count": 56,
      "outputs": [
        {
          "output_type": "stream",
          "name": "stdout",
          "text": [
            "Epoch 1/20\n",
            "\u001b[1m81/81\u001b[0m \u001b[32m━━━━━━━━━━━━━━━━━━━━\u001b[0m\u001b[37m\u001b[0m \u001b[1m0s\u001b[0m 6s/step - accuracy: 0.0163 - loss: 7.6901\n",
            "Epoch 1: val_loss improved from inf to 6.80371, saving model to model_simplernn_best.h5\n"
          ]
        },
        {
          "output_type": "stream",
          "name": "stderr",
          "text": [
            "WARNING:absl:You are saving your model as an HDF5 file via `model.save()` or `keras.saving.save_model(model)`. This file format is considered legacy. We recommend using instead the native Keras format, e.g. `model.save('my_model.keras')` or `keras.saving.save_model(model, 'my_model.keras')`. \n"
          ]
        },
        {
          "output_type": "stream",
          "name": "stdout",
          "text": [
            "\b\b\b\b\b\b\b\b\b\b\b\b\b\b\b\b\b\b\b\b\b\b\b\b\b\b\b\b\b\b\b\b\b\b\b\b\b\b\b\b\b\b\b\b\b\b\b\b\b\b\b\b\b\b\b\b\b\b\b\b\b\b\b\b\b\b\b\b\b\b\b\r\u001b[1m81/81\u001b[0m \u001b[32m━━━━━━━━━━━━━━━━━━━━\u001b[0m\u001b[37m\u001b[0m \u001b[1m481s\u001b[0m 6s/step - accuracy: 0.0164 - loss: 7.6830 - val_accuracy: 0.0310 - val_loss: 6.8037\n",
            "Epoch 2/20\n",
            "\u001b[1m81/81\u001b[0m \u001b[32m━━━━━━━━━━━━━━━━━━━━\u001b[0m\u001b[37m\u001b[0m \u001b[1m0s\u001b[0m 6s/step - accuracy: 0.0317 - loss: 6.7102\n",
            "Epoch 2: val_loss improved from 6.80371 to 6.60534, saving model to model_simplernn_best.h5\n"
          ]
        },
        {
          "output_type": "stream",
          "name": "stderr",
          "text": [
            "WARNING:absl:You are saving your model as an HDF5 file via `model.save()` or `keras.saving.save_model(model)`. This file format is considered legacy. We recommend using instead the native Keras format, e.g. `model.save('my_model.keras')` or `keras.saving.save_model(model, 'my_model.keras')`. \n"
          ]
        },
        {
          "output_type": "stream",
          "name": "stdout",
          "text": [
            "\b\b\b\b\b\b\b\b\b\b\b\b\b\b\b\b\b\b\b\b\b\b\b\b\b\b\b\b\b\b\b\b\b\b\b\b\b\b\b\b\b\b\b\b\b\b\b\b\b\b\b\b\b\b\b\b\b\b\b\b\b\b\b\b\b\b\b\b\b\b\b\r\u001b[1m81/81\u001b[0m \u001b[32m━━━━━━━━━━━━━━━━━━━━\u001b[0m\u001b[37m\u001b[0m \u001b[1m499s\u001b[0m 6s/step - accuracy: 0.0317 - loss: 6.7097 - val_accuracy: 0.0475 - val_loss: 6.6053\n",
            "Epoch 3/20\n",
            "\u001b[1m81/81\u001b[0m \u001b[32m━━━━━━━━━━━━━━━━━━━━\u001b[0m\u001b[37m\u001b[0m \u001b[1m0s\u001b[0m 6s/step - accuracy: 0.0485 - loss: 6.4509\n",
            "Epoch 3: val_loss improved from 6.60534 to 6.27920, saving model to model_simplernn_best.h5\n"
          ]
        },
        {
          "output_type": "stream",
          "name": "stderr",
          "text": [
            "WARNING:absl:You are saving your model as an HDF5 file via `model.save()` or `keras.saving.save_model(model)`. This file format is considered legacy. We recommend using instead the native Keras format, e.g. `model.save('my_model.keras')` or `keras.saving.save_model(model, 'my_model.keras')`. \n"
          ]
        },
        {
          "output_type": "stream",
          "name": "stdout",
          "text": [
            "\b\b\b\b\b\b\b\b\b\b\b\b\b\b\b\b\b\b\b\b\b\b\b\b\b\b\b\b\b\b\b\b\b\b\b\b\b\b\b\b\b\b\b\b\b\b\b\b\b\b\b\b\b\b\b\b\b\b\b\b\b\b\b\b\b\b\b\b\b\b\b\r\u001b[1m81/81\u001b[0m \u001b[32m━━━━━━━━━━━━━━━━━━━━\u001b[0m\u001b[37m\u001b[0m \u001b[1m475s\u001b[0m 6s/step - accuracy: 0.0485 - loss: 6.4500 - val_accuracy: 0.0626 - val_loss: 6.2792\n",
            "Epoch 4/20\n",
            "\u001b[1m81/81\u001b[0m \u001b[32m━━━━━━━━━━━━━━━━━━━━\u001b[0m\u001b[37m\u001b[0m \u001b[1m0s\u001b[0m 6s/step - accuracy: 0.0702 - loss: 6.0941\n",
            "Epoch 4: val_loss improved from 6.27920 to 5.95216, saving model to model_simplernn_best.h5\n"
          ]
        },
        {
          "output_type": "stream",
          "name": "stderr",
          "text": [
            "WARNING:absl:You are saving your model as an HDF5 file via `model.save()` or `keras.saving.save_model(model)`. This file format is considered legacy. We recommend using instead the native Keras format, e.g. `model.save('my_model.keras')` or `keras.saving.save_model(model, 'my_model.keras')`. \n"
          ]
        },
        {
          "output_type": "stream",
          "name": "stdout",
          "text": [
            "\b\b\b\b\b\b\b\b\b\b\b\b\b\b\b\b\b\b\b\b\b\b\b\b\b\b\b\b\b\b\b\b\b\b\b\b\b\b\b\b\b\b\b\b\b\b\b\b\b\b\b\b\b\b\b\b\b\b\b\b\b\b\b\b\b\b\b\b\b\b\b\r\u001b[1m81/81\u001b[0m \u001b[32m━━━━━━━━━━━━━━━━━━━━\u001b[0m\u001b[37m\u001b[0m \u001b[1m472s\u001b[0m 6s/step - accuracy: 0.0703 - loss: 6.0931 - val_accuracy: 0.0884 - val_loss: 5.9522\n",
            "Epoch 5/20\n",
            "\u001b[1m81/81\u001b[0m \u001b[32m━━━━━━━━━━━━━━━━━━━━\u001b[0m\u001b[37m\u001b[0m \u001b[1m0s\u001b[0m 5s/step - accuracy: 0.0994 - loss: 5.7257\n",
            "Epoch 5: val_loss improved from 5.95216 to 5.61748, saving model to model_simplernn_best.h5\n"
          ]
        },
        {
          "output_type": "stream",
          "name": "stderr",
          "text": [
            "WARNING:absl:You are saving your model as an HDF5 file via `model.save()` or `keras.saving.save_model(model)`. This file format is considered legacy. We recommend using instead the native Keras format, e.g. `model.save('my_model.keras')` or `keras.saving.save_model(model, 'my_model.keras')`. \n"
          ]
        },
        {
          "output_type": "stream",
          "name": "stdout",
          "text": [
            "\b\b\b\b\b\b\b\b\b\b\b\b\b\b\b\b\b\b\b\b\b\b\b\b\b\b\b\b\b\b\b\b\b\b\b\b\b\b\b\b\b\b\b\b\b\b\b\b\b\b\b\b\b\b\b\b\b\b\b\b\b\b\b\b\b\b\b\b\b\b\b\r\u001b[1m81/81\u001b[0m \u001b[32m━━━━━━━━━━━━━━━━━━━━\u001b[0m\u001b[37m\u001b[0m \u001b[1m457s\u001b[0m 6s/step - accuracy: 0.0995 - loss: 5.7247 - val_accuracy: 0.1144 - val_loss: 5.6175\n",
            "Epoch 6/20\n",
            "\u001b[1m81/81\u001b[0m \u001b[32m━━━━━━━━━━━━━━━━━━━━\u001b[0m\u001b[37m\u001b[0m \u001b[1m0s\u001b[0m 6s/step - accuracy: 0.1239 - loss: 5.3588\n",
            "Epoch 6: val_loss improved from 5.61748 to 5.35265, saving model to model_simplernn_best.h5\n"
          ]
        },
        {
          "output_type": "stream",
          "name": "stderr",
          "text": [
            "WARNING:absl:You are saving your model as an HDF5 file via `model.save()` or `keras.saving.save_model(model)`. This file format is considered legacy. We recommend using instead the native Keras format, e.g. `model.save('my_model.keras')` or `keras.saving.save_model(model, 'my_model.keras')`. \n"
          ]
        },
        {
          "output_type": "stream",
          "name": "stdout",
          "text": [
            "\b\b\b\b\b\b\b\b\b\b\b\b\b\b\b\b\b\b\b\b\b\b\b\b\b\b\b\b\b\b\b\b\b\b\b\b\b\b\b\b\b\b\b\b\b\b\b\b\b\b\b\b\b\b\b\b\b\b\b\b\b\b\b\b\b\b\b\b\b\b\b\r\u001b[1m81/81\u001b[0m \u001b[32m━━━━━━━━━━━━━━━━━━━━\u001b[0m\u001b[37m\u001b[0m \u001b[1m516s\u001b[0m 6s/step - accuracy: 0.1239 - loss: 5.3580 - val_accuracy: 0.1304 - val_loss: 5.3527\n",
            "Epoch 7/20\n",
            "\u001b[1m81/81\u001b[0m \u001b[32m━━━━━━━━━━━━━━━━━━━━\u001b[0m\u001b[37m\u001b[0m \u001b[1m0s\u001b[0m 6s/step - accuracy: 0.1414 - loss: 5.0530\n",
            "Epoch 7: val_loss improved from 5.35265 to 5.15896, saving model to model_simplernn_best.h5\n"
          ]
        },
        {
          "output_type": "stream",
          "name": "stderr",
          "text": [
            "WARNING:absl:You are saving your model as an HDF5 file via `model.save()` or `keras.saving.save_model(model)`. This file format is considered legacy. We recommend using instead the native Keras format, e.g. `model.save('my_model.keras')` or `keras.saving.save_model(model, 'my_model.keras')`. \n"
          ]
        },
        {
          "output_type": "stream",
          "name": "stdout",
          "text": [
            "\b\b\b\b\b\b\b\b\b\b\b\b\b\b\b\b\b\b\b\b\b\b\b\b\b\b\b\b\b\b\b\b\b\b\b\b\b\b\b\b\b\b\b\b\b\b\b\b\b\b\b\b\b\b\b\b\b\b\b\b\b\b\b\b\b\b\b\b\b\b\b\r\u001b[1m81/81\u001b[0m \u001b[32m━━━━━━━━━━━━━━━━━━━━\u001b[0m\u001b[37m\u001b[0m \u001b[1m470s\u001b[0m 6s/step - accuracy: 0.1415 - loss: 5.0523 - val_accuracy: 0.1431 - val_loss: 5.1590\n",
            "Epoch 8/20\n",
            "\u001b[1m81/81\u001b[0m \u001b[32m━━━━━━━━━━━━━━━━━━━━\u001b[0m\u001b[37m\u001b[0m \u001b[1m0s\u001b[0m 6s/step - accuracy: 0.1566 - loss: 4.8025\n",
            "Epoch 8: val_loss improved from 5.15896 to 5.00744, saving model to model_simplernn_best.h5\n"
          ]
        },
        {
          "output_type": "stream",
          "name": "stderr",
          "text": [
            "WARNING:absl:You are saving your model as an HDF5 file via `model.save()` or `keras.saving.save_model(model)`. This file format is considered legacy. We recommend using instead the native Keras format, e.g. `model.save('my_model.keras')` or `keras.saving.save_model(model, 'my_model.keras')`. \n"
          ]
        },
        {
          "output_type": "stream",
          "name": "stdout",
          "text": [
            "\b\b\b\b\b\b\b\b\b\b\b\b\b\b\b\b\b\b\b\b\b\b\b\b\b\b\b\b\b\b\b\b\b\b\b\b\b\b\b\b\b\b\b\b\b\b\b\b\b\b\b\b\b\b\b\b\b\b\b\b\b\b\b\b\b\b\b\b\b\b\b\r\u001b[1m81/81\u001b[0m \u001b[32m━━━━━━━━━━━━━━━━━━━━\u001b[0m\u001b[37m\u001b[0m \u001b[1m478s\u001b[0m 6s/step - accuracy: 0.1567 - loss: 4.8020 - val_accuracy: 0.1531 - val_loss: 5.0074\n",
            "Epoch 9/20\n",
            "\u001b[1m81/81\u001b[0m \u001b[32m━━━━━━━━━━━━━━━━━━━━\u001b[0m\u001b[37m\u001b[0m \u001b[1m0s\u001b[0m 5s/step - accuracy: 0.1686 - loss: 4.5967\n",
            "Epoch 9: val_loss improved from 5.00744 to 4.90421, saving model to model_simplernn_best.h5\n"
          ]
        },
        {
          "output_type": "stream",
          "name": "stderr",
          "text": [
            "WARNING:absl:You are saving your model as an HDF5 file via `model.save()` or `keras.saving.save_model(model)`. This file format is considered legacy. We recommend using instead the native Keras format, e.g. `model.save('my_model.keras')` or `keras.saving.save_model(model, 'my_model.keras')`. \n"
          ]
        },
        {
          "output_type": "stream",
          "name": "stdout",
          "text": [
            "\b\b\b\b\b\b\b\b\b\b\b\b\b\b\b\b\b\b\b\b\b\b\b\b\b\b\b\b\b\b\b\b\b\b\b\b\b\b\b\b\b\b\b\b\b\b\b\b\b\b\b\b\b\b\b\b\b\b\b\b\b\b\b\b\b\b\b\b\b\b\b\r\u001b[1m81/81\u001b[0m \u001b[32m━━━━━━━━━━━━━━━━━━━━\u001b[0m\u001b[37m\u001b[0m \u001b[1m487s\u001b[0m 6s/step - accuracy: 0.1686 - loss: 4.5964 - val_accuracy: 0.1610 - val_loss: 4.9042\n",
            "Epoch 10/20\n",
            "\u001b[1m81/81\u001b[0m \u001b[32m━━━━━━━━━━━━━━━━━━━━\u001b[0m\u001b[37m\u001b[0m \u001b[1m0s\u001b[0m 6s/step - accuracy: 0.1781 - loss: 4.4276\n",
            "Epoch 10: val_loss improved from 4.90421 to 4.83278, saving model to model_simplernn_best.h5\n"
          ]
        },
        {
          "output_type": "stream",
          "name": "stderr",
          "text": [
            "WARNING:absl:You are saving your model as an HDF5 file via `model.save()` or `keras.saving.save_model(model)`. This file format is considered legacy. We recommend using instead the native Keras format, e.g. `model.save('my_model.keras')` or `keras.saving.save_model(model, 'my_model.keras')`. \n"
          ]
        },
        {
          "output_type": "stream",
          "name": "stdout",
          "text": [
            "\b\b\b\b\b\b\b\b\b\b\b\b\b\b\b\b\b\b\b\b\b\b\b\b\b\b\b\b\b\b\b\b\b\b\b\b\b\b\b\b\b\b\b\b\b\b\b\b\b\b\b\b\b\b\b\b\b\b\b\b\b\b\b\b\b\b\b\b\b\b\b\r\u001b[1m81/81\u001b[0m \u001b[32m━━━━━━━━━━━━━━━━━━━━\u001b[0m\u001b[37m\u001b[0m \u001b[1m483s\u001b[0m 6s/step - accuracy: 0.1781 - loss: 4.4273 - val_accuracy: 0.1652 - val_loss: 4.8328\n",
            "Epoch 11/20\n",
            "\u001b[1m81/81\u001b[0m \u001b[32m━━━━━━━━━━━━━━━━━━━━\u001b[0m\u001b[37m\u001b[0m \u001b[1m0s\u001b[0m 6s/step - accuracy: 0.1871 - loss: 4.2783\n",
            "Epoch 11: val_loss improved from 4.83278 to 4.74627, saving model to model_simplernn_best.h5\n"
          ]
        },
        {
          "output_type": "stream",
          "name": "stderr",
          "text": [
            "WARNING:absl:You are saving your model as an HDF5 file via `model.save()` or `keras.saving.save_model(model)`. This file format is considered legacy. We recommend using instead the native Keras format, e.g. `model.save('my_model.keras')` or `keras.saving.save_model(model, 'my_model.keras')`. \n"
          ]
        },
        {
          "output_type": "stream",
          "name": "stdout",
          "text": [
            "\b\b\b\b\b\b\b\b\b\b\b\b\b\b\b\b\b\b\b\b\b\b\b\b\b\b\b\b\b\b\b\b\b\b\b\b\b\b\b\b\b\b\b\b\b\b\b\b\b\b\b\b\b\b\b\b\b\b\b\b\b\b\b\b\b\b\b\b\b\b\b\r\u001b[1m81/81\u001b[0m \u001b[32m━━━━━━━━━━━━━━━━━━━━\u001b[0m\u001b[37m\u001b[0m \u001b[1m520s\u001b[0m 6s/step - accuracy: 0.1872 - loss: 4.2780 - val_accuracy: 0.1721 - val_loss: 4.7463\n",
            "Epoch 12/20\n",
            "\u001b[1m81/81\u001b[0m \u001b[32m━━━━━━━━━━━━━━━━━━━━\u001b[0m\u001b[37m\u001b[0m \u001b[1m0s\u001b[0m 6s/step - accuracy: 0.1957 - loss: 4.1389\n",
            "Epoch 12: val_loss improved from 4.74627 to 4.69799, saving model to model_simplernn_best.h5\n"
          ]
        },
        {
          "output_type": "stream",
          "name": "stderr",
          "text": [
            "WARNING:absl:You are saving your model as an HDF5 file via `model.save()` or `keras.saving.save_model(model)`. This file format is considered legacy. We recommend using instead the native Keras format, e.g. `model.save('my_model.keras')` or `keras.saving.save_model(model, 'my_model.keras')`. \n"
          ]
        },
        {
          "output_type": "stream",
          "name": "stdout",
          "text": [
            "\b\b\b\b\b\b\b\b\b\b\b\b\b\b\b\b\b\b\b\b\b\b\b\b\b\b\b\b\b\b\b\b\b\b\b\b\b\b\b\b\b\b\b\b\b\b\b\b\b\b\b\b\b\b\b\b\b\b\b\b\b\b\b\b\b\b\b\b\b\b\b\r\u001b[1m81/81\u001b[0m \u001b[32m━━━━━━━━━━━━━━━━━━━━\u001b[0m\u001b[37m\u001b[0m \u001b[1m474s\u001b[0m 6s/step - accuracy: 0.1957 - loss: 4.1386 - val_accuracy: 0.1765 - val_loss: 4.6980\n",
            "Epoch 13/20\n",
            "\u001b[1m81/81\u001b[0m \u001b[32m━━━━━━━━━━━━━━━━━━━━\u001b[0m\u001b[37m\u001b[0m \u001b[1m0s\u001b[0m 6s/step - accuracy: 0.2032 - loss: 4.0174\n",
            "Epoch 13: val_loss improved from 4.69799 to 4.63662, saving model to model_simplernn_best.h5\n"
          ]
        },
        {
          "output_type": "stream",
          "name": "stderr",
          "text": [
            "WARNING:absl:You are saving your model as an HDF5 file via `model.save()` or `keras.saving.save_model(model)`. This file format is considered legacy. We recommend using instead the native Keras format, e.g. `model.save('my_model.keras')` or `keras.saving.save_model(model, 'my_model.keras')`. \n"
          ]
        },
        {
          "output_type": "stream",
          "name": "stdout",
          "text": [
            "\b\b\b\b\b\b\b\b\b\b\b\b\b\b\b\b\b\b\b\b\b\b\b\b\b\b\b\b\b\b\b\b\b\b\b\b\b\b\b\b\b\b\b\b\b\b\b\b\b\b\b\b\b\b\b\b\b\b\b\b\b\b\b\b\b\b\b\b\b\b\b\r\u001b[1m81/81\u001b[0m \u001b[32m━━━━━━━━━━━━━━━━━━━━\u001b[0m\u001b[37m\u001b[0m \u001b[1m477s\u001b[0m 6s/step - accuracy: 0.2032 - loss: 4.0171 - val_accuracy: 0.1803 - val_loss: 4.6366\n",
            "Epoch 14/20\n",
            "\u001b[1m81/81\u001b[0m \u001b[32m━━━━━━━━━━━━━━━━━━━━\u001b[0m\u001b[37m\u001b[0m \u001b[1m0s\u001b[0m 5s/step - accuracy: 0.2107 - loss: 3.8989\n",
            "Epoch 14: val_loss improved from 4.63662 to 4.59539, saving model to model_simplernn_best.h5\n"
          ]
        },
        {
          "output_type": "stream",
          "name": "stderr",
          "text": [
            "WARNING:absl:You are saving your model as an HDF5 file via `model.save()` or `keras.saving.save_model(model)`. This file format is considered legacy. We recommend using instead the native Keras format, e.g. `model.save('my_model.keras')` or `keras.saving.save_model(model, 'my_model.keras')`. \n"
          ]
        },
        {
          "output_type": "stream",
          "name": "stdout",
          "text": [
            "\b\b\b\b\b\b\b\b\b\b\b\b\b\b\b\b\b\b\b\b\b\b\b\b\b\b\b\b\b\b\b\b\b\b\b\b\b\b\b\b\b\b\b\b\b\b\b\b\b\b\b\b\b\b\b\b\b\b\b\b\b\b\b\b\b\b\b\b\b\b\b\r\u001b[1m81/81\u001b[0m \u001b[32m━━━━━━━━━━━━━━━━━━━━\u001b[0m\u001b[37m\u001b[0m \u001b[1m463s\u001b[0m 6s/step - accuracy: 0.2107 - loss: 3.8986 - val_accuracy: 0.1835 - val_loss: 4.5954\n",
            "Epoch 15/20\n",
            "\u001b[1m81/81\u001b[0m \u001b[32m━━━━━━━━━━━━━━━━━━━━\u001b[0m\u001b[37m\u001b[0m \u001b[1m0s\u001b[0m 6s/step - accuracy: 0.2181 - loss: 3.7878\n",
            "Epoch 15: val_loss improved from 4.59539 to 4.57333, saving model to model_simplernn_best.h5\n"
          ]
        },
        {
          "output_type": "stream",
          "name": "stderr",
          "text": [
            "WARNING:absl:You are saving your model as an HDF5 file via `model.save()` or `keras.saving.save_model(model)`. This file format is considered legacy. We recommend using instead the native Keras format, e.g. `model.save('my_model.keras')` or `keras.saving.save_model(model, 'my_model.keras')`. \n"
          ]
        },
        {
          "output_type": "stream",
          "name": "stdout",
          "text": [
            "\b\b\b\b\b\b\b\b\b\b\b\b\b\b\b\b\b\b\b\b\b\b\b\b\b\b\b\b\b\b\b\b\b\b\b\b\b\b\b\b\b\b\b\b\b\b\b\b\b\b\b\b\b\b\b\b\b\b\b\b\b\b\b\b\b\b\b\b\b\b\b\r\u001b[1m81/81\u001b[0m \u001b[32m━━━━━━━━━━━━━━━━━━━━\u001b[0m\u001b[37m\u001b[0m \u001b[1m523s\u001b[0m 6s/step - accuracy: 0.2181 - loss: 3.7876 - val_accuracy: 0.1854 - val_loss: 4.5733\n",
            "Epoch 16/20\n",
            "\u001b[1m81/81\u001b[0m \u001b[32m━━━━━━━━━━━━━━━━━━━━\u001b[0m\u001b[37m\u001b[0m \u001b[1m0s\u001b[0m 6s/step - accuracy: 0.2256 - loss: 3.6891\n",
            "Epoch 16: val_loss improved from 4.57333 to 4.56066, saving model to model_simplernn_best.h5\n"
          ]
        },
        {
          "output_type": "stream",
          "name": "stderr",
          "text": [
            "WARNING:absl:You are saving your model as an HDF5 file via `model.save()` or `keras.saving.save_model(model)`. This file format is considered legacy. We recommend using instead the native Keras format, e.g. `model.save('my_model.keras')` or `keras.saving.save_model(model, 'my_model.keras')`. \n"
          ]
        },
        {
          "output_type": "stream",
          "name": "stdout",
          "text": [
            "\b\b\b\b\b\b\b\b\b\b\b\b\b\b\b\b\b\b\b\b\b\b\b\b\b\b\b\b\b\b\b\b\b\b\b\b\b\b\b\b\b\b\b\b\b\b\b\b\b\b\b\b\b\b\b\b\b\b\b\b\b\b\b\b\b\b\b\b\b\b\b\r\u001b[1m81/81\u001b[0m \u001b[32m━━━━━━━━━━━━━━━━━━━━\u001b[0m\u001b[37m\u001b[0m \u001b[1m472s\u001b[0m 6s/step - accuracy: 0.2256 - loss: 3.6889 - val_accuracy: 0.1884 - val_loss: 4.5607\n",
            "Epoch 17/20\n",
            "\u001b[1m81/81\u001b[0m \u001b[32m━━━━━━━━━━━━━━━━━━━━\u001b[0m\u001b[37m\u001b[0m \u001b[1m0s\u001b[0m 6s/step - accuracy: 0.2328 - loss: 3.6041\n",
            "Epoch 17: val_loss improved from 4.56066 to 4.52424, saving model to model_simplernn_best.h5\n"
          ]
        },
        {
          "output_type": "stream",
          "name": "stderr",
          "text": [
            "WARNING:absl:You are saving your model as an HDF5 file via `model.save()` or `keras.saving.save_model(model)`. This file format is considered legacy. We recommend using instead the native Keras format, e.g. `model.save('my_model.keras')` or `keras.saving.save_model(model, 'my_model.keras')`. \n"
          ]
        },
        {
          "output_type": "stream",
          "name": "stdout",
          "text": [
            "\b\b\b\b\b\b\b\b\b\b\b\b\b\b\b\b\b\b\b\b\b\b\b\b\b\b\b\b\b\b\b\b\b\b\b\b\b\b\b\b\b\b\b\b\b\b\b\b\b\b\b\b\b\b\b\b\b\b\b\b\b\b\b\b\b\b\b\b\b\b\b\r\u001b[1m81/81\u001b[0m \u001b[32m━━━━━━━━━━━━━━━━━━━━\u001b[0m\u001b[37m\u001b[0m \u001b[1m505s\u001b[0m 6s/step - accuracy: 0.2329 - loss: 3.6039 - val_accuracy: 0.1910 - val_loss: 4.5242\n",
            "Epoch 18/20\n",
            "\u001b[1m81/81\u001b[0m \u001b[32m━━━━━━━━━━━━━━━━━━━━\u001b[0m\u001b[37m\u001b[0m \u001b[1m0s\u001b[0m 6s/step - accuracy: 0.2402 - loss: 3.5128\n",
            "Epoch 18: val_loss did not improve from 4.52424\n",
            "\u001b[1m81/81\u001b[0m \u001b[32m━━━━━━━━━━━━━━━━━━━━\u001b[0m\u001b[37m\u001b[0m \u001b[1m479s\u001b[0m 6s/step - accuracy: 0.2402 - loss: 3.5126 - val_accuracy: 0.1924 - val_loss: 4.5255\n",
            "Epoch 19/20\n",
            "\u001b[1m81/81\u001b[0m \u001b[32m━━━━━━━━━━━━━━━━━━━━\u001b[0m\u001b[37m\u001b[0m \u001b[1m0s\u001b[0m 5s/step - accuracy: 0.2467 - loss: 3.4374\n",
            "Epoch 19: val_loss improved from 4.52424 to 4.50193, saving model to model_simplernn_best.h5\n"
          ]
        },
        {
          "output_type": "stream",
          "name": "stderr",
          "text": [
            "WARNING:absl:You are saving your model as an HDF5 file via `model.save()` or `keras.saving.save_model(model)`. This file format is considered legacy. We recommend using instead the native Keras format, e.g. `model.save('my_model.keras')` or `keras.saving.save_model(model, 'my_model.keras')`. \n"
          ]
        },
        {
          "output_type": "stream",
          "name": "stdout",
          "text": [
            "\b\b\b\b\b\b\b\b\b\b\b\b\b\b\b\b\b\b\b\b\b\b\b\b\b\b\b\b\b\b\b\b\b\b\b\b\b\b\b\b\b\b\b\b\b\b\b\b\b\b\b\b\b\b\b\b\b\b\b\b\b\b\b\b\b\b\b\b\b\b\b\r\u001b[1m81/81\u001b[0m \u001b[32m━━━━━━━━━━━━━━━━━━━━\u001b[0m\u001b[37m\u001b[0m \u001b[1m459s\u001b[0m 6s/step - accuracy: 0.2467 - loss: 3.4373 - val_accuracy: 0.1934 - val_loss: 4.5019\n",
            "Epoch 20/20\n",
            "\u001b[1m81/81\u001b[0m \u001b[32m━━━━━━━━━━━━━━━━━━━━\u001b[0m\u001b[37m\u001b[0m \u001b[1m0s\u001b[0m 6s/step - accuracy: 0.2536 - loss: 3.3646\n",
            "Epoch 20: val_loss improved from 4.50193 to 4.49146, saving model to model_simplernn_best.h5\n"
          ]
        },
        {
          "output_type": "stream",
          "name": "stderr",
          "text": [
            "WARNING:absl:You are saving your model as an HDF5 file via `model.save()` or `keras.saving.save_model(model)`. This file format is considered legacy. We recommend using instead the native Keras format, e.g. `model.save('my_model.keras')` or `keras.saving.save_model(model, 'my_model.keras')`. \n"
          ]
        },
        {
          "output_type": "stream",
          "name": "stdout",
          "text": [
            "\b\b\b\b\b\b\b\b\b\b\b\b\b\b\b\b\b\b\b\b\b\b\b\b\b\b\b\b\b\b\b\b\b\b\b\b\b\b\b\b\b\b\b\b\b\b\b\b\b\b\b\b\b\b\b\b\b\b\b\b\b\b\b\b\b\b\b\b\b\b\b\r\u001b[1m81/81\u001b[0m \u001b[32m━━━━━━━━━━━━━━━━━━━━\u001b[0m\u001b[37m\u001b[0m \u001b[1m469s\u001b[0m 6s/step - accuracy: 0.2537 - loss: 3.3644 - val_accuracy: 0.1959 - val_loss: 4.4915\n",
            "Restoring model weights from the end of the best epoch: 20.\n"
          ]
        }
      ]
    },
    {
      "cell_type": "markdown",
      "source": [
        "### **Visualisasi Performa Model**\n",
        "\n",
        "Grafik berikut menampilkan perkembangan *loss* dan *akurasi* selama proses pelatihan model SimpleRNN.  \n",
        "Tujuannya untuk melihat seberapa baik model belajar dari data latih dan seberapa baik kemampuannya dalam melakukan generalisasi terhadap data validasi.\n"
      ],
      "metadata": {
        "id": "hG9AwIkIFXbf"
      }
    },
    {
      "cell_type": "code",
      "source": [
        "fig, ax = plt.subplots(1, 2, figsize=(14,5))\n",
        "\n",
        "# Grafik Loss\n",
        "ax[0].plot(history.history[\"loss\"], label=\"Train Loss\")\n",
        "ax[0].plot(history.history[\"val_loss\"], label=\"Val Loss\")\n",
        "ax[0].set_title(\"Kurva Loss\")\n",
        "ax[0].set_xlabel(\"Epoch\")\n",
        "ax[0].set_ylabel(\"Loss\")\n",
        "ax[0].legend()\n",
        "\n",
        "# Grafik Akurasi\n",
        "ax[1].plot(history.history[\"accuracy\"], label=\"Train Accuracy\")\n",
        "ax[1].plot(history.history[\"val_accuracy\"], label=\"Val Accuracy\")\n",
        "ax[1].set_title(\"Kurva Akurasi\")\n",
        "ax[1].set_xlabel(\"Epoch\")\n",
        "ax[1].set_ylabel(\"Akurasi\")\n",
        "ax[1].legend()\n",
        "\n",
        "plt.tight_layout()\n",
        "plt.show()\n"
      ],
      "metadata": {
        "colab": {
          "base_uri": "https://localhost:8080/",
          "height": 507
        },
        "id": "JlNTdE8qFYPa",
        "outputId": "9c51fe70-5183-4d4f-8709-8c7a62b1d5de"
      },
      "execution_count": 67,
      "outputs": [
        {
          "output_type": "display_data",
          "data": {
            "text/plain": [
              "<Figure size 1400x500 with 2 Axes>"
            ],
            "image/png": "[encoded data removed]"
          },
          "metadata": {}
        }
      ]
    },
    {
      "cell_type": "markdown",
      "source": [
        "**Penjelasan Grafik**\n",
        "\n",
        "- **Kurva Loss** menunjukkan seberapa besar kesalahan model selama pelatihan.  \n",
        "  Nilai *loss* yang menurun pada train dan val menandakan bahwa model berhasil belajar pola data secara stabil.\n",
        "  \n",
        "- **Kurva Akurasi** memperlihatkan tingkat ketepatan model dalam memprediksi token secara benar.  \n",
        "  Jika *val_accuracy* ikut meningkat bersama *train_accuracy*, berarti model tidak hanya hafal data latih, tapi juga mampu memahami pola pada data baru (tidak overfitting).\n",
        "\n",
        "Secara keseluruhan, kedua grafik ini membantu menilai apakah proses pelatihan berjalan dengan baik dan konvergen."
      ],
      "metadata": {
        "id": "MKVvV_guGtIT"
      }
    },
    {
      "cell_type": "markdown",
      "source": [
        "### **Evaluasi dan Pengujian Model**\n",
        "\n",
        "Pada tahap ini, model **SimpleRNN** diuji menggunakan data *testing* untuk melihat kemampuannya dalam menghasilkan jawaban otomatis terhadap pertanyaan kesehatan.  \n",
        "Fungsi `predict_answer()` digunakan untuk menguji model dengan input pertanyaan dan menghasilkan output teks jawaban.  \n",
        "Hasil prediksi dibandingkan dengan jawaban referensi untuk menilai tingkat relevansi dan koherensi model."
      ],
      "metadata": {
        "id": "TtuIWlicXz3w"
      }
    },
    {
      "cell_type": "code",
      "source": [
        "idx2word_a = {v: k for k, v in tok_a.word_index.items()}\n",
        "idx2word_a[0] = \"<PAD>\"\n",
        "sostok_id = tok_a.word_index[\"sostok\"]\n",
        "eostok_id = tok_a.word_index[\"eostok\"]\n",
        "\n",
        "def predict_answer(question_text, max_len=MAX_LEN_A):\n",
        "    # Ubah pertanyaan menjadi token & padding\n",
        "    q_seq = tok_q.texts_to_sequences([question_text])\n",
        "    q_pad = pad_sequences(q_seq, maxlen=MAX_LEN_Q, padding=\"post\", truncating=\"post\")\n",
        "\n",
        "    # Siapkan input decoder: mulai dari token awal\n",
        "    dec_seq = np.zeros((1, max_len), dtype=\"int32\")\n",
        "    dec_seq[0, 0] = sostok_id\n",
        "\n",
        "    # Greedy decoding: prediksi token demi token\n",
        "    for t in range(1, max_len):\n",
        "        # Prediksi seluruh urutan saat ini, ambil logits posisi terakhir yang terisi\n",
        "        logits = model.predict([q_pad, dec_seq], verbose=0)       # (1, max_len, vocab)\n",
        "        next_id = int(np.argmax(logits[0, t-1, :]))\n",
        "        if next_id in (0, eostok_id):\n",
        "            break\n",
        "        dec_seq[0, t] = next_id\n",
        "\n",
        "    # Konversi token ke kata (buang token khusus)\n",
        "    tokens = [int(x) for x in dec_seq[0] if x not in (0, sostok_id, eostok_id)]\n",
        "    return \" \".join(idx2word_a.get(tok, \"<UNK>\") for tok in tokens).strip()\n",
        "\n",
        "# Uji cepat pada 5 sampel test\n",
        "for i in range(5):\n",
        "    q = df_test[\"question\"][i]\n",
        "    ref = df_test[\"answer\"][i]\n",
        "    pred = predict_answer(q)\n",
        "    print(f\"\\n[Contoh {i+1}]\")\n",
        "    print(\"Pertanyaan :\", q[:300], \"...\" if len(q) > 300 else \"\")\n",
        "    print(\"Model      :\", pred if pred else \"(kosong)\")\n",
        "    print(\"Referensi  :\", ref[:300], \"...\" if len(ref) > 300 else \"\")"
      ],
      "metadata": {
        "colab": {
          "base_uri": "https://localhost:8080/"
        },
        "id": "9-woX3uXX0YK",
        "outputId": "8b3137fa-3998-44eb-eaf4-9ac966ebe37e"
      },
      "execution_count": 68,
      "outputs": [
        {
          "output_type": "stream",
          "name": "stdout",
          "text": [
            "\n",
            "[Contoh 1]\n",
            "Pertanyaan : Halo dok, saya remaja 15 tahun. Saya sedang haid hari ke 3. Biasanya siklus haid saya selama 7 hari. Lusa saya ada pengambilan nilai olahraga renang dok. Semua siswa diwajibkan untuk ikut dok, tapi kan saya sedang haid dok. Apakah ada cara untuk menghentikan darah haid selama saya berenang dok? moho ...\n",
            "Model      : alo terima kasih atas pertanyaannya untuk alodokter kondisi kulit yang terasa gatal dan gatal di kulit yang terasa gatal dan perih di sekitar mata yang terasa nyeri dan terasa nyeri di sekitar dada dan sebagainya\n",
            "Referensi  : Menstruasi sewajarnya akan berlangsung selama 2 hingga 8 hari. Namun, ada saja wanita yang durasi menstruasinya lebih singkat, atau justru lebih lama dari itu. Hal ini banyak dipengaruhi oleh kondisi hormonal, genetik, aktifitas, gaya hidup yang dijalani, kondisi psikis, dan status kesehatan secara  ...\n",
            "\n",
            "[Contoh 2]\n",
            "Pertanyaan : Putra saya usia 15 th, testis kirinya sakit dok, gada bengkak atau apa, itu kira-kira kenapa ya dokter? dan solusi mengatasinya seperti apa dok? soalnya sakit nya itu hilang timbul dokter \n",
            "Model      : alo terima kasih atas pertanyaannya untuk alodokter kondisi kulit yang terasa gatal dan gatal di kulit yang terasa gatal dan perih di sekitar mata yang terasa nyeri dan terasa nyeri di sekitar dada dan sebagainya\n",
            "Referensi  : Alo,Nyeri pada testis dapat disebabkan karena beberapa kondisi berikut ini:EpididimitisOrchitisHidrokelVarikokelHernia inguinalTorsio testisKista epididimisKeganasan pada testisNyeri pada testis bukanlah suatu hal yang normal dan perlu segera dipastikan penyebabnya. Oleh sebab itu saya lebih menyara ...\n",
            "\n",
            "[Contoh 3]\n",
            "Pertanyaan : Dok saya kalau kena gorengan yang bukan masakan sendiri, tenggorokan saya jadi mudah gatal-gatal. Seharian saya kesiksa nih dokter. ini udah lama kaya gini dok, kaya udah kebiasaan. Saya udah coba minum air hangat, wedang jahe, dan permen2 mint agar ini ilang tapi gak mempan juga. Bagaimana cara yan ...\n",
            "Model      : alo terima kasih atas pertanyaannya untuk alodokter kondisi kulit yang terasa gatal dan gatal di kulit yang terasa gatal dan perih di sekitar mata yang terasa nyeri dan terasa nyeri di sekitar dada dan sebagainya\n",
            "Referensi  : Alo, selamat siangtenggorokan gatal dapat disebabkan oleh beberapa hal seperti :reaksi alergiiritasiinfeksi virus atau bakteriradang amandeldan lainnyatenggorokan gatal umumnya tidak berbahya dan tidak perlu penangan khusus, sebab akan sembuh dengan sendirinya dalam waktu 7-10 hari. saran saya untuk ...\n",
            "\n",
            "[Contoh 4]\n",
            "Pertanyaan : Saya berhari-hari susah BAB dok, dan saya ngeden sekuat tenaga pas udahannya anus saya kok jadi muncul benjolan di bagian luar. Itu apa bisa ilang dengan sendirinya dokter? Benjolannya itu benjolan daging dan di pegang gada rasa sakit. Penyakit apa itu dokter namanya? \n",
            "Model      : alo terima kasih atas pertanyaannya untuk alodokter kondisi kulit yang terasa gatal dan gatal di kulit yang terasa gatal dan perih di sekitar mata yang terasa nyeri dan terasa nyeri di sekitar dada dan sebagainya\n",
            "Referensi  : Benjolan di anus yang terasa nyeri, menyerupai daging, dan keluar sehabis sembelit serta mengejan kuat saat BAB mungkin disebabkan oleh wasir eksterna (hemorrhoid eksterna). Wasir sendiri terbentuk akibat pembuluh darah vena di anus yang membengkak dikarenakan tekanan di sekitarnya yang tinggi. Sela ...\n",
            "\n",
            "[Contoh 5]\n",
            "Pertanyaan : Ãƒâ€šÃ‚Â Hai dok, anak saya berusia2 bulan. sejak lahir ubun-ubunnya terlihat agak cembung.. soalnya waktu melahirkan itu saya dibantu dengan vakum, kata dokternya ubun-ubun bayi nantinya bisa kembali normal dok. Tapi sampai anak saya berusia 2 bulan ubun-ubunnya masih aja cembung.. Apa yg harus say ...\n",
            "Model      : alo terima kasih atas pertanyaannya untuk alodokter kondisi kulit yang terasa gatal dan gatal di kulit yang terasa gatal dan perih di sekitar mata yang terasa nyeri dan terasa nyeri di sekitar dada dan sebagainya\n",
            "Referensi  : Ubun-ubun bayi yang cembung sehabis melahirkan dengan bantuan vakum paling sering disebabkan olehcaput succedaneum. Kondisi ini terjadi karena cidera fisik pada saat persalinan yang menyebabkan jaringan lunak di kepala mengalami edema dan membengkak.Di samping itu, mungkin juga cembungnya ubun-ubun  ...\n"
          ]
        }
      ]
    },
    {
      "cell_type": "markdown",
      "source": [
        "### **Kesimpulan**\n",
        "\n",
        "Proyek ini berhasil membangun Chatbot Konsultasi Kesehatan berbasis SimpleRNN dengan arsitektur sequence-to-sequence menggunakan dataset Dokter QnA berbahasa Indonesia yang terdiri dari 5.694 data latih dan 633 data uji. Proses pengembangan dilakukan melalui beberapa tahapan, yaitu pemuatan data, eksplorasi, pembersihan teks, tokenisasi, padding, pembangunan model, serta pelatihan selama 20 epoch.  \n",
        "\n",
        "Selama proses pelatihan, nilai loss mengalami penurunan signifikan dari 7.68 pada epoch pertama menjadi 3.36 pada epoch ke-20, sementara akurasi meningkat dari 0.016 menjadi sekitar 0.25. Nilai validasi juga menunjukkan tren serupa dengan penurunan loss dari 6.80 menjadi 4.49 dan peningkatan akurasi hingga 0.19. Hasil ini menandakan bahwa model berhasil mempelajari pola pertanyaan dan jawaban dari data pelatihan.  \n",
        "\n",
        "Namun, hasil pengujian memperlihatkan bahwa respons yang dihasilkan model masih bersifat umum dan repetitif. Pola kalimat seperti “Alo terima kasih atas pertanyaannya...” sering muncul karena keterbatasan SimpleRNN dalam mengingat konteks panjang, distribusi data yang tidak seimbang, serta metode greedy decoding yang cenderung memilih token dengan probabilitas tertinggi secara berulang.  \n",
        "\n",
        "Secara keseluruhan, model SimpleRNN ini telah berfungsi sesuai tujuan sebagai baseline chatbot untuk simulasi konsultasi kesehatan."
      ],
      "metadata": {
        "id": "kMt2kWTmdjFX"
      }
    }
  ]
}