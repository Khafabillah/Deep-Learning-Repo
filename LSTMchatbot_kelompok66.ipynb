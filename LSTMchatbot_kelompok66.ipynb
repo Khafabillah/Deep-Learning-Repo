{
  "nbformat": 4,
  "nbformat_minor": 0,
  "metadata": {
    "colab": {
      "provenance": []
    },
    "kernelspec": {
      "name": "python3",
      "display_name": "Python 3"
    },
    "language_info": {
      "name": "python"
    }
  },
  "cells": [
    {
      "cell_type": "markdown",
      "source": [
        "# **Pembuatan Chatbot Konsultasi Kesehatan Menggunakan LSTM**\n",
        "\n",
        "## **Kelompok 66 — Mata Kuliah Deep Learning**  \n",
        "**Universitas Pendidikan Indonesia**  \n",
        "**Semester 5 — Tahun 2025**\n",
        "\n",
        "### **Anggota**\n",
        "- **Muhamad Khafabillah Sopian** (2307824)  \n",
        "- **Abyan Laksono** (2304127)\n",
        "\n",
        "---\n",
        "\n",
        "## **Deskripsi Proyek**\n",
        "\n",
        "Proyek ini bertujuan untuk membangun model **Chatbot Konsultasi Kesehatan** berbasis **Recurrent Neural Network (RNN)** dengan arsitektur **Long Short-Term Memory (LSTM)**.  \n",
        "Model ini dikembangkan untuk menguji kemampuan LSTM dalam memahami konteks kalimat dan menghasilkan respons yang lebih akurat terhadap pertanyaan kesehatan dalam Bahasa Indonesia.  \n",
        "\n",
        "Dataset yang digunakan berisi pasangan pertanyaan dan jawaban dari layanan konsultasi kesehatan berbahasa Indonesia.  \n",
        "Seluruh proses dilakukan melalui tahapan pemuatan data, eksplorasi, pembersihan teks, tokenisasi, padding, pembangunan model, serta evaluasi hasil prediksi.  \n",
        "Hasil dari model ini diharapkan dapat menunjukkan peningkatan kemampuan dalam menangkap konteks jangka panjang dibandingkan model berbasis RNN sederhana."
      ],
      "metadata": {
        "id": "N0HBI3vipCZz"
      }
    },
    {
      "cell_type": "markdown",
      "source": [
        "# **Pembuatan Chatbot Konsultasi Kesehatan Menggunakan LSTM**\n",
        "\n",
        "## **Kelompok 66 — Mata Kuliah Deep Learning**  \n",
        "**Universitas Pendidikan Indonesia**  \n",
        "**Semester 5 — Tahun 2025**\n",
        "\n",
        "### **Anggota**\n",
        "- **Muhamad Khafabillah Sopian** (2307824)  \n",
        "- **Abyan Laksono** (2304127)\n",
        "\n",
        "---\n",
        "\n",
        "## **Deskripsi Proyek**\n",
        "\n",
        "Proyek ini bertujuan untuk membangun model **Chatbot Konsultasi Kesehatan** berbasis **Recurrent Neural Network (RNN)** dengan arsitektur **Long Short-Term Memory (LSTM)**.  \n",
        "Model ini dikembangkan untuk menguji kemampuan LSTM dalam memahami konteks kalimat dan menghasilkan respons yang lebih akurat terhadap pertanyaan kesehatan dalam Bahasa Indonesia.  \n",
        "\n",
        "Dataset yang digunakan berisi pasangan pertanyaan dan jawaban dari layanan konsultasi kesehatan berbahasa Indonesia.  \n",
        "Seluruh proses dilakukan melalui tahapan pemuatan data, eksplorasi, pembersihan teks, tokenisasi, padding, pembangunan model, serta evaluasi hasil prediksi.  \n",
        "Hasil dari model ini diharapkan dapat menunjukkan peningkatan kemampuan dalam menangkap konteks jangka panjang dibandingkan model berbasis RNN sederhana."
      ],
      "metadata": {
        "id": "uAaUY63ErI5-"
      }
    },
    {
      "cell_type": "markdown",
      "source": [
        "### **Import Library**\n",
        "\n",
        "Pada tahap ini dilakukan pemanggilan seluruh pustaka (library) yang digunakan dalam pembangunan model Chatbot berbasis **LSTM**.  \n",
        "Beberapa pustaka utama yang digunakan meliputi:  \n",
        "\n",
        "- **Pandas & NumPy:** untuk membaca dan mengelola data dalam bentuk tabel.  \n",
        "- **TensorFlow/Keras:** untuk membangun dan melatih model LSTM.  \n",
        "- **Tokenizer & pad_sequences:** untuk proses tokenisasi dan standarisasi panjang teks.  \n",
        "- **Matplotlib:** untuk visualisasi grafik hasil pelatihan.  \n",
        "- **NLTK:** untuk evaluasi hasil teks dengan metrik seperti BLEU Score.  \n",
        "- **scikit-learn:** untuk membagi data menjadi train dan test set.  \n",
        "- **os & random:** untuk pengaturan path dan menjaga konsistensi hasil eksperimen."
      ],
      "metadata": {
        "id": "LD5Hi15WfqUK"
      }
    },
    {
      "cell_type": "code",
      "source": [
        "import pandas as pd\n",
        "import numpy as np\n",
        "import tensorflow as tf\n",
        "import os\n",
        "import random\n",
        "import re\n",
        "import string\n",
        "import matplotlib.pyplot as plt\n",
        "\n",
        "from tensorflow.keras.preprocessing.text import Tokenizer\n",
        "from tensorflow.keras.preprocessing.sequence import pad_sequences\n",
        "from tensorflow.keras.models import Model\n",
        "from tensorflow.keras.layers import Input, Embedding, LSTM, Dense\n",
        "from sklearn.model_selection import train_test_split\n",
        "\n",
        "import nltk\n",
        "from nltk.translate.bleu_score import sentence_bleu, SmoothingFunction\n",
        "\n",
        "from google.colab import drive"
      ],
      "metadata": {
        "id": "dL1A3WpCrJjr"
      },
      "execution_count": 12,
      "outputs": []
    },
    {
      "cell_type": "markdown",
      "source": [
        "## **Load Data**\n",
        "\n",
        "### **Penjelasan Singkat**\n",
        "Tahap ini bertujuan untuk **memuat dataset chatbot** dari direktori Google Drive ke dalam lingkungan kerja (misalnya Google Colab).  \n",
        "Dataset yang digunakan terdiri dari dua bagian:\n",
        "- `doctorQnA_train.csv` → digunakan untuk proses pelatihan model.  \n",
        "- `doctorQnA_test.csv` → digunakan untuk pengujian performa model.  \n",
        "\n",
        "Pada tahap ini, kita hanya membaca data dan menampilkan informasi dasarnya seperti jumlah baris, kolom, serta beberapa contoh isi data.  \n",
        "Proses pembersihan atau penyaringan data akan dilakukan nanti pada tahap *Exploratory Data Analysis (EDA)* dan *Praproses*.\n"
      ],
      "metadata": {
        "id": "dTyCEFO0sMXa"
      }
    },
    {
      "cell_type": "code",
      "source": [
        "drive.mount('/content/drive')\n",
        "\n",
        "BASE_DIR = \"/content/drive/MyDrive/Deep Learning\"\n",
        "TRAIN_FILE = \"doctorQnA_train.csv\"\n",
        "TEST_FILE  = \"doctorQnA_test.csv\"\n",
        "\n",
        "train_path = os.path.join(BASE_DIR, TRAIN_FILE)\n",
        "test_path  = os.path.join(BASE_DIR, TEST_FILE)\n",
        "\n",
        "df_train = pd.read_csv(train_path, encoding=\"utf-8\")\n",
        "df_test  = pd.read_csv(test_path, encoding=\"utf-8\")\n",
        "\n",
        "print(\"=== INFORMASI DATA TRAIN ===\")\n",
        "print(df_train.info())\n",
        "print(\"\\n=== INFORMASI DATA TEST ===\")\n",
        "print(df_test.info())\n",
        "\n",
        "print(\"\\nJumlah baris dan kolom (Train):\", df_train.shape)\n",
        "print(\"Jumlah baris dan kolom (Test) :\", df_test.shape)\n",
        "\n",
        "print(\"\\nContoh data train:\")\n",
        "print(df_train.head())\n",
        "\n",
        "print(\"\\nContoh data test:\")\n",
        "print(df_test.head())\n"
      ],
      "metadata": {
        "colab": {
          "base_uri": "https://localhost:8080/"
        },
        "id": "1233cGlcsMwJ",
        "outputId": "b965b3c4-a71a-4ec6-fef8-c3c5382f370d"
      },
      "execution_count": 13,
      "outputs": [
        {
          "output_type": "stream",
          "name": "stdout",
          "text": [
            "Mounted at /content/drive\n",
            "=== INFORMASI DATA TRAIN ===\n",
            "<class 'pandas.core.frame.DataFrame'>\n",
            "RangeIndex: 5694 entries, 0 to 5693\n",
            "Data columns (total 2 columns):\n",
            " #   Column    Non-Null Count  Dtype \n",
            "---  ------    --------------  ----- \n",
            " 0   question  5694 non-null   object\n",
            " 1   answer    5694 non-null   object\n",
            "dtypes: object(2)\n",
            "memory usage: 89.1+ KB\n",
            "None\n",
            "\n",
            "=== INFORMASI DATA TEST ===\n",
            "<class 'pandas.core.frame.DataFrame'>\n",
            "RangeIndex: 633 entries, 0 to 632\n",
            "Data columns (total 2 columns):\n",
            " #   Column    Non-Null Count  Dtype \n",
            "---  ------    --------------  ----- \n",
            " 0   question  633 non-null    object\n",
            " 1   answer    633 non-null    object\n",
            "dtypes: object(2)\n",
            "memory usage: 10.0+ KB\n",
            "None\n",
            "\n",
            "Jumlah baris dan kolom (Train): (5694, 2)\n",
            "Jumlah baris dan kolom (Test) : (633, 2)\n",
            "\n",
            "Contoh data train:\n",
            "                                            question  \\\n",
            "0  Assalamaualaikum dok, saya mau konsul mengenai...   \n",
            "1  Selamat sore dok, kemarin saya terpeleset, ter...   \n",
            "2  Selamat sore dok, minggu kemarin anak saya sun...   \n",
            "3  Selamat Sore alodokter, dok maaf ganggu saya m...   \n",
            "4  Dok, saya mau bertanya. Saya wanita umur 20th ...   \n",
            "\n",
            "                                              answer  \n",
            "0  Waalaikumsalm. warna fases bayi serta konsentr...  \n",
            "1  cedera ligamen lutut anterior (ACL) ialah suat...  \n",
            "2  Beragam metode sunat (sirkumsisi) tersedia saa...  \n",
            "3  Luka di lutut sehabis terjatuh dari motor yang...  \n",
            "4  Alo, selamat siangkeluhan nyeri atau kram pada...  \n",
            "\n",
            "Contoh data test:\n",
            "                                            question  \\\n",
            "0  Halo dok, saya remaja 15 tahun. Saya sedang ha...   \n",
            "1  Putra saya usia 15 th, testis kirinya sakit do...   \n",
            "2  Dok saya kalau kena gorengan yang bukan masaka...   \n",
            "3  Saya berhari-hari susah BAB dok, dan saya nged...   \n",
            "4  Ãƒâ€šÃ‚Â Hai dok, anak saya berusia2 bulan. se...   \n",
            "\n",
            "                                              answer  \n",
            "0  Menstruasi sewajarnya akan berlangsung selama ...  \n",
            "1  Alo,Nyeri pada testis dapat disebabkan karena ...  \n",
            "2  Alo, selamat siangtenggorokan gatal dapat dise...  \n",
            "3  Benjolan di anus yang terasa nyeri, menyerupai...  \n",
            "4  Ubun-ubun bayi yang cembung sehabis melahirkan...  \n"
          ]
        }
      ]
    },
    {
      "cell_type": "markdown",
      "source": [
        "### **Exploratory Data Analysis (EDA)**\n",
        "\n",
        "Pada bagian ini dilakukan analisis awal terhadap dataset untuk memahami karakteristik data sebelum dilakukan praprosesan.  \n",
        "Analisis meliputi:\n",
        "1. Jumlah data pada train dan test set.  \n",
        "2. Pemeriksaan nilai kosong (missing values).  \n",
        "3. Pengamatan panjang teks pada kolom **question** dan **answer** untuk melihat sebaran panjang kalimat."
      ],
      "metadata": {
        "id": "nMhVgp9v2A8S"
      }
    },
    {
      "cell_type": "code",
      "source": [
        "# Jumlah data\n",
        "print(\"Jumlah data train :\", len(df_train))\n",
        "print(\"Jumlah data test  :\", len(df_test))\n",
        "\n",
        "# Cek nilai kosong\n",
        "print(\"\\nJumlah nilai kosong per kolom (train):\")\n",
        "print(df_train.isnull().sum())\n",
        "\n",
        "print(\"\\nJumlah nilai kosong per kolom (test):\")\n",
        "print(df_test.isnull().sum())\n",
        "\n",
        "# Panjang teks pada kolom question dan answer\n",
        "df_train[\"q_length\"] = df_train[\"question\"].apply(len)\n",
        "df_train[\"a_length\"] = df_train[\"answer\"].apply(len)\n",
        "df_test[\"q_length\"] = df_test[\"question\"].apply(len)\n",
        "df_test[\"a_length\"] = df_test[\"answer\"].apply(len)\n",
        "\n",
        "print(\"\\nRata-rata panjang karakter dalam teks (train):\")\n",
        "print(\"Pertanyaan :\", df_train[\"q_length\"].mean())\n",
        "print(\"Jawaban    :\", df_train[\"a_length\"].mean())\n",
        "\n",
        "print(\"\\nRata-rata panjang karakter dalam teks (test):\")\n",
        "print(\"Pertanyaan :\", df_test[\"q_length\"].mean())\n",
        "print(\"Jawaban    :\", df_test[\"a_length\"].mean())"
      ],
      "metadata": {
        "colab": {
          "base_uri": "https://localhost:8080/"
        },
        "id": "oHtLYjFY2BdL",
        "outputId": "18d8d013-20a3-4941-9f5a-a4f04b4b2e19"
      },
      "execution_count": 14,
      "outputs": [
        {
          "output_type": "stream",
          "name": "stdout",
          "text": [
            "Jumlah data train : 5694\n",
            "Jumlah data test  : 633\n",
            "\n",
            "Jumlah nilai kosong per kolom (train):\n",
            "question    0\n",
            "answer      0\n",
            "dtype: int64\n",
            "\n",
            "Jumlah nilai kosong per kolom (test):\n",
            "question    0\n",
            "answer      0\n",
            "dtype: int64\n",
            "\n",
            "Rata-rata panjang karakter dalam teks (train):\n",
            "Pertanyaan : 285.11433087460483\n",
            "Jawaban    : 439.3602037232174\n",
            "\n",
            "Rata-rata panjang karakter dalam teks (test):\n",
            "Pertanyaan : 284.01895734597156\n",
            "Jawaban    : 445.97630331753555\n"
          ]
        }
      ]
    },
    {
      "cell_type": "markdown",
      "source": [
        "### **Visualisasi Distribusi Panjang Teks**\n",
        "\n",
        "Visualisasi ini digunakan untuk melihat persebaran panjang teks pada kolom **question** dan **answer**.  \n",
        "Grafik histogram membantu memahami apakah sebagian besar pertanyaan dan jawaban memiliki panjang yang mirip, atau terdapat variasi yang signifikan."
      ],
      "metadata": {
        "id": "qfnMUXIe2OPT"
      }
    },
    {
      "cell_type": "code",
      "source": [
        "plt.figure(figsize=(10,5))\n",
        "plt.hist(df_train[\"q_length\"], bins=50, alpha=0.7, label=\"Question length\")\n",
        "plt.hist(df_train[\"a_length\"], bins=50, alpha=0.7, label=\"Answer length\")\n",
        "plt.title(\"Distribusi Panjang Teks (Train Set)\")\n",
        "plt.xlabel(\"Jumlah Karakter\")\n",
        "plt.ylabel(\"Frekuensi\")\n",
        "plt.legend()\n",
        "plt.show()"
      ],
      "metadata": {
        "colab": {
          "base_uri": "https://localhost:8080/",
          "height": 487
        },
        "id": "1w0uO3eG2P7e",
        "outputId": "21c199c6-54a1-4512-ca15-e81cd9033306"
      },
      "execution_count": 15,
      "outputs": [
        {
          "output_type": "display_data",
          "data": {
            "text/plain": [
              "<Figure size 1000x500 with 1 Axes>"
            ],
            "image/png": "[encoded data removed]"
          },
          "metadata": {}
        }
      ]
    },
    {
      "cell_type": "markdown",
      "source": [
        "**Penjelasan Hasil Visualisasi**\n",
        "\n",
        "Grafik di atas menampilkan **distribusi panjang teks** untuk kolom *question* (pertanyaan) dan *answer* (jawaban) pada dataset pelatihan.  \n",
        "Dari grafik tersebut dapat diamati bahwa sebagian besar teks memiliki panjang dalam rentang **sekitar 100 hingga 600 karakter**, dengan puncak frekuensi pada kisaran **250–400 karakter**.  \n",
        "\n",
        "Hal ini menunjukkan bahwa pertanyaan dan jawaban dalam dataset memiliki **panjang yang relatif seragam** serta tidak terdapat perbedaan yang signifikan antara distribusi keduanya.  \n",
        "Informasi ini penting untuk menentukan parameter **`maxlen`** saat proses tokenisasi, agar semua urutan teks memiliki panjang yang sesuai tanpa kehilangan konteks penting."
      ],
      "metadata": {
        "id": "4be5L3NK20Si"
      }
    },
    {
      "cell_type": "markdown",
      "source": [
        "### **Praproses Data**\n",
        "\n",
        "Tahap praproses bertujuan untuk **membersihkan teks** agar siap digunakan dalam pelatihan model.  \n",
        "Beberapa langkah yang dilakukan meliputi:\n",
        "1. Mengubah seluruh teks menjadi huruf kecil (*lowercasing*).  \n",
        "2. Menghapus karakter yang tidak diperlukan seperti angka, tanda baca, dan simbol.  \n",
        "3. Menghapus spasi berlebih.  \n",
        "4. Membersihkan karakter yang tidak terbaca akibat encoding (misalnya karakter aneh pada dataset).  \n",
        "\n",
        "Langkah ini penting agar data yang dimasukkan ke model lebih konsisten dan mudah dipelajari oleh Neural Network."
      ],
      "metadata": {
        "id": "lf5aaci13AHN"
      }
    },
    {
      "cell_type": "code",
      "source": [
        "# Membersihkan teks pada kolom question dan answer\n",
        "\n",
        "def clean_text(text):\n",
        "    text = str(text).lower()                        # ubah ke huruf kecil\n",
        "    text = re.sub(r\"http\\\\S+|www\\\\S+\", \" \", text)   # hapus URL\n",
        "    text = re.sub(r\"[^a-zA-Z0-9\\\\s]\", \" \", text)    # hapus tanda baca & simbol\n",
        "    text = re.sub(r\"\\\\s+\", \" \", text).strip()       # hapus spasi berlebih\n",
        "    return text\n",
        "\n",
        "df_train[\"clean_question\"] = df_train[\"question\"].apply(clean_text)\n",
        "df_train[\"clean_answer\"]   = df_train[\"answer\"].apply(clean_text)\n",
        "df_test[\"clean_question\"]  = df_test[\"question\"].apply(clean_text)\n",
        "df_test[\"clean_answer\"]    = df_test[\"answer\"].apply(clean_text)\n",
        "\n",
        "# Cek hasil pembersihan\n",
        "print(\"Sebelum dibersihkan:\")\n",
        "print(df_train.loc[0, \"question\"])\n",
        "print(\"\\nSetelah dibersihkan:\")\n",
        "print(df_train.loc[0, \"clean_question\"])"
      ],
      "metadata": {
        "colab": {
          "base_uri": "https://localhost:8080/"
        },
        "id": "Ag35KFBL3AgZ",
        "outputId": "6c00dae9-9991-4896-9f68-406c4c641e49"
      },
      "execution_count": 16,
      "outputs": [
        {
          "output_type": "stream",
          "name": "stdout",
          "text": [
            "Sebelum dibersihkan:\n",
            "Assalamaualaikum dok, saya mau konsul mengenai feses bayi. Bayi saya baru berusia 3 bulan, semalam pup warna fesesnya kuning pucat. Padahal sore harinya saat pup fesesnya berwarna normal, bayi saya minum asui dan sufor dok. Kondisinya bayi saya tidak sedang demam, tidak rewel dan masih aktif. Apakah berbahaya dok?\n",
            "\n",
            "Setelah dibersihkan:\n",
            "assalamaualaikum dok  saya mau konsul mengenai feses bayi  bayi saya baru berusia 3 bulan  semalam pup warna fesesnya kuning pucat  padahal sore harinya saat pup fesesnya berwarna normal  bayi saya minum asui dan sufor dok  kondisinya bayi saya tidak sedang demam  tidak rewel dan masih aktif  apakah berbahaya dok\n"
          ]
        }
      ]
    },
    {
      "cell_type": "markdown",
      "source": [
        "### Tokenisasi dan Padding\n",
        "\n",
        "Langkah ini menyiapkan data teks menjadi bentuk numerik agar dapat diproses oleh model **LSTM** (seq2seq).  \n",
        "Proses yang dilakukan:\n",
        "- Membuat tokenizer untuk pertanyaan (encoder) dan jawaban (decoder).\n",
        "- Menambahkan token khusus pada jawaban (`sostok` sebagai penanda awal dan `eostok` sebagai penanda akhir).\n",
        "- Mengonversi setiap teks menjadi deretan angka (sequence) dengan *out-of-vocabulary* token untuk kata di luar kosakata.\n",
        "- Melakukan padding agar seluruh urutan memiliki panjang seragam berdasarkan persentil panjang kalimat."
      ],
      "metadata": {
        "id": "QS6RZYyL_e_4"
      }
    },
    {
      "cell_type": "code",
      "source": [
        "Q_COL = \"clean_question\" if \"clean_question\" in df_train.columns else \"question\"\n",
        "A_COL = \"clean_answer\" if \"clean_answer\" in df_train.columns else \"answer\"\n",
        "\n",
        "train_questions = df_train[Q_COL].astype(str).tolist()\n",
        "train_answers   = df_train[A_COL].astype(str).tolist()\n",
        "test_questions  = df_test[Q_COL].astype(str).tolist()\n",
        "test_answers    = df_test[A_COL].astype(str).tolist()\n",
        "\n",
        "# Tambah token khusus ke jawaban\n",
        "train_answers_inp  = [f\"sostok {t}\" for t in train_answers]\n",
        "train_answers_out  = [f\"{t} eostok\" for t in train_answers]\n",
        "test_answers_inp   = [f\"sostok {t}\" for t in test_answers]\n",
        "test_answers_out   = [f\"{t} eostok\" for t in test_answers]\n",
        "\n",
        "# Batas kosakata (boleh tetap 30k; opsional diturunkan jika ingin lebih ringan)\n",
        "VOCAB_Q = 30000\n",
        "VOCAB_A = 30000\n",
        "\n",
        "tok_q = Tokenizer(num_words=VOCAB_Q, oov_token=\"<OOV>\")\n",
        "tok_a = Tokenizer(num_words=VOCAB_A, oov_token=\"<OOV>\")\n",
        "\n",
        "# Fit hanya pada data latih untuk mencegah kebocoran data\n",
        "tok_q.fit_on_texts(train_questions)\n",
        "tok_a.fit_on_texts(train_answers_inp + train_answers_out)\n",
        "\n",
        "def pct95_len(texts):\n",
        "    lengths = np.array([len(t.split()) for t in texts])\n",
        "    return int(np.percentile(lengths, 95))\n",
        "\n",
        "MAX_LEN_Q = max(8, pct95_len(train_questions))\n",
        "MAX_LEN_A = max(8, pct95_len(train_answers_out))\n",
        "\n",
        "# Sequences\n",
        "enc_train    = tok_q.texts_to_sequences(train_questions)\n",
        "dec_in_train = tok_a.texts_to_sequences(train_answers_inp)\n",
        "dec_out_train= tok_a.texts_to_sequences(train_answers_out)\n",
        "\n",
        "enc_test     = tok_q.texts_to_sequences(test_questions)\n",
        "dec_in_test  = tok_a.texts_to_sequences(test_answers_inp)\n",
        "dec_out_test = tok_a.texts_to_sequences(test_answers_out)\n",
        "\n",
        "# Padding\n",
        "enc_train_pad    = pad_sequences(enc_train,    maxlen=MAX_LEN_Q, padding=\"post\", truncating=\"post\")\n",
        "dec_in_train_pad = pad_sequences(dec_in_train, maxlen=MAX_LEN_A, padding=\"post\", truncating=\"post\")\n",
        "dec_out_train_pad= pad_sequences(dec_out_train,maxlen=MAX_LEN_A, padding=\"post\", truncating=\"post\")\n",
        "\n",
        "enc_test_pad     = pad_sequences(enc_test,     maxlen=MAX_LEN_Q, padding=\"post\", truncating=\"post\")\n",
        "dec_in_test_pad  = pad_sequences(dec_in_test,  maxlen=MAX_LEN_A, padding=\"post\", truncating=\"post\")\n",
        "dec_out_test_pad = pad_sequences(dec_out_test, maxlen=MAX_LEN_A, padding=\"post\", truncating=\"post\")\n",
        "\n",
        "print(\"Jumlah kata unik encoder :\", len(tok_q.word_index))\n",
        "print(\"Jumlah kata unik decoder :\", len(tok_a.word_index))\n",
        "print(\"MAX_LEN_Q:\", MAX_LEN_Q, \"| MAX_LEN_A:\", MAX_LEN_A)\n",
        "print(\"enc_train_pad:\", enc_train_pad.shape, \"| dec_in_train_pad:\", dec_in_train_pad.shape)"
      ],
      "metadata": {
        "id": "OveaUNsa_2kS",
        "colab": {
          "base_uri": "https://localhost:8080/"
        },
        "outputId": "490d92cd-6be2-499d-cef9-550e653f5d65"
      },
      "execution_count": 17,
      "outputs": [
        {
          "output_type": "stream",
          "name": "stdout",
          "text": [
            "Jumlah kata unik encoder : 9393\n",
            "Jumlah kata unik decoder : 11822\n",
            "MAX_LEN_Q: 70 | MAX_LEN_A: 84\n",
            "enc_train_pad: (5694, 70) | dec_in_train_pad: (5694, 84)\n"
          ]
        }
      ]
    },
    {
      "cell_type": "markdown",
      "source": [
        "### **Pembangunan Model (LSTM Encoder–Decoder)**\n",
        "\n",
        "Model ini menggunakan arsitektur **sequence-to-sequence (seq2seq)** berbasis **LSTM**.  \n",
        "LSTM dipilih karena mampu mengingat konteks jangka panjang melalui mekanisme *cell state* dan *gates* (input, forget, output) yang tidak dimiliki SimpleRNN.  \n",
        "\n",
        "Komponen utama:\n",
        "- **Embedding Layer:** mengubah indeks kata menjadi representasi vektor.  \n",
        "- **Encoder LSTM:** memahami konteks pertanyaan dan menghasilkan *context vector*.  \n",
        "- **Decoder LSTM:** menghasilkan token jawaban berdasarkan konteks dari encoder.  \n",
        "- **Dense Layer:** memprediksi token berikutnya di setiap langkah waktu dengan aktivasi *softmax*.\n"
      ],
      "metadata": {
        "id": "nVH4Iuqrh5Z-"
      }
    },
    {
      "cell_type": "code",
      "source": [
        "# Parameter dasar\n",
        "EMBED_DIM = 256\n",
        "LSTM_UNITS = 256\n",
        "VOCAB_IN  = min(VOCAB_Q, len(tok_q.word_index) + 1)\n",
        "VOCAB_OUT = min(VOCAB_A, len(tok_a.word_index) + 1)\n",
        "\n",
        "# Encoder\n",
        "enc_inputs = Input(shape=(MAX_LEN_Q,), name=\"encoder_input\")\n",
        "enc_emb = Embedding(VOCAB_IN, EMBED_DIM, mask_zero=True, name=\"encoder_embedding\")(enc_inputs)\n",
        "enc_lstm, state_h, state_c = LSTM(LSTM_UNITS, return_state=True, name=\"encoder_lstm\")(enc_emb)\n",
        "enc_states = [state_h, state_c]\n",
        "\n",
        "# Decoder\n",
        "dec_inputs = Input(shape=(MAX_LEN_A,), name=\"decoder_input\")\n",
        "dec_emb = Embedding(VOCAB_OUT, EMBED_DIM, mask_zero=True, name=\"decoder_embedding\")(dec_inputs)\n",
        "dec_lstm, _, _ = LSTM(LSTM_UNITS, return_sequences=True, return_state=True, name=\"decoder_lstm\")(dec_emb, initial_state=enc_states)\n",
        "dec_dense = Dense(VOCAB_OUT, activation=\"softmax\", name=\"decoder_dense\")(dec_lstm)\n",
        "\n",
        "# Model gabungan encoder-decoder\n",
        "model = Model([enc_inputs, dec_inputs], dec_dense)\n",
        "model.compile(optimizer=\"adam\", loss=\"sparse_categorical_crossentropy\", metrics=[\"accuracy\"])\n",
        "model.summary()"
      ],
      "metadata": {
        "colab": {
          "base_uri": "https://localhost:8080/",
          "height": 539
        },
        "id": "sLgQYcjeiSa-",
        "outputId": "4d5b9903-c96b-4721-9e66-e17dbb52f651"
      },
      "execution_count": 18,
      "outputs": [
        {
          "output_type": "display_data",
          "data": {
            "text/plain": [
              "\u001b[1mModel: \"functional\"\u001b[0m\n"
            ],
            "text/html": [
              "<pre style=\"white-space:pre;overflow-x:auto;line-height:normal;font-family:Menlo,'DejaVu Sans Mono',consolas,'Courier New',monospace\"><span style=\"font-weight: bold\">Model: \"functional\"</span>\n",
              "</pre>\n"
            ]
          },
          "metadata": {}
        },
        {
          "output_type": "display_data",
          "data": {
            "text/plain": [
              "┏━━━━━━━━━━━━━━━━━━━━━┳━━━━━━━━━━━━━━━━━━━┳━━━━━━━━━━━━┳━━━━━━━━━━━━━━━━━━━┓\n",
              "┃\u001b[1m \u001b[0m\u001b[1mLayer (type)       \u001b[0m\u001b[1m \u001b[0m┃\u001b[1m \u001b[0m\u001b[1mOutput Shape     \u001b[0m\u001b[1m \u001b[0m┃\u001b[1m \u001b[0m\u001b[1m   Param #\u001b[0m\u001b[1m \u001b[0m┃\u001b[1m \u001b[0m\u001b[1mConnected to     \u001b[0m\u001b[1m \u001b[0m┃\n",
              "┡━━━━━━━━━━━━━━━━━━━━━╇━━━━━━━━━━━━━━━━━━━╇━━━━━━━━━━━━╇━━━━━━━━━━━━━━━━━━━┩\n",
              "│ encoder_input       │ (\u001b[38;5;45mNone\u001b[0m, \u001b[38;5;34m70\u001b[0m)        │          \u001b[38;5;34m0\u001b[0m │ -                 │\n",
              "│ (\u001b[38;5;33mInputLayer\u001b[0m)        │                   │            │                   │\n",
              "├─────────────────────┼───────────────────┼────────────┼───────────────────┤\n",
              "│ decoder_input       │ (\u001b[38;5;45mNone\u001b[0m, \u001b[38;5;34m84\u001b[0m)        │          \u001b[38;5;34m0\u001b[0m │ -                 │\n",
              "│ (\u001b[38;5;33mInputLayer\u001b[0m)        │                   │            │                   │\n",
              "├─────────────────────┼───────────────────┼────────────┼───────────────────┤\n",
              "│ encoder_embedding   │ (\u001b[38;5;45mNone\u001b[0m, \u001b[38;5;34m70\u001b[0m, \u001b[38;5;34m256\u001b[0m)   │  \u001b[38;5;34m2,404,864\u001b[0m │ encoder_input[\u001b[38;5;34m0\u001b[0m]… │\n",
              "│ (\u001b[38;5;33mEmbedding\u001b[0m)         │                   │            │                   │\n",
              "├─────────────────────┼───────────────────┼────────────┼───────────────────┤\n",
              "│ not_equal           │ (\u001b[38;5;45mNone\u001b[0m, \u001b[38;5;34m70\u001b[0m)        │          \u001b[38;5;34m0\u001b[0m │ encoder_input[\u001b[38;5;34m0\u001b[0m]… │\n",
              "│ (\u001b[38;5;33mNotEqual\u001b[0m)          │                   │            │                   │\n",
              "├─────────────────────┼───────────────────┼────────────┼───────────────────┤\n",
              "│ decoder_embedding   │ (\u001b[38;5;45mNone\u001b[0m, \u001b[38;5;34m84\u001b[0m, \u001b[38;5;34m256\u001b[0m)   │  \u001b[38;5;34m3,026,688\u001b[0m │ decoder_input[\u001b[38;5;34m0\u001b[0m]… │\n",
              "│ (\u001b[38;5;33mEmbedding\u001b[0m)         │                   │            │                   │\n",
              "├─────────────────────┼───────────────────┼────────────┼───────────────────┤\n",
              "│ encoder_lstm (\u001b[38;5;33mLSTM\u001b[0m) │ [(\u001b[38;5;45mNone\u001b[0m, \u001b[38;5;34m256\u001b[0m),     │    \u001b[38;5;34m525,312\u001b[0m │ encoder_embeddin… │\n",
              "│                     │ (\u001b[38;5;45mNone\u001b[0m, \u001b[38;5;34m256\u001b[0m),      │            │ not_equal[\u001b[38;5;34m0\u001b[0m][\u001b[38;5;34m0\u001b[0m]   │\n",
              "│                     │ (\u001b[38;5;45mNone\u001b[0m, \u001b[38;5;34m256\u001b[0m)]      │            │                   │\n",
              "├─────────────────────┼───────────────────┼────────────┼───────────────────┤\n",
              "│ decoder_lstm (\u001b[38;5;33mLSTM\u001b[0m) │ [(\u001b[38;5;45mNone\u001b[0m, \u001b[38;5;34m84\u001b[0m, \u001b[38;5;34m256\u001b[0m), │    \u001b[38;5;34m525,312\u001b[0m │ decoder_embeddin… │\n",
              "│                     │ (\u001b[38;5;45mNone\u001b[0m, \u001b[38;5;34m256\u001b[0m),      │            │ encoder_lstm[\u001b[38;5;34m0\u001b[0m][\u001b[38;5;34m…\u001b[0m │\n",
              "│                     │ (\u001b[38;5;45mNone\u001b[0m, \u001b[38;5;34m256\u001b[0m)]      │            │ encoder_lstm[\u001b[38;5;34m0\u001b[0m][\u001b[38;5;34m…\u001b[0m │\n",
              "├─────────────────────┼───────────────────┼────────────┼───────────────────┤\n",
              "│ decoder_dense       │ (\u001b[38;5;45mNone\u001b[0m, \u001b[38;5;34m84\u001b[0m, \u001b[38;5;34m11823\u001b[0m) │  \u001b[38;5;34m3,038,511\u001b[0m │ decoder_lstm[\u001b[38;5;34m0\u001b[0m][\u001b[38;5;34m…\u001b[0m │\n",
              "│ (\u001b[38;5;33mDense\u001b[0m)             │                   │            │                   │\n",
              "└─────────────────────┴───────────────────┴────────────┴───────────────────┘\n"
            ],
            "text/html": [
              "<pre style=\"white-space:pre;overflow-x:auto;line-height:normal;font-family:Menlo,'DejaVu Sans Mono',consolas,'Courier New',monospace\">┏━━━━━━━━━━━━━━━━━━━━━┳━━━━━━━━━━━━━━━━━━━┳━━━━━━━━━━━━┳━━━━━━━━━━━━━━━━━━━┓\n",
              "┃<span style=\"font-weight: bold\"> Layer (type)        </span>┃<span style=\"font-weight: bold\"> Output Shape      </span>┃<span style=\"font-weight: bold\">    Param # </span>┃<span style=\"font-weight: bold\"> Connected to      </span>┃\n",
              "┡━━━━━━━━━━━━━━━━━━━━━╇━━━━━━━━━━━━━━━━━━━╇━━━━━━━━━━━━╇━━━━━━━━━━━━━━━━━━━┩\n",
              "│ encoder_input       │ (<span style=\"color: #00d7ff; text-decoration-color: #00d7ff\">None</span>, <span style=\"color: #00af00; text-decoration-color: #00af00\">70</span>)        │          <span style=\"color: #00af00; text-decoration-color: #00af00\">0</span> │ -                 │\n",
              "│ (<span style=\"color: #0087ff; text-decoration-color: #0087ff\">InputLayer</span>)        │                   │            │                   │\n",
              "├─────────────────────┼───────────────────┼────────────┼───────────────────┤\n",
              "│ decoder_input       │ (<span style=\"color: #00d7ff; text-decoration-color: #00d7ff\">None</span>, <span style=\"color: #00af00; text-decoration-color: #00af00\">84</span>)        │          <span style=\"color: #00af00; text-decoration-color: #00af00\">0</span> │ -                 │\n",
              "│ (<span style=\"color: #0087ff; text-decoration-color: #0087ff\">InputLayer</span>)        │                   │            │                   │\n",
              "├─────────────────────┼───────────────────┼────────────┼───────────────────┤\n",
              "│ encoder_embedding   │ (<span style=\"color: #00d7ff; text-decoration-color: #00d7ff\">None</span>, <span style=\"color: #00af00; text-decoration-color: #00af00\">70</span>, <span style=\"color: #00af00; text-decoration-color: #00af00\">256</span>)   │  <span style=\"color: #00af00; text-decoration-color: #00af00\">2,404,864</span> │ encoder_input[<span style=\"color: #00af00; text-decoration-color: #00af00\">0</span>]… │\n",
              "│ (<span style=\"color: #0087ff; text-decoration-color: #0087ff\">Embedding</span>)         │                   │            │                   │\n",
              "├─────────────────────┼───────────────────┼────────────┼───────────────────┤\n",
              "│ not_equal           │ (<span style=\"color: #00d7ff; text-decoration-color: #00d7ff\">None</span>, <span style=\"color: #00af00; text-decoration-color: #00af00\">70</span>)        │          <span style=\"color: #00af00; text-decoration-color: #00af00\">0</span> │ encoder_input[<span style=\"color: #00af00; text-decoration-color: #00af00\">0</span>]… │\n",
              "│ (<span style=\"color: #0087ff; text-decoration-color: #0087ff\">NotEqual</span>)          │                   │            │                   │\n",
              "├─────────────────────┼───────────────────┼────────────┼───────────────────┤\n",
              "│ decoder_embedding   │ (<span style=\"color: #00d7ff; text-decoration-color: #00d7ff\">None</span>, <span style=\"color: #00af00; text-decoration-color: #00af00\">84</span>, <span style=\"color: #00af00; text-decoration-color: #00af00\">256</span>)   │  <span style=\"color: #00af00; text-decoration-color: #00af00\">3,026,688</span> │ decoder_input[<span style=\"color: #00af00; text-decoration-color: #00af00\">0</span>]… │\n",
              "│ (<span style=\"color: #0087ff; text-decoration-color: #0087ff\">Embedding</span>)         │                   │            │                   │\n",
              "├─────────────────────┼───────────────────┼────────────┼───────────────────┤\n",
              "│ encoder_lstm (<span style=\"color: #0087ff; text-decoration-color: #0087ff\">LSTM</span>) │ [(<span style=\"color: #00d7ff; text-decoration-color: #00d7ff\">None</span>, <span style=\"color: #00af00; text-decoration-color: #00af00\">256</span>),     │    <span style=\"color: #00af00; text-decoration-color: #00af00\">525,312</span> │ encoder_embeddin… │\n",
              "│                     │ (<span style=\"color: #00d7ff; text-decoration-color: #00d7ff\">None</span>, <span style=\"color: #00af00; text-decoration-color: #00af00\">256</span>),      │            │ not_equal[<span style=\"color: #00af00; text-decoration-color: #00af00\">0</span>][<span style=\"color: #00af00; text-decoration-color: #00af00\">0</span>]   │\n",
              "│                     │ (<span style=\"color: #00d7ff; text-decoration-color: #00d7ff\">None</span>, <span style=\"color: #00af00; text-decoration-color: #00af00\">256</span>)]      │            │                   │\n",
              "├─────────────────────┼───────────────────┼────────────┼───────────────────┤\n",
              "│ decoder_lstm (<span style=\"color: #0087ff; text-decoration-color: #0087ff\">LSTM</span>) │ [(<span style=\"color: #00d7ff; text-decoration-color: #00d7ff\">None</span>, <span style=\"color: #00af00; text-decoration-color: #00af00\">84</span>, <span style=\"color: #00af00; text-decoration-color: #00af00\">256</span>), │    <span style=\"color: #00af00; text-decoration-color: #00af00\">525,312</span> │ decoder_embeddin… │\n",
              "│                     │ (<span style=\"color: #00d7ff; text-decoration-color: #00d7ff\">None</span>, <span style=\"color: #00af00; text-decoration-color: #00af00\">256</span>),      │            │ encoder_lstm[<span style=\"color: #00af00; text-decoration-color: #00af00\">0</span>][<span style=\"color: #00af00; text-decoration-color: #00af00\">…</span> │\n",
              "│                     │ (<span style=\"color: #00d7ff; text-decoration-color: #00d7ff\">None</span>, <span style=\"color: #00af00; text-decoration-color: #00af00\">256</span>)]      │            │ encoder_lstm[<span style=\"color: #00af00; text-decoration-color: #00af00\">0</span>][<span style=\"color: #00af00; text-decoration-color: #00af00\">…</span> │\n",
              "├─────────────────────┼───────────────────┼────────────┼───────────────────┤\n",
              "│ decoder_dense       │ (<span style=\"color: #00d7ff; text-decoration-color: #00d7ff\">None</span>, <span style=\"color: #00af00; text-decoration-color: #00af00\">84</span>, <span style=\"color: #00af00; text-decoration-color: #00af00\">11823</span>) │  <span style=\"color: #00af00; text-decoration-color: #00af00\">3,038,511</span> │ decoder_lstm[<span style=\"color: #00af00; text-decoration-color: #00af00\">0</span>][<span style=\"color: #00af00; text-decoration-color: #00af00\">…</span> │\n",
              "│ (<span style=\"color: #0087ff; text-decoration-color: #0087ff\">Dense</span>)             │                   │            │                   │\n",
              "└─────────────────────┴───────────────────┴────────────┴───────────────────┘\n",
              "</pre>\n"
            ]
          },
          "metadata": {}
        },
        {
          "output_type": "display_data",
          "data": {
            "text/plain": [
              "\u001b[1m Total params: \u001b[0m\u001b[38;5;34m9,520,687\u001b[0m (36.32 MB)\n"
            ],
            "text/html": [
              "<pre style=\"white-space:pre;overflow-x:auto;line-height:normal;font-family:Menlo,'DejaVu Sans Mono',consolas,'Courier New',monospace\"><span style=\"font-weight: bold\"> Total params: </span><span style=\"color: #00af00; text-decoration-color: #00af00\">9,520,687</span> (36.32 MB)\n",
              "</pre>\n"
            ]
          },
          "metadata": {}
        },
        {
          "output_type": "display_data",
          "data": {
            "text/plain": [
              "\u001b[1m Trainable params: \u001b[0m\u001b[38;5;34m9,520,687\u001b[0m (36.32 MB)\n"
            ],
            "text/html": [
              "<pre style=\"white-space:pre;overflow-x:auto;line-height:normal;font-family:Menlo,'DejaVu Sans Mono',consolas,'Courier New',monospace\"><span style=\"font-weight: bold\"> Trainable params: </span><span style=\"color: #00af00; text-decoration-color: #00af00\">9,520,687</span> (36.32 MB)\n",
              "</pre>\n"
            ]
          },
          "metadata": {}
        },
        {
          "output_type": "display_data",
          "data": {
            "text/plain": [
              "\u001b[1m Non-trainable params: \u001b[0m\u001b[38;5;34m0\u001b[0m (0.00 B)\n"
            ],
            "text/html": [
              "<pre style=\"white-space:pre;overflow-x:auto;line-height:normal;font-family:Menlo,'DejaVu Sans Mono',consolas,'Courier New',monospace\"><span style=\"font-weight: bold\"> Non-trainable params: </span><span style=\"color: #00af00; text-decoration-color: #00af00\">0</span> (0.00 B)\n",
              "</pre>\n"
            ]
          },
          "metadata": {}
        }
      ]
    },
    {
      "cell_type": "markdown",
      "source": [
        "### **Pengaturan Seed**\n",
        "\n",
        "Penetapan seed dilakukan untuk menjaga konsistensi hasil eksperimen.  \n",
        "Dengan menggunakan nilai seed yang sama, proses pelatihan model dapat direplikasi tanpa menghasilkan variasi signifikan pada hasil akurasi dan loss."
      ],
      "metadata": {
        "id": "Gm8QqqWjjqPx"
      }
    },
    {
      "cell_type": "code",
      "source": [
        "import random\n",
        "\n",
        "# Menetapkan seed agar hasil eksperimen tetap konsisten\n",
        "SEED = 42\n",
        "\n",
        "random.seed(SEED)\n",
        "np.random.seed(SEED)\n",
        "tf.random.set_seed(SEED)\n",
        "\n",
        "print(\"Seed sudah diatur:\", SEED)"
      ],
      "metadata": {
        "colab": {
          "base_uri": "https://localhost:8080/"
        },
        "id": "8U2TNUBRjqwZ",
        "outputId": "0363363e-d3ed-4e05-bd48-395d917ff71c"
      },
      "execution_count": 19,
      "outputs": [
        {
          "output_type": "stream",
          "name": "stdout",
          "text": [
            "Seed sudah diatur: 42\n"
          ]
        }
      ]
    },
    {
      "cell_type": "markdown",
      "source": [
        "### **Pelatihan Model LSTM**\n",
        "\n",
        "Pada bagian ini model LSTM akan dilatih menggunakan data train, dengan *early stopping* dan *model checkpoint* untuk mencegah overfitting. Padding pada target diabaikan lewat **sample weight**, sehingga metrik dan loss hanya menghitung token yang benar-benar berisi kata.\n"
      ],
      "metadata": {
        "id": "vquw0j4Lkif1"
      }
    },
    {
      "cell_type": "code",
      "source": [
        "from tensorflow.keras.callbacks import EarlyStopping, ModelCheckpoint\n",
        "\n",
        "# Optimizer stabil\n",
        "optimizer = tf.keras.optimizers.Adam(learning_rate=3e-4, clipnorm=1.0)\n",
        "\n",
        "model.compile(\n",
        "    optimizer=optimizer,\n",
        "    loss=\"sparse_categorical_crossentropy\",\n",
        "    metrics=[\"accuracy\"]\n",
        ")\n",
        "\n",
        "# Callback\n",
        "early_stop = EarlyStopping(\n",
        "    monitor=\"val_loss\",\n",
        "    mode=\"min\",\n",
        "    patience=3,\n",
        "    restore_best_weights=True,\n",
        "    verbose=1\n",
        ")\n",
        "\n",
        "ckpt = ModelCheckpoint(\n",
        "    filepath=\"model_lstm_best.keras\",   # format Keras baru\n",
        "    monitor=\"val_loss\",\n",
        "    mode=\"min\",\n",
        "    save_best_only=True,\n",
        "    verbose=1\n",
        ")\n",
        "\n",
        "# Masking token padding (0) pada loss & metric\n",
        "train_sw = (dec_out_train_pad != 0).astype(\"float32\")\n",
        "val_sw   = (dec_out_test_pad  != 0).astype(\"float32\")  # konsisten seperti file sebelumnya: gunakan test sebagai validasi\n",
        "\n",
        "history = model.fit(\n",
        "    [enc_train_pad, dec_in_train_pad], dec_out_train_pad,\n",
        "    validation_data=([enc_test_pad, dec_in_test_pad], dec_out_test_pad, val_sw),\n",
        "    sample_weight=train_sw,\n",
        "    epochs=20,\n",
        "    batch_size=64,\n",
        "    shuffle=False,   # konsisten dengan setup sebelumnya\n",
        "    callbacks=[early_stop, ckpt],\n",
        "    verbose=1\n",
        ")"
      ],
      "metadata": {
        "colab": {
          "base_uri": "https://localhost:8080/"
        },
        "id": "7LJ7FXCxki3r",
        "outputId": "cda31beb-7f5e-44ee-f9c1-d5b51165d5fe"
      },
      "execution_count": 20,
      "outputs": [
        {
          "output_type": "stream",
          "name": "stdout",
          "text": [
            "Epoch 1/20\n",
            "\u001b[1m89/89\u001b[0m \u001b[32m━━━━━━━━━━━━━━━━━━━━\u001b[0m\u001b[37m\u001b[0m \u001b[1m0s\u001b[0m 6s/step - accuracy: 0.0231 - loss: 8.6139\n",
            "Epoch 1: val_loss improved from inf to 6.76597, saving model to model_lstm_best.keras\n",
            "\u001b[1m89/89\u001b[0m \u001b[32m━━━━━━━━━━━━━━━━━━━━\u001b[0m\u001b[37m\u001b[0m \u001b[1m564s\u001b[0m 6s/step - accuracy: 0.0231 - loss: 8.6038 - val_accuracy: 0.0290 - val_loss: 6.7660\n",
            "Epoch 2/20\n",
            "\u001b[1m89/89\u001b[0m \u001b[32m━━━━━━━━━━━━━━━━━━━━\u001b[0m\u001b[37m\u001b[0m \u001b[1m0s\u001b[0m 6s/step - accuracy: 0.0279 - loss: 6.7090\n",
            "Epoch 2: val_loss improved from 6.76597 to 6.71459, saving model to model_lstm_best.keras\n",
            "\u001b[1m89/89\u001b[0m \u001b[32m━━━━━━━━━━━━━━━━━━━━\u001b[0m\u001b[37m\u001b[0m \u001b[1m578s\u001b[0m 6s/step - accuracy: 0.0279 - loss: 6.7088 - val_accuracy: 0.0297 - val_loss: 6.7146\n",
            "Epoch 3/20\n",
            "\u001b[1m89/89\u001b[0m \u001b[32m━━━━━━━━━━━━━━━━━━━━\u001b[0m\u001b[37m\u001b[0m \u001b[1m0s\u001b[0m 6s/step - accuracy: 0.0291 - loss: 6.6470\n",
            "Epoch 3: val_loss improved from 6.71459 to 6.66771, saving model to model_lstm_best.keras\n",
            "\u001b[1m89/89\u001b[0m \u001b[32m━━━━━━━━━━━━━━━━━━━━\u001b[0m\u001b[37m\u001b[0m \u001b[1m593s\u001b[0m 7s/step - accuracy: 0.0291 - loss: 6.6469 - val_accuracy: 0.0322 - val_loss: 6.6677\n",
            "Epoch 4/20\n",
            "\u001b[1m89/89\u001b[0m \u001b[32m━━━━━━━━━━━━━━━━━━━━\u001b[0m\u001b[37m\u001b[0m \u001b[1m0s\u001b[0m 6s/step - accuracy: 0.0325 - loss: 6.5837\n",
            "Epoch 4: val_loss improved from 6.66771 to 6.58864, saving model to model_lstm_best.keras\n",
            "\u001b[1m89/89\u001b[0m \u001b[32m━━━━━━━━━━━━━━━━━━━━\u001b[0m\u001b[37m\u001b[0m \u001b[1m593s\u001b[0m 7s/step - accuracy: 0.0326 - loss: 6.5835 - val_accuracy: 0.0398 - val_loss: 6.5886\n",
            "Epoch 5/20\n",
            "\u001b[1m89/89\u001b[0m \u001b[32m━━━━━━━━━━━━━━━━━━━━\u001b[0m\u001b[37m\u001b[0m \u001b[1m0s\u001b[0m 6s/step - accuracy: 0.0413 - loss: 6.5008\n",
            "Epoch 5: val_loss improved from 6.58864 to 6.52001, saving model to model_lstm_best.keras\n",
            "\u001b[1m89/89\u001b[0m \u001b[32m━━━━━━━━━━━━━━━━━━━━\u001b[0m\u001b[37m\u001b[0m \u001b[1m621s\u001b[0m 7s/step - accuracy: 0.0413 - loss: 6.5006 - val_accuracy: 0.0455 - val_loss: 6.5200\n",
            "Epoch 6/20\n",
            "\u001b[1m89/89\u001b[0m \u001b[32m━━━━━━━━━━━━━━━━━━━━\u001b[0m\u001b[37m\u001b[0m \u001b[1m0s\u001b[0m 6s/step - accuracy: 0.0469 - loss: 6.4258\n",
            "Epoch 6: val_loss improved from 6.52001 to 6.46051, saving model to model_lstm_best.keras\n",
            "\u001b[1m89/89\u001b[0m \u001b[32m━━━━━━━━━━━━━━━━━━━━\u001b[0m\u001b[37m\u001b[0m \u001b[1m624s\u001b[0m 7s/step - accuracy: 0.0469 - loss: 6.4256 - val_accuracy: 0.0518 - val_loss: 6.4605\n",
            "Epoch 7/20\n",
            "\u001b[1m89/89\u001b[0m \u001b[32m━━━━━━━━━━━━━━━━━━━━\u001b[0m\u001b[37m\u001b[0m \u001b[1m0s\u001b[0m 6s/step - accuracy: 0.0507 - loss: 6.3573\n",
            "Epoch 7: val_loss improved from 6.46051 to 6.40570, saving model to model_lstm_best.keras\n",
            "\u001b[1m89/89\u001b[0m \u001b[32m━━━━━━━━━━━━━━━━━━━━\u001b[0m\u001b[37m\u001b[0m \u001b[1m596s\u001b[0m 7s/step - accuracy: 0.0507 - loss: 6.3571 - val_accuracy: 0.0549 - val_loss: 6.4057\n",
            "Epoch 8/20\n",
            "\u001b[1m89/89\u001b[0m \u001b[32m━━━━━━━━━━━━━━━━━━━━\u001b[0m\u001b[37m\u001b[0m \u001b[1m0s\u001b[0m 6s/step - accuracy: 0.0549 - loss: 6.2917\n",
            "Epoch 8: val_loss improved from 6.40570 to 6.33922, saving model to model_lstm_best.keras\n",
            "\u001b[1m89/89\u001b[0m \u001b[32m━━━━━━━━━━━━━━━━━━━━\u001b[0m\u001b[37m\u001b[0m \u001b[1m584s\u001b[0m 7s/step - accuracy: 0.0549 - loss: 6.2915 - val_accuracy: 0.0587 - val_loss: 6.3392\n",
            "Epoch 9/20\n",
            "\u001b[1m89/89\u001b[0m \u001b[32m━━━━━━━━━━━━━━━━━━━━\u001b[0m\u001b[37m\u001b[0m \u001b[1m0s\u001b[0m 6s/step - accuracy: 0.0609 - loss: 6.2107\n",
            "Epoch 9: val_loss improved from 6.33922 to 6.24896, saving model to model_lstm_best.keras\n",
            "\u001b[1m89/89\u001b[0m \u001b[32m━━━━━━━━━━━━━━━━━━━━\u001b[0m\u001b[37m\u001b[0m \u001b[1m584s\u001b[0m 7s/step - accuracy: 0.0609 - loss: 6.2105 - val_accuracy: 0.0656 - val_loss: 6.2490\n",
            "Epoch 10/20\n",
            "\u001b[1m89/89\u001b[0m \u001b[32m━━━━━━━━━━━━━━━━━━━━\u001b[0m\u001b[37m\u001b[0m \u001b[1m0s\u001b[0m 6s/step - accuracy: 0.0682 - loss: 6.1108\n",
            "Epoch 10: val_loss improved from 6.24896 to 6.15640, saving model to model_lstm_best.keras\n",
            "\u001b[1m89/89\u001b[0m \u001b[32m━━━━━━━━━━━━━━━━━━━━\u001b[0m\u001b[37m\u001b[0m \u001b[1m582s\u001b[0m 7s/step - accuracy: 0.0682 - loss: 6.1105 - val_accuracy: 0.0719 - val_loss: 6.1564\n",
            "Epoch 11/20\n",
            "\u001b[1m89/89\u001b[0m \u001b[32m━━━━━━━━━━━━━━━━━━━━\u001b[0m\u001b[37m\u001b[0m \u001b[1m0s\u001b[0m 6s/step - accuracy: 0.0754 - loss: 6.0112\n",
            "Epoch 11: val_loss improved from 6.15640 to 6.06600, saving model to model_lstm_best.keras\n",
            "\u001b[1m89/89\u001b[0m \u001b[32m━━━━━━━━━━━━━━━━━━━━\u001b[0m\u001b[37m\u001b[0m \u001b[1m639s\u001b[0m 7s/step - accuracy: 0.0754 - loss: 6.0109 - val_accuracy: 0.0778 - val_loss: 6.0660\n",
            "Epoch 12/20\n",
            "\u001b[1m89/89\u001b[0m \u001b[32m━━━━━━━━━━━━━━━━━━━━\u001b[0m\u001b[37m\u001b[0m \u001b[1m0s\u001b[0m 6s/step - accuracy: 0.0809 - loss: 5.9127\n",
            "Epoch 12: val_loss improved from 6.06600 to 5.97958, saving model to model_lstm_best.keras\n",
            "\u001b[1m89/89\u001b[0m \u001b[32m━━━━━━━━━━━━━━━━━━━━\u001b[0m\u001b[37m\u001b[0m \u001b[1m595s\u001b[0m 7s/step - accuracy: 0.0810 - loss: 5.9124 - val_accuracy: 0.0831 - val_loss: 5.9796\n",
            "Epoch 13/20\n",
            "\u001b[1m89/89\u001b[0m \u001b[32m━━━━━━━━━━━━━━━━━━━━\u001b[0m\u001b[37m\u001b[0m \u001b[1m0s\u001b[0m 6s/step - accuracy: 0.0867 - loss: 5.8191\n",
            "Epoch 13: val_loss improved from 5.97958 to 5.90033, saving model to model_lstm_best.keras\n",
            "\u001b[1m89/89\u001b[0m \u001b[32m━━━━━━━━━━━━━━━━━━━━\u001b[0m\u001b[37m\u001b[0m \u001b[1m579s\u001b[0m 7s/step - accuracy: 0.0867 - loss: 5.8188 - val_accuracy: 0.0879 - val_loss: 5.9003\n",
            "Epoch 14/20\n",
            "\u001b[1m89/89\u001b[0m \u001b[32m━━━━━━━━━━━━━━━━━━━━\u001b[0m\u001b[37m\u001b[0m \u001b[1m0s\u001b[0m 6s/step - accuracy: 0.0914 - loss: 5.7321\n",
            "Epoch 14: val_loss improved from 5.90033 to 5.82781, saving model to model_lstm_best.keras\n",
            "\u001b[1m89/89\u001b[0m \u001b[32m━━━━━━━━━━━━━━━━━━━━\u001b[0m\u001b[37m\u001b[0m \u001b[1m640s\u001b[0m 7s/step - accuracy: 0.0914 - loss: 5.7319 - val_accuracy: 0.0938 - val_loss: 5.8278\n",
            "Epoch 15/20\n",
            "\u001b[1m89/89\u001b[0m \u001b[32m━━━━━━━━━━━━━━━━━━━━\u001b[0m\u001b[37m\u001b[0m \u001b[1m0s\u001b[0m 6s/step - accuracy: 0.0974 - loss: 5.6510\n",
            "Epoch 15: val_loss improved from 5.82781 to 5.75963, saving model to model_lstm_best.keras\n",
            "\u001b[1m89/89\u001b[0m \u001b[32m━━━━━━━━━━━━━━━━━━━━\u001b[0m\u001b[37m\u001b[0m \u001b[1m584s\u001b[0m 7s/step - accuracy: 0.0974 - loss: 5.6508 - val_accuracy: 0.0995 - val_loss: 5.7596\n",
            "Epoch 16/20\n",
            "\u001b[1m89/89\u001b[0m \u001b[32m━━━━━━━━━━━━━━━━━━━━\u001b[0m\u001b[37m\u001b[0m \u001b[1m0s\u001b[0m 6s/step - accuracy: 0.1031 - loss: 5.5733\n",
            "Epoch 16: val_loss improved from 5.75963 to 5.69350, saving model to model_lstm_best.keras\n",
            "\u001b[1m89/89\u001b[0m \u001b[32m━━━━━━━━━━━━━━━━━━━━\u001b[0m\u001b[37m\u001b[0m \u001b[1m611s\u001b[0m 6s/step - accuracy: 0.1031 - loss: 5.5731 - val_accuracy: 0.1057 - val_loss: 5.6935\n",
            "Epoch 17/20\n",
            "\u001b[1m89/89\u001b[0m \u001b[32m━━━━━━━━━━━━━━━━━━━━\u001b[0m\u001b[37m\u001b[0m \u001b[1m0s\u001b[0m 6s/step - accuracy: 0.1094 - loss: 5.4972\n",
            "Epoch 17: val_loss improved from 5.69350 to 5.62968, saving model to model_lstm_best.keras\n",
            "\u001b[1m89/89\u001b[0m \u001b[32m━━━━━━━━━━━━━━━━━━━━\u001b[0m\u001b[37m\u001b[0m \u001b[1m595s\u001b[0m 7s/step - accuracy: 0.1095 - loss: 5.4970 - val_accuracy: 0.1113 - val_loss: 5.6297\n",
            "Epoch 18/20\n",
            "\u001b[1m89/89\u001b[0m \u001b[32m━━━━━━━━━━━━━━━━━━━━\u001b[0m\u001b[37m\u001b[0m \u001b[1m0s\u001b[0m 6s/step - accuracy: 0.1152 - loss: 5.4228\n",
            "Epoch 18: val_loss improved from 5.62968 to 5.56770, saving model to model_lstm_best.keras\n",
            "\u001b[1m89/89\u001b[0m \u001b[32m━━━━━━━━━━━━━━━━━━━━\u001b[0m\u001b[37m\u001b[0m \u001b[1m629s\u001b[0m 7s/step - accuracy: 0.1152 - loss: 5.4226 - val_accuracy: 0.1171 - val_loss: 5.5677\n",
            "Epoch 19/20\n",
            "\u001b[1m89/89\u001b[0m \u001b[32m━━━━━━━━━━━━━━━━━━━━\u001b[0m\u001b[37m\u001b[0m \u001b[1m0s\u001b[0m 6s/step - accuracy: 0.1210 - loss: 5.3501\n",
            "Epoch 19: val_loss improved from 5.56770 to 5.50770, saving model to model_lstm_best.keras\n",
            "\u001b[1m89/89\u001b[0m \u001b[32m━━━━━━━━━━━━━━━━━━━━\u001b[0m\u001b[37m\u001b[0m \u001b[1m601s\u001b[0m 6s/step - accuracy: 0.1210 - loss: 5.3500 - val_accuracy: 0.1215 - val_loss: 5.5077\n",
            "Epoch 20/20\n",
            "\u001b[1m89/89\u001b[0m \u001b[32m━━━━━━━━━━━━━━━━━━━━\u001b[0m\u001b[37m\u001b[0m \u001b[1m0s\u001b[0m 6s/step - accuracy: 0.1259 - loss: 5.2792\n",
            "Epoch 20: val_loss improved from 5.50770 to 5.44976, saving model to model_lstm_best.keras\n",
            "\u001b[1m89/89\u001b[0m \u001b[32m━━━━━━━━━━━━━━━━━━━━\u001b[0m\u001b[37m\u001b[0m \u001b[1m588s\u001b[0m 7s/step - accuracy: 0.1259 - loss: 5.2790 - val_accuracy: 0.1254 - val_loss: 5.4498\n",
            "Restoring model weights from the end of the best epoch: 20.\n"
          ]
        }
      ]
    },
    {
      "cell_type": "markdown",
      "source": [
        "### **Hasil Pelatihan Model**\n",
        "\n",
        "Proses pelatihan model **LSTM** menunjukkan peningkatan performa yang konsisten di setiap epoch.  \n",
        "Nilai *loss* turun secara bertahap dari sekitar **8.6 menjadi 5.4**, sedangkan *accuracy* meningkat dari **0.02 menjadi 0.12**.  \n",
        "Perubahan ini menandakan bahwa model mampu mempelajari pola hubungan antara pertanyaan dan jawaban dengan baik seiring berjalannya pelatihan.\n",
        "\n",
        "Secara umum, hasil ini menunjukkan bahwa model telah berhasil memahami struktur dasar bahasa dan konteks data, meskipun tingkat akurasinya masih tergolong rendah.  \n",
        "Diperlukan pengaturan parameter lebih lanjut untuk menghasilkan respons yang lebih tepat dan bermakna."
      ],
      "metadata": {
        "id": "T1LmNZj-BOjL"
      }
    },
    {
      "cell_type": "markdown",
      "source": [
        "### **Visualisasi Kurva Pelatihan Model LSTM**\n",
        "\n",
        "Tahap ini menampilkan grafik perubahan nilai *loss* dan *accuracy* selama proses pelatihan.  \n",
        "Grafik ini membantu memahami bagaimana model belajar dari waktu ke waktu, apakah mengalami peningkatan performa atau justru overfitting.  \n",
        "Jika garis *loss* pada data latih dan validasi menurun secara konsisten serta *accuracy* meningkat, maka model dapat dikatakan belajar dengan baik."
      ],
      "metadata": {
        "id": "yniGwTP1BkHW"
      }
    },
    {
      "cell_type": "code",
      "source": [
        "# Visualisasi Kurva Loss dan Akurasi Model LSTM\n",
        "\n",
        "plt.figure(figsize=(12,5))\n",
        "\n",
        "# Grafik Loss\n",
        "plt.subplot(1,2,1)\n",
        "plt.plot(history.history[\"loss\"], label=\"Train Loss\")\n",
        "plt.plot(history.history[\"val_loss\"], label=\"Val Loss\")\n",
        "plt.xlabel(\"Epoch\")\n",
        "plt.ylabel(\"Loss\")\n",
        "plt.title(\"Kurva Loss Model LSTM\")\n",
        "plt.legend()\n",
        "\n",
        "# Grafik Akurasi\n",
        "plt.subplot(1,2,2)\n",
        "plt.plot(history.history[\"accuracy\"], label=\"Train Accuracy\")\n",
        "plt.plot(history.history[\"val_accuracy\"], label=\"Val Accuracy\")\n",
        "plt.xlabel(\"Epoch\")\n",
        "plt.ylabel(\"Accuracy\")\n",
        "plt.title(\"Kurva Akurasi Model LSTM\")\n",
        "plt.legend()\n",
        "\n",
        "plt.show()"
      ],
      "metadata": {
        "colab": {
          "base_uri": "https://localhost:8080/",
          "height": 487
        },
        "id": "BdQsWcnEBlPU",
        "outputId": "a5241816-d189-4020-a833-c969cc8795c3"
      },
      "execution_count": 21,
      "outputs": [
        {
          "output_type": "display_data",
          "data": {
            "text/plain": [
              "<Figure size 1200x500 with 2 Axes>"
            ],
            "image/png": "[encoded data removed]"
          },
          "metadata": {}
        }
      ]
    },
    {
      "cell_type": "markdown",
      "source": [
        "### **Pengujian Model LSTM**\n",
        "\n",
        "Tahap ini digunakan untuk menguji kemampuan model dalam menghasilkan jawaban berdasarkan pertanyaan dari dataset uji.  \n",
        "Model yang telah dilatih akan menerima teks pertanyaan, kemudian menghasilkan jawaban menggunakan hasil pembelajaran sebelumnya.  \n",
        "Beberapa contoh hasil prediksi ditampilkan untuk melihat sejauh mana kualitas respons yang diberikan oleh model."
      ],
      "metadata": {
        "id": "wh51HGMgB5yY"
      }
    },
    {
      "cell_type": "code",
      "source": [
        "def predict_answer(question, max_len=20):\n",
        "    \"\"\"\n",
        "    Prediksi jawaban sederhana untuk model seq2seq LSTM (versi testing ringan)\n",
        "    \"\"\"\n",
        "    # Tokenisasi pertanyaan\n",
        "    enc_seq = tok_q.texts_to_sequences([question])\n",
        "    enc_pad = pad_sequences(enc_seq, maxlen=MAX_LEN_Q, padding='post')\n",
        "\n",
        "    # Buat decoder dummy (token awal sostok)\n",
        "    start_tok = tok_a.word_index.get(\"sostok\", 1)\n",
        "    dec_input = np.zeros((1, MAX_LEN_A))\n",
        "    dec_input[0, 0] = start_tok  # mulai dari sostok\n",
        "\n",
        "    # Prediksi keluaran (hanya untuk satu langkah sederhana)\n",
        "    pred = model.predict([enc_pad, dec_input], verbose=0)\n",
        "    pred_idx = np.argmax(pred[0], axis=-1)\n",
        "\n",
        "    # Konversi indeks ke kata\n",
        "    reverse_word_map = dict(map(reversed, tok_a.word_index.items()))\n",
        "    predicted_words = [reverse_word_map.get(idx, '') for idx in pred_idx]\n",
        "\n",
        "    # Hapus token kosong\n",
        "    predicted_text = ' '.join([w for w in predicted_words if w not in ['', 'sostok', 'eostok']])\n",
        "    return predicted_text.strip()\n",
        "\n",
        "for i in range(5):\n",
        "    print(f\"\\n[Contoh {i+1}]\")\n",
        "    print(\"Pertanyaan :\", test_questions[i][:200], \"...\")\n",
        "    print(\"Model      :\", predict_answer(test_questions[i]))\n",
        "    print(\"Referensi  :\", test_answers[i][:200], \"...\")"
      ],
      "metadata": {
        "colab": {
          "base_uri": "https://localhost:8080/"
        },
        "id": "GEimnhXkB634",
        "outputId": "b8624e65-dda8-4895-8914-e1db73c6ee27"
      },
      "execution_count": 23,
      "outputs": [
        {
          "output_type": "stream",
          "name": "stdout",
          "text": [
            "\n",
            "[Contoh 1]\n",
            "Pertanyaan : halo dok  saya remaja 15 tahun  saya sedang haid hari ke 3  biasanya siklus haid saya selama 7 hari  lusa saya ada pengambilan nilai olahraga renang dok  semua siswa diwajibkan untuk ikut dok  tapi ka ...\n",
            "Model      : alo yang yang yang yang yang yang yang yang yang yang yang yang yang dan dan dan dan dan dan dan dan dan dan dan dan dan dan dan dan dan dan dan dan dan dan dan dan dan dan dan dan dan dan dan dan dan dan dan dan dan dan dan dan dan dan dan dan dan dan dan dan dan dan dan dan dan dan dan dan dan dan dan dan dan dan dan dan dan dan dan dan dan dan\n",
            "Referensi  : menstruasi sewajarnya akan berlangsung selama 2 hingga 8 hari  namun  ada saja wanita yang durasi menstruasinya lebih singkat  atau justru lebih lama dari itu  hal ini banyak dipengaruhi oleh kondisi  ...\n",
            "\n",
            "[Contoh 2]\n",
            "Pertanyaan : putra saya usia 15 th  testis kirinya sakit dok  gada bengkak atau apa  itu kira kira kenapa ya dokter  dan solusi mengatasinya seperti apa dok  soalnya sakit nya itu hilang timbul dokter ...\n",
            "Model      : alo yang yang yang yang yang yang yang yang yang yang yang yang yang yang dan dan dan dan dan dan dan dan dan dan dan dan dan dan dan dan dan dan dan dan dan dan dan dan dan dan dan dan dan dan dan dan dan dan dan dan dan dan dan dan dan dan dan dan dan dan dan dan dan dan dan dan dan dan dan dan dan dan dan dan dan dan dan dan dan dan dan dan dan\n",
            "Referensi  : alo nyeri pada testis dapat disebabkan karena beberapa kondisi berikut ini epididimitisorchitishidrokelvarikokelhernia inguinaltorsio testiskista epididimiskeganasan pada testisnyeri pada testis bukan ...\n",
            "\n",
            "[Contoh 3]\n",
            "Pertanyaan : dok saya kalau kena gorengan yang bukan masakan sendiri  tenggorokan saya jadi mudah gatal gatal  seharian saya kesiksa nih dokter  ini udah lama kaya gini dok  kaya udah kebiasaan  saya udah coba min ...\n",
            "Model      : alo yang yang yang yang yang yang yang yang yang yang yang yang yang yang dan dan dan dan dan dan dan dan dan dan dan dan dan dan dan dan dan dan dan dan dan dan dan dan dan dan dan dan dan dan dan dan dan dan dan dan dan dan dan dan dan dan dan dan dan dan dan dan dan dan dan dan dan dan dan dan dan dan dan dan dan dan dan dan dan dan dan dan dan\n",
            "Referensi  : alo  selamat siangtenggorokan gatal dapat disebabkan oleh beberapa hal seperti  reaksi alergiiritasiinfeksi virus atau bakteriradang amandeldan lainnyatenggorokan gatal umumnya tidak berbahya dan tida ...\n",
            "\n",
            "[Contoh 4]\n",
            "Pertanyaan : saya berhari hari susah bab dok  dan saya ngeden sekuat tenaga pas udahannya anus saya kok jadi muncul benjolan di bagian luar  itu apa bisa ilang dengan sendirinya dokter  benjolannya itu benjolan da ...\n",
            "Model      : alo yang yang yang yang yang yang yang yang yang yang yang yang yang yang yang dan dan dan dan dan dan dan dan dan dan dan dan dan dan dan dan dan dan dan dan dan dan dan dan dan dan dan dan dan dan dan dan dan dan dan dan dan dan dan dan dan dan dan dan dan dan dan dan dan dan dan dan dan dan dan dan dan dan dan dan dan dan dan dan dan dan dan dan\n",
            "Referensi  : benjolan di anus yang terasa nyeri  menyerupai daging  dan keluar sehabis sembelit serta mengejan kuat saat bab mungkin disebabkan oleh wasir eksterna  hemorrhoid eksterna   wasir sendiri terbentuk ak ...\n",
            "\n",
            "[Contoh 5]\n",
            "Pertanyaan : hai dok  anak saya berusia2 bulan  sejak lahir ubun ubunnya terlihat agak cembung   soalnya waktu melahirkan itu saya dibantu dengan vakum  kata dokternya ubun ubun bayi nantinya bisa kembali normal d ...\n",
            "Model      : alo yang yang yang yang yang yang yang yang yang yang yang yang yang yang dan dan dan dan dan dan dan dan dan dan dan dan dan dan dan dan dan dan dan dan dan dan dan dan dan dan dan dan dan dan dan dan dan dan dan dan dan dan dan dan dan dan dan dan dan dan dan dan dan dan dan dan dan dan dan dan dan dan dan dan dan dan dan dan dan dan dan dan dan\n",
            "Referensi  : ubun ubun bayi yang cembung sehabis melahirkan dengan bantuan vakum paling sering disebabkan olehcaput succedaneum  kondisi ini terjadi karena cidera fisik pada saat persalinan yang menyebabkan jaring ...\n"
          ]
        }
      ]
    },
    {
      "cell_type": "markdown",
      "source": [
        "### **Kesimpulan**\n",
        "\n",
        "Proyek ini berhasil membangun **Chatbot Konsultasi Kesehatan** berbasis **Long Short-Term Memory (LSTM)** dengan arsitektur **sequence-to-sequence (seq2seq)** menggunakan dataset tanya jawab kesehatan berbahasa Indonesia.\n",
        "Seluruh proses dimulai dari **pemuatan dan eksplorasi data**, **pembersihan teks**, **tokenisasi dan padding**, hingga **pembangunan, pelatihan, dan pengujian model**.\n",
        "\n",
        "Dataset terdiri dari **5.694 data latih** dan **633 data uji** dengan rata-rata panjang pertanyaan sekitar **285 karakter** dan jawaban **440 karakter**. Hasil tokenisasi menghasilkan **9.393 kata unik pada encoder** dan **11.822 kata unik pada decoder**, dengan panjang maksimum urutan teks (setelah padding) sebesar **70 token untuk pertanyaan** dan **84 token untuk jawaban**.\n",
        "\n",
        "Selama proses pelatihan sebanyak **20 epoch**, model menunjukkan **penurunan loss dari 8.60 menjadi 5.44** serta **peningkatan akurasi dari 0.02 menjadi 0.12**. Nilai *validation loss* juga terus menurun hingga epoch terakhir, menandakan proses pembelajaran yang stabil. Meskipun demikian, hasil pengujian menunjukkan bahwa jawaban yang dihasilkan masih bersifat **repetitif dan umum**, seperti pengulangan kata “yang” dan “dan”.\n",
        "\n",
        "Secara keseluruhan, model ini berhasil mencapai tujuannya sebagai **baseline chatbot berbasis LSTM** yang mampu mempelajari pola dasar hubungan pertanyaan–jawaban dalam bahasa Indonesia. Implementasi ini memberikan pemahaman mendalam mengenai penerapan LSTM dalam *Natural Language Processing* (NLP) dan menjadi dasar untuk pengembangan chatbot yang lebih akurat menggunakan pendekatan modern seperti **Attention Mechanism** atau **Transformer** di masa mendatang."
      ],
      "metadata": {
        "id": "xcysz6yMC_j7"
      }
    }
  ]
}