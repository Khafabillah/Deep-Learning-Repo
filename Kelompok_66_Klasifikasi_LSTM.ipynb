{
  "nbformat": 4,
  "nbformat_minor": 0,
  "metadata": {
    "colab": {
      "provenance": []
    },
    "kernelspec": {
      "name": "python3",
      "display_name": "Python 3"
    },
    "language_info": {
      "name": "python"
    }
  },
  "cells": [
    {
      "cell_type": "markdown",
      "source": [
        "# **Analisis Ulasan Netizen Terhadap Aplikasi Dana di Google Playstore menggunakan Long Short-Term Memory (LSTM)**\n",
        "**Kelompok 66 — Mata Kuliah Deep Learning**\n",
        "Semester 5 — Tahun 2025\n",
        "\n",
        "Anggota:\n",
        "\n",
        "- Muhamad Khafabillah Sopian (2307824)\n",
        "\n",
        "- Abyan Laksono (2304127)\n"
      ],
      "metadata": {
        "id": "s-MqOKnZidxd"
      }
    },
    {
      "cell_type": "markdown",
      "source": [
        "### **Import Library**\n",
        "Bagian ini berisi pustaka yang digunakan untuk pemrosesan data, pembuatan model LSTM, dan evaluasi hasil.\n"
      ],
      "metadata": {
        "id": "S5-qRRqSkEGt"
      }
    },
    {
      "cell_type": "code",
      "source": [
        "# import library utama\n",
        "import pandas as pd\n",
        "import numpy as np\n",
        "import re, string\n",
        "from sklearn.model_selection import train_test_split\n",
        "from sklearn.metrics import classification_report, confusion_matrix\n",
        "from tensorflow.keras.preprocessing.text import Tokenizer\n",
        "from tensorflow.keras.preprocessing.sequence import pad_sequences\n",
        "from tensorflow.keras.models import Sequential\n",
        "from tensorflow.keras.layers import Embedding, LSTM, Dense, Dropout, Bidirectional\n",
        "from tensorflow.keras.callbacks import EarlyStopping\n",
        "import matplotlib.pyplot as plt"
      ],
      "metadata": {
        "id": "O7E4HYP0kWgy"
      },
      "execution_count": 1,
      "outputs": []
    },
    {
      "cell_type": "markdown",
      "source": [
        "## **Load Dataset dari Google Drive**\n",
        "Bagian ini bertujuan untuk memuat dataset **Sentimen Netizen Twitter terhadap Bansos Pasca Putusan MK** yang disimpan di Google Drive.  \n",
        "Karena file berada di Drive, maka digunakan modul `gdown` untuk mengunduh file berdasarkan ID Google Drive.\n"
      ],
      "metadata": {
        "id": "_qcg5eItlob6"
      }
    },
    {
      "cell_type": "code",
      "source": [
        "# instal dan import library yang diperlukan\n",
        "!pip install gdown -q\n",
        "import gdown, pandas as pd\n",
        "\n",
        "# tentukan ID file dari Google Drive\n",
        "file_id = \"1iFsoFUEFET_D9Q0aIKsBimWNX6nVa2Or\"\n",
        "\n",
        "# buat URL unduhan langsung dari Google Drive\n",
        "url = f\"https://drive.google.com/uc?id={file_id}\"\n",
        "\n",
        "# nama file output yang akan disimpan di Colab\n",
        "output = \"review_dana_labelled.csv\"\n",
        "\n",
        "# unduh file dari Google Drive ke lingkungan Colab\n",
        "gdown.download(url, output, quiet=False)\n",
        "\n",
        "# baca file CSV ke dalam DataFrame pandas\n",
        "df = pd.read_csv(output, sep=None, engine=\"python\", encoding=\"utf-8\")\n",
        "\n",
        "# tampilkan 5 baris pertama untuk memastikan data berhasil dimuat\n",
        "df.head()\n"
      ],
      "metadata": {
        "colab": {
          "base_uri": "https://localhost:8080/",
          "height": 275
        },
        "id": "7kIlIsecltcF",
        "outputId": "182b9f6b-86ae-41ce-a269-032c66134a3f"
      },
      "execution_count": 2,
      "outputs": [
        {
          "output_type": "stream",
          "name": "stderr",
          "text": [
            "Downloading...\n",
            "From: https://drive.google.com/uc?id=1iFsoFUEFET_D9Q0aIKsBimWNX6nVa2Or\n",
            "To: /content/review_dana_labelled.csv\n",
            "100%|██████████| 4.89M/4.89M [00:00<00:00, 62.5MB/s]\n"
          ]
        },
        {
          "output_type": "execute_result",
          "data": {
            "text/plain": [
              "          userName  score                   at  \\\n",
              "0     Elisya Kasni      5  2024-02-15 11:24:56   \n",
              "1       Rusman Man      2  2024-02-15 11:24:03   \n",
              "2     Qiliw Sadega      1  2024-02-15 11:23:34   \n",
              "3  Kijutjrv2 Kijut      3  2024-02-15 11:22:46   \n",
              "4     Fifi Alfiyah      1  2024-02-15 11:21:34   \n",
              "\n",
              "                                             content  sentimen  \n",
              "0                                              Bagus  POSITIVE  \n",
              "1                             Dana mmg keren mantap.  POSITIVE  \n",
              "2  Saya ngajuin upgrade dana premium krna ktp say...  NEGATIVE  \n",
              "3  Kocak mana diskon nya ml malah eror segala kag...  NEGATIVE  \n",
              "4  Saldo hilang karena no lama Hilang ganti no sa...  NEGATIVE  "
            ],
            "text/html": [
              "\n",
              "  <div id=\"df-94a40b2c-7cea-4ea7-a0be-dd3273be0450\" class=\"colab-df-container\">\n",
              "    <div>\n",
              "<style scoped>\n",
              "    .dataframe tbody tr th:only-of-type {\n",
              "        vertical-align: middle;\n",
              "    }\n",
              "\n",
              "    .dataframe tbody tr th {\n",
              "        vertical-align: top;\n",
              "    }\n",
              "\n",
              "    .dataframe thead th {\n",
              "        text-align: right;\n",
              "    }\n",
              "</style>\n",
              "<table border=\"1\" class=\"dataframe\">\n",
              "  <thead>\n",
              "    <tr style=\"text-align: right;\">\n",
              "      <th></th>\n",
              "      <th>userName</th>\n",
              "      <th>score</th>\n",
              "      <th>at</th>\n",
              "      <th>content</th>\n",
              "      <th>sentimen</th>\n",
              "    </tr>\n",
              "  </thead>\n",
              "  <tbody>\n",
              "    <tr>\n",
              "      <th>0</th>\n",
              "      <td>Elisya Kasni</td>\n",
              "      <td>5</td>\n",
              "      <td>2024-02-15 11:24:56</td>\n",
              "      <td>Bagus</td>\n",
              "      <td>POSITIVE</td>\n",
              "    </tr>\n",
              "    <tr>\n",
              "      <th>1</th>\n",
              "      <td>Rusman Man</td>\n",
              "      <td>2</td>\n",
              "      <td>2024-02-15 11:24:03</td>\n",
              "      <td>Dana mmg keren mantap.</td>\n",
              "      <td>POSITIVE</td>\n",
              "    </tr>\n",
              "    <tr>\n",
              "      <th>2</th>\n",
              "      <td>Qiliw Sadega</td>\n",
              "      <td>1</td>\n",
              "      <td>2024-02-15 11:23:34</td>\n",
              "      <td>Saya ngajuin upgrade dana premium krna ktp say...</td>\n",
              "      <td>NEGATIVE</td>\n",
              "    </tr>\n",
              "    <tr>\n",
              "      <th>3</th>\n",
              "      <td>Kijutjrv2 Kijut</td>\n",
              "      <td>3</td>\n",
              "      <td>2024-02-15 11:22:46</td>\n",
              "      <td>Kocak mana diskon nya ml malah eror segala kag...</td>\n",
              "      <td>NEGATIVE</td>\n",
              "    </tr>\n",
              "    <tr>\n",
              "      <th>4</th>\n",
              "      <td>Fifi Alfiyah</td>\n",
              "      <td>1</td>\n",
              "      <td>2024-02-15 11:21:34</td>\n",
              "      <td>Saldo hilang karena no lama Hilang ganti no sa...</td>\n",
              "      <td>NEGATIVE</td>\n",
              "    </tr>\n",
              "  </tbody>\n",
              "</table>\n",
              "</div>\n",
              "    <div class=\"colab-df-buttons\">\n",
              "\n",
              "  <div class=\"colab-df-container\">\n",
              "    <button class=\"colab-df-convert\" onclick=\"convertToInteractive('df-94a40b2c-7cea-4ea7-a0be-dd3273be0450')\"\n",
              "            title=\"Convert this dataframe to an interactive table.\"\n",
              "            style=\"display:none;\">\n",
              "\n",
              "  <svg xmlns=\"http://www.w3.org/2000/svg\" height=\"24px\" viewBox=\"0 -960 960 960\">\n",
              "    <path d=\"M120-120v-720h720v720H120Zm60-500h600v-160H180v160Zm220 220h160v-160H400v160Zm0 220h160v-160H400v160ZM180-400h160v-160H180v160Zm440 0h160v-160H620v160ZM180-180h160v-160H180v160Zm440 0h160v-160H620v160Z\"/>\n",
              "  </svg>\n",
              "    </button>\n",
              "\n",
              "  <style>\n",
              "    .colab-df-container {\n",
              "      display:flex;\n",
              "      gap: 12px;\n",
              "    }\n",
              "\n",
              "    .colab-df-convert {\n",
              "      background-color: #E8F0FE;\n",
              "      border: none;\n",
              "      border-radius: 50%;\n",
              "      cursor: pointer;\n",
              "      display: none;\n",
              "      fill: #1967D2;\n",
              "      height: 32px;\n",
              "      padding: 0 0 0 0;\n",
              "      width: 32px;\n",
              "    }\n",
              "\n",
              "    .colab-df-convert:hover {\n",
              "      background-color: #E2EBFA;\n",
              "      box-shadow: 0px 1px 2px rgba(60, 64, 67, 0.3), 0px 1px 3px 1px rgba(60, 64, 67, 0.15);\n",
              "      fill: #174EA6;\n",
              "    }\n",
              "\n",
              "    .colab-df-buttons div {\n",
              "      margin-bottom: 4px;\n",
              "    }\n",
              "\n",
              "    [theme=dark] .colab-df-convert {\n",
              "      background-color: #3B4455;\n",
              "      fill: #D2E3FC;\n",
              "    }\n",
              "\n",
              "    [theme=dark] .colab-df-convert:hover {\n",
              "      background-color: #434B5C;\n",
              "      box-shadow: 0px 1px 3px 1px rgba(0, 0, 0, 0.15);\n",
              "      filter: drop-shadow(0px 1px 2px rgba(0, 0, 0, 0.3));\n",
              "      fill: #FFFFFF;\n",
              "    }\n",
              "  </style>\n",
              "\n",
              "    <script>\n",
              "      const buttonEl =\n",
              "        document.querySelector('#df-94a40b2c-7cea-4ea7-a0be-dd3273be0450 button.colab-df-convert');\n",
              "      buttonEl.style.display =\n",
              "        google.colab.kernel.accessAllowed ? 'block' : 'none';\n",
              "\n",
              "      async function convertToInteractive(key) {\n",
              "        const element = document.querySelector('#df-94a40b2c-7cea-4ea7-a0be-dd3273be0450');\n",
              "        const dataTable =\n",
              "          await google.colab.kernel.invokeFunction('convertToInteractive',\n",
              "                                                    [key], {});\n",
              "        if (!dataTable) return;\n",
              "\n",
              "        const docLinkHtml = 'Like what you see? Visit the ' +\n",
              "          '<a target=\"_blank\" href=https://colab.research.google.com/notebooks/data_table.ipynb>data table notebook</a>'\n",
              "          + ' to learn more about interactive tables.';\n",
              "        element.innerHTML = '';\n",
              "        dataTable['output_type'] = 'display_data';\n",
              "        await google.colab.output.renderOutput(dataTable, element);\n",
              "        const docLink = document.createElement('div');\n",
              "        docLink.innerHTML = docLinkHtml;\n",
              "        element.appendChild(docLink);\n",
              "      }\n",
              "    </script>\n",
              "  </div>\n",
              "\n",
              "\n",
              "    <div id=\"df-6f9bbd65-ca2c-4cb1-889e-07d204f7e6ca\">\n",
              "      <button class=\"colab-df-quickchart\" onclick=\"quickchart('df-6f9bbd65-ca2c-4cb1-889e-07d204f7e6ca')\"\n",
              "                title=\"Suggest charts\"\n",
              "                style=\"display:none;\">\n",
              "\n",
              "<svg xmlns=\"http://www.w3.org/2000/svg\" height=\"24px\"viewBox=\"0 0 24 24\"\n",
              "     width=\"24px\">\n",
              "    <g>\n",
              "        <path d=\"M19 3H5c-1.1 0-2 .9-2 2v14c0 1.1.9 2 2 2h14c1.1 0 2-.9 2-2V5c0-1.1-.9-2-2-2zM9 17H7v-7h2v7zm4 0h-2V7h2v10zm4 0h-2v-4h2v4z\"/>\n",
              "    </g>\n",
              "</svg>\n",
              "      </button>\n",
              "\n",
              "<style>\n",
              "  .colab-df-quickchart {\n",
              "      --bg-color: #E8F0FE;\n",
              "      --fill-color: #1967D2;\n",
              "      --hover-bg-color: #E2EBFA;\n",
              "      --hover-fill-color: #174EA6;\n",
              "      --disabled-fill-color: #AAA;\n",
              "      --disabled-bg-color: #DDD;\n",
              "  }\n",
              "\n",
              "  [theme=dark] .colab-df-quickchart {\n",
              "      --bg-color: #3B4455;\n",
              "      --fill-color: #D2E3FC;\n",
              "      --hover-bg-color: #434B5C;\n",
              "      --hover-fill-color: #FFFFFF;\n",
              "      --disabled-bg-color: #3B4455;\n",
              "      --disabled-fill-color: #666;\n",
              "  }\n",
              "\n",
              "  .colab-df-quickchart {\n",
              "    background-color: var(--bg-color);\n",
              "    border: none;\n",
              "    border-radius: 50%;\n",
              "    cursor: pointer;\n",
              "    display: none;\n",
              "    fill: var(--fill-color);\n",
              "    height: 32px;\n",
              "    padding: 0;\n",
              "    width: 32px;\n",
              "  }\n",
              "\n",
              "  .colab-df-quickchart:hover {\n",
              "    background-color: var(--hover-bg-color);\n",
              "    box-shadow: 0 1px 2px rgba(60, 64, 67, 0.3), 0 1px 3px 1px rgba(60, 64, 67, 0.15);\n",
              "    fill: var(--button-hover-fill-color);\n",
              "  }\n",
              "\n",
              "  .colab-df-quickchart-complete:disabled,\n",
              "  .colab-df-quickchart-complete:disabled:hover {\n",
              "    background-color: var(--disabled-bg-color);\n",
              "    fill: var(--disabled-fill-color);\n",
              "    box-shadow: none;\n",
              "  }\n",
              "\n",
              "  .colab-df-spinner {\n",
              "    border: 2px solid var(--fill-color);\n",
              "    border-color: transparent;\n",
              "    border-bottom-color: var(--fill-color);\n",
              "    animation:\n",
              "      spin 1s steps(1) infinite;\n",
              "  }\n",
              "\n",
              "  @keyframes spin {\n",
              "    0% {\n",
              "      border-color: transparent;\n",
              "      border-bottom-color: var(--fill-color);\n",
              "      border-left-color: var(--fill-color);\n",
              "    }\n",
              "    20% {\n",
              "      border-color: transparent;\n",
              "      border-left-color: var(--fill-color);\n",
              "      border-top-color: var(--fill-color);\n",
              "    }\n",
              "    30% {\n",
              "      border-color: transparent;\n",
              "      border-left-color: var(--fill-color);\n",
              "      border-top-color: var(--fill-color);\n",
              "      border-right-color: var(--fill-color);\n",
              "    }\n",
              "    40% {\n",
              "      border-color: transparent;\n",
              "      border-right-color: var(--fill-color);\n",
              "      border-top-color: var(--fill-color);\n",
              "    }\n",
              "    60% {\n",
              "      border-color: transparent;\n",
              "      border-right-color: var(--fill-color);\n",
              "    }\n",
              "    80% {\n",
              "      border-color: transparent;\n",
              "      border-right-color: var(--fill-color);\n",
              "      border-bottom-color: var(--fill-color);\n",
              "    }\n",
              "    90% {\n",
              "      border-color: transparent;\n",
              "      border-bottom-color: var(--fill-color);\n",
              "    }\n",
              "  }\n",
              "</style>\n",
              "\n",
              "      <script>\n",
              "        async function quickchart(key) {\n",
              "          const quickchartButtonEl =\n",
              "            document.querySelector('#' + key + ' button');\n",
              "          quickchartButtonEl.disabled = true;  // To prevent multiple clicks.\n",
              "          quickchartButtonEl.classList.add('colab-df-spinner');\n",
              "          try {\n",
              "            const charts = await google.colab.kernel.invokeFunction(\n",
              "                'suggestCharts', [key], {});\n",
              "          } catch (error) {\n",
              "            console.error('Error during call to suggestCharts:', error);\n",
              "          }\n",
              "          quickchartButtonEl.classList.remove('colab-df-spinner');\n",
              "          quickchartButtonEl.classList.add('colab-df-quickchart-complete');\n",
              "        }\n",
              "        (() => {\n",
              "          let quickchartButtonEl =\n",
              "            document.querySelector('#df-6f9bbd65-ca2c-4cb1-889e-07d204f7e6ca button');\n",
              "          quickchartButtonEl.style.display =\n",
              "            google.colab.kernel.accessAllowed ? 'block' : 'none';\n",
              "        })();\n",
              "      </script>\n",
              "    </div>\n",
              "\n",
              "    </div>\n",
              "  </div>\n"
            ],
            "application/vnd.google.colaboratory.intrinsic+json": {
              "type": "dataframe",
              "variable_name": "df",
              "summary": "{\n  \"name\": \"df\",\n  \"rows\": 50000,\n  \"fields\": [\n    {\n      \"column\": \"userName\",\n      \"properties\": {\n        \"dtype\": \"string\",\n        \"num_unique_values\": 48177,\n        \"samples\": [\n          \"Yayat Burhan\",\n          \"bendol hithe\",\n          \"Firman Tahir\"\n        ],\n        \"semantic_type\": \"\",\n        \"description\": \"\"\n      }\n    },\n    {\n      \"column\": \"score\",\n      \"properties\": {\n        \"dtype\": \"number\",\n        \"std\": 1,\n        \"min\": 1,\n        \"max\": 5,\n        \"num_unique_values\": 5,\n        \"samples\": [\n          2,\n          4,\n          1\n        ],\n        \"semantic_type\": \"\",\n        \"description\": \"\"\n      }\n    },\n    {\n      \"column\": \"at\",\n      \"properties\": {\n        \"dtype\": \"object\",\n        \"num_unique_values\": 49609,\n        \"samples\": [\n          \"2024-01-01 12:00:46\",\n          \"2024-01-30 07:28:43\",\n          \"2024-02-12 08:52:00\"\n        ],\n        \"semantic_type\": \"\",\n        \"description\": \"\"\n      }\n    },\n    {\n      \"column\": \"content\",\n      \"properties\": {\n        \"dtype\": \"string\",\n        \"num_unique_values\": 31701,\n        \"samples\": [\n          \"Uang hilang tidak ada kejelasan..sudah lapor di aplikasi nomer laporan tidak tertera..lebih baik unistal ini aplikasi....kalau ada apa\\u00b2 di ini aplikasi pasti tidak akan di kembalikan. Aplikasi pencuri penipu\",\n          \"semoga bisa membantu\",\n          \"dana sangat membantu tp knp akun saya tidak bisa masuk ya pdhl tidak sengaja kepencet keluar \\ud83d\\ude2d\"\n        ],\n        \"semantic_type\": \"\",\n        \"description\": \"\"\n      }\n    },\n    {\n      \"column\": \"sentimen\",\n      \"properties\": {\n        \"dtype\": \"category\",\n        \"num_unique_values\": 3,\n        \"samples\": [\n          \"POSITIVE\",\n          \"NEGATIVE\",\n          \"NEUTRAL\"\n        ],\n        \"semantic_type\": \"\",\n        \"description\": \"\"\n      }\n    }\n  ]\n}"
            }
          },
          "metadata": {},
          "execution_count": 2
        }
      ]
    },
    {
      "cell_type": "markdown",
      "source": [
        "## **Exploratory Data Analysis (EDA)**\n",
        "\n",
        "Tahap ini digunakan untuk memahami karakteristik awal dataset sebelum masuk ke proses pemodelan.  \n",
        "Pada bagian ini dilakukan pengecekan struktur data, distribusi label sentimen, serta analisis panjang teks ulasan untuk mengetahui batas maksimal input yang akan digunakan pada model LSTM."
      ],
      "metadata": {
        "id": "wfOY1AxCVkyO"
      }
    },
    {
      "cell_type": "code",
      "source": [
        "# cek struktur dataset\n",
        "df.info()\n",
        "df.head()"
      ],
      "metadata": {
        "colab": {
          "base_uri": "https://localhost:8080/",
          "height": 414
        },
        "id": "B6WQHBR3WARK",
        "outputId": "861a12f8-46a5-40c1-b8a6-81b998b4af64"
      },
      "execution_count": 3,
      "outputs": [
        {
          "output_type": "stream",
          "name": "stdout",
          "text": [
            "<class 'pandas.core.frame.DataFrame'>\n",
            "RangeIndex: 50000 entries, 0 to 49999\n",
            "Data columns (total 5 columns):\n",
            " #   Column    Non-Null Count  Dtype \n",
            "---  ------    --------------  ----- \n",
            " 0   userName  50000 non-null  object\n",
            " 1   score     50000 non-null  int64 \n",
            " 2   at        50000 non-null  object\n",
            " 3   content   50000 non-null  object\n",
            " 4   sentimen  50000 non-null  object\n",
            "dtypes: int64(1), object(4)\n",
            "memory usage: 1.9+ MB\n"
          ]
        },
        {
          "output_type": "execute_result",
          "data": {
            "text/plain": [
              "          userName  score                   at  \\\n",
              "0     Elisya Kasni      5  2024-02-15 11:24:56   \n",
              "1       Rusman Man      2  2024-02-15 11:24:03   \n",
              "2     Qiliw Sadega      1  2024-02-15 11:23:34   \n",
              "3  Kijutjrv2 Kijut      3  2024-02-15 11:22:46   \n",
              "4     Fifi Alfiyah      1  2024-02-15 11:21:34   \n",
              "\n",
              "                                             content  sentimen  \n",
              "0                                              Bagus  POSITIVE  \n",
              "1                             Dana mmg keren mantap.  POSITIVE  \n",
              "2  Saya ngajuin upgrade dana premium krna ktp say...  NEGATIVE  \n",
              "3  Kocak mana diskon nya ml malah eror segala kag...  NEGATIVE  \n",
              "4  Saldo hilang karena no lama Hilang ganti no sa...  NEGATIVE  "
            ],
            "text/html": [
              "\n",
              "  <div id=\"df-ea4f4aa9-386b-4204-8bd0-df75d2876ead\" class=\"colab-df-container\">\n",
              "    <div>\n",
              "<style scoped>\n",
              "    .dataframe tbody tr th:only-of-type {\n",
              "        vertical-align: middle;\n",
              "    }\n",
              "\n",
              "    .dataframe tbody tr th {\n",
              "        vertical-align: top;\n",
              "    }\n",
              "\n",
              "    .dataframe thead th {\n",
              "        text-align: right;\n",
              "    }\n",
              "</style>\n",
              "<table border=\"1\" class=\"dataframe\">\n",
              "  <thead>\n",
              "    <tr style=\"text-align: right;\">\n",
              "      <th></th>\n",
              "      <th>userName</th>\n",
              "      <th>score</th>\n",
              "      <th>at</th>\n",
              "      <th>content</th>\n",
              "      <th>sentimen</th>\n",
              "    </tr>\n",
              "  </thead>\n",
              "  <tbody>\n",
              "    <tr>\n",
              "      <th>0</th>\n",
              "      <td>Elisya Kasni</td>\n",
              "      <td>5</td>\n",
              "      <td>2024-02-15 11:24:56</td>\n",
              "      <td>Bagus</td>\n",
              "      <td>POSITIVE</td>\n",
              "    </tr>\n",
              "    <tr>\n",
              "      <th>1</th>\n",
              "      <td>Rusman Man</td>\n",
              "      <td>2</td>\n",
              "      <td>2024-02-15 11:24:03</td>\n",
              "      <td>Dana mmg keren mantap.</td>\n",
              "      <td>POSITIVE</td>\n",
              "    </tr>\n",
              "    <tr>\n",
              "      <th>2</th>\n",
              "      <td>Qiliw Sadega</td>\n",
              "      <td>1</td>\n",
              "      <td>2024-02-15 11:23:34</td>\n",
              "      <td>Saya ngajuin upgrade dana premium krna ktp say...</td>\n",
              "      <td>NEGATIVE</td>\n",
              "    </tr>\n",
              "    <tr>\n",
              "      <th>3</th>\n",
              "      <td>Kijutjrv2 Kijut</td>\n",
              "      <td>3</td>\n",
              "      <td>2024-02-15 11:22:46</td>\n",
              "      <td>Kocak mana diskon nya ml malah eror segala kag...</td>\n",
              "      <td>NEGATIVE</td>\n",
              "    </tr>\n",
              "    <tr>\n",
              "      <th>4</th>\n",
              "      <td>Fifi Alfiyah</td>\n",
              "      <td>1</td>\n",
              "      <td>2024-02-15 11:21:34</td>\n",
              "      <td>Saldo hilang karena no lama Hilang ganti no sa...</td>\n",
              "      <td>NEGATIVE</td>\n",
              "    </tr>\n",
              "  </tbody>\n",
              "</table>\n",
              "</div>\n",
              "    <div class=\"colab-df-buttons\">\n",
              "\n",
              "  <div class=\"colab-df-container\">\n",
              "    <button class=\"colab-df-convert\" onclick=\"convertToInteractive('df-ea4f4aa9-386b-4204-8bd0-df75d2876ead')\"\n",
              "            title=\"Convert this dataframe to an interactive table.\"\n",
              "            style=\"display:none;\">\n",
              "\n",
              "  <svg xmlns=\"http://www.w3.org/2000/svg\" height=\"24px\" viewBox=\"0 -960 960 960\">\n",
              "    <path d=\"M120-120v-720h720v720H120Zm60-500h600v-160H180v160Zm220 220h160v-160H400v160Zm0 220h160v-160H400v160ZM180-400h160v-160H180v160Zm440 0h160v-160H620v160ZM180-180h160v-160H180v160Zm440 0h160v-160H620v160Z\"/>\n",
              "  </svg>\n",
              "    </button>\n",
              "\n",
              "  <style>\n",
              "    .colab-df-container {\n",
              "      display:flex;\n",
              "      gap: 12px;\n",
              "    }\n",
              "\n",
              "    .colab-df-convert {\n",
              "      background-color: #E8F0FE;\n",
              "      border: none;\n",
              "      border-radius: 50%;\n",
              "      cursor: pointer;\n",
              "      display: none;\n",
              "      fill: #1967D2;\n",
              "      height: 32px;\n",
              "      padding: 0 0 0 0;\n",
              "      width: 32px;\n",
              "    }\n",
              "\n",
              "    .colab-df-convert:hover {\n",
              "      background-color: #E2EBFA;\n",
              "      box-shadow: 0px 1px 2px rgba(60, 64, 67, 0.3), 0px 1px 3px 1px rgba(60, 64, 67, 0.15);\n",
              "      fill: #174EA6;\n",
              "    }\n",
              "\n",
              "    .colab-df-buttons div {\n",
              "      margin-bottom: 4px;\n",
              "    }\n",
              "\n",
              "    [theme=dark] .colab-df-convert {\n",
              "      background-color: #3B4455;\n",
              "      fill: #D2E3FC;\n",
              "    }\n",
              "\n",
              "    [theme=dark] .colab-df-convert:hover {\n",
              "      background-color: #434B5C;\n",
              "      box-shadow: 0px 1px 3px 1px rgba(0, 0, 0, 0.15);\n",
              "      filter: drop-shadow(0px 1px 2px rgba(0, 0, 0, 0.3));\n",
              "      fill: #FFFFFF;\n",
              "    }\n",
              "  </style>\n",
              "\n",
              "    <script>\n",
              "      const buttonEl =\n",
              "        document.querySelector('#df-ea4f4aa9-386b-4204-8bd0-df75d2876ead button.colab-df-convert');\n",
              "      buttonEl.style.display =\n",
              "        google.colab.kernel.accessAllowed ? 'block' : 'none';\n",
              "\n",
              "      async function convertToInteractive(key) {\n",
              "        const element = document.querySelector('#df-ea4f4aa9-386b-4204-8bd0-df75d2876ead');\n",
              "        const dataTable =\n",
              "          await google.colab.kernel.invokeFunction('convertToInteractive',\n",
              "                                                    [key], {});\n",
              "        if (!dataTable) return;\n",
              "\n",
              "        const docLinkHtml = 'Like what you see? Visit the ' +\n",
              "          '<a target=\"_blank\" href=https://colab.research.google.com/notebooks/data_table.ipynb>data table notebook</a>'\n",
              "          + ' to learn more about interactive tables.';\n",
              "        element.innerHTML = '';\n",
              "        dataTable['output_type'] = 'display_data';\n",
              "        await google.colab.output.renderOutput(dataTable, element);\n",
              "        const docLink = document.createElement('div');\n",
              "        docLink.innerHTML = docLinkHtml;\n",
              "        element.appendChild(docLink);\n",
              "      }\n",
              "    </script>\n",
              "  </div>\n",
              "\n",
              "\n",
              "    <div id=\"df-2ab48ee0-62f2-4ada-8b32-5041d21ce394\">\n",
              "      <button class=\"colab-df-quickchart\" onclick=\"quickchart('df-2ab48ee0-62f2-4ada-8b32-5041d21ce394')\"\n",
              "                title=\"Suggest charts\"\n",
              "                style=\"display:none;\">\n",
              "\n",
              "<svg xmlns=\"http://www.w3.org/2000/svg\" height=\"24px\"viewBox=\"0 0 24 24\"\n",
              "     width=\"24px\">\n",
              "    <g>\n",
              "        <path d=\"M19 3H5c-1.1 0-2 .9-2 2v14c0 1.1.9 2 2 2h14c1.1 0 2-.9 2-2V5c0-1.1-.9-2-2-2zM9 17H7v-7h2v7zm4 0h-2V7h2v10zm4 0h-2v-4h2v4z\"/>\n",
              "    </g>\n",
              "</svg>\n",
              "      </button>\n",
              "\n",
              "<style>\n",
              "  .colab-df-quickchart {\n",
              "      --bg-color: #E8F0FE;\n",
              "      --fill-color: #1967D2;\n",
              "      --hover-bg-color: #E2EBFA;\n",
              "      --hover-fill-color: #174EA6;\n",
              "      --disabled-fill-color: #AAA;\n",
              "      --disabled-bg-color: #DDD;\n",
              "  }\n",
              "\n",
              "  [theme=dark] .colab-df-quickchart {\n",
              "      --bg-color: #3B4455;\n",
              "      --fill-color: #D2E3FC;\n",
              "      --hover-bg-color: #434B5C;\n",
              "      --hover-fill-color: #FFFFFF;\n",
              "      --disabled-bg-color: #3B4455;\n",
              "      --disabled-fill-color: #666;\n",
              "  }\n",
              "\n",
              "  .colab-df-quickchart {\n",
              "    background-color: var(--bg-color);\n",
              "    border: none;\n",
              "    border-radius: 50%;\n",
              "    cursor: pointer;\n",
              "    display: none;\n",
              "    fill: var(--fill-color);\n",
              "    height: 32px;\n",
              "    padding: 0;\n",
              "    width: 32px;\n",
              "  }\n",
              "\n",
              "  .colab-df-quickchart:hover {\n",
              "    background-color: var(--hover-bg-color);\n",
              "    box-shadow: 0 1px 2px rgba(60, 64, 67, 0.3), 0 1px 3px 1px rgba(60, 64, 67, 0.15);\n",
              "    fill: var(--button-hover-fill-color);\n",
              "  }\n",
              "\n",
              "  .colab-df-quickchart-complete:disabled,\n",
              "  .colab-df-quickchart-complete:disabled:hover {\n",
              "    background-color: var(--disabled-bg-color);\n",
              "    fill: var(--disabled-fill-color);\n",
              "    box-shadow: none;\n",
              "  }\n",
              "\n",
              "  .colab-df-spinner {\n",
              "    border: 2px solid var(--fill-color);\n",
              "    border-color: transparent;\n",
              "    border-bottom-color: var(--fill-color);\n",
              "    animation:\n",
              "      spin 1s steps(1) infinite;\n",
              "  }\n",
              "\n",
              "  @keyframes spin {\n",
              "    0% {\n",
              "      border-color: transparent;\n",
              "      border-bottom-color: var(--fill-color);\n",
              "      border-left-color: var(--fill-color);\n",
              "    }\n",
              "    20% {\n",
              "      border-color: transparent;\n",
              "      border-left-color: var(--fill-color);\n",
              "      border-top-color: var(--fill-color);\n",
              "    }\n",
              "    30% {\n",
              "      border-color: transparent;\n",
              "      border-left-color: var(--fill-color);\n",
              "      border-top-color: var(--fill-color);\n",
              "      border-right-color: var(--fill-color);\n",
              "    }\n",
              "    40% {\n",
              "      border-color: transparent;\n",
              "      border-right-color: var(--fill-color);\n",
              "      border-top-color: var(--fill-color);\n",
              "    }\n",
              "    60% {\n",
              "      border-color: transparent;\n",
              "      border-right-color: var(--fill-color);\n",
              "    }\n",
              "    80% {\n",
              "      border-color: transparent;\n",
              "      border-right-color: var(--fill-color);\n",
              "      border-bottom-color: var(--fill-color);\n",
              "    }\n",
              "    90% {\n",
              "      border-color: transparent;\n",
              "      border-bottom-color: var(--fill-color);\n",
              "    }\n",
              "  }\n",
              "</style>\n",
              "\n",
              "      <script>\n",
              "        async function quickchart(key) {\n",
              "          const quickchartButtonEl =\n",
              "            document.querySelector('#' + key + ' button');\n",
              "          quickchartButtonEl.disabled = true;  // To prevent multiple clicks.\n",
              "          quickchartButtonEl.classList.add('colab-df-spinner');\n",
              "          try {\n",
              "            const charts = await google.colab.kernel.invokeFunction(\n",
              "                'suggestCharts', [key], {});\n",
              "          } catch (error) {\n",
              "            console.error('Error during call to suggestCharts:', error);\n",
              "          }\n",
              "          quickchartButtonEl.classList.remove('colab-df-spinner');\n",
              "          quickchartButtonEl.classList.add('colab-df-quickchart-complete');\n",
              "        }\n",
              "        (() => {\n",
              "          let quickchartButtonEl =\n",
              "            document.querySelector('#df-2ab48ee0-62f2-4ada-8b32-5041d21ce394 button');\n",
              "          quickchartButtonEl.style.display =\n",
              "            google.colab.kernel.accessAllowed ? 'block' : 'none';\n",
              "        })();\n",
              "      </script>\n",
              "    </div>\n",
              "\n",
              "    </div>\n",
              "  </div>\n"
            ],
            "application/vnd.google.colaboratory.intrinsic+json": {
              "type": "dataframe",
              "variable_name": "df",
              "summary": "{\n  \"name\": \"df\",\n  \"rows\": 50000,\n  \"fields\": [\n    {\n      \"column\": \"userName\",\n      \"properties\": {\n        \"dtype\": \"string\",\n        \"num_unique_values\": 48177,\n        \"samples\": [\n          \"Yayat Burhan\",\n          \"bendol hithe\",\n          \"Firman Tahir\"\n        ],\n        \"semantic_type\": \"\",\n        \"description\": \"\"\n      }\n    },\n    {\n      \"column\": \"score\",\n      \"properties\": {\n        \"dtype\": \"number\",\n        \"std\": 1,\n        \"min\": 1,\n        \"max\": 5,\n        \"num_unique_values\": 5,\n        \"samples\": [\n          2,\n          4,\n          1\n        ],\n        \"semantic_type\": \"\",\n        \"description\": \"\"\n      }\n    },\n    {\n      \"column\": \"at\",\n      \"properties\": {\n        \"dtype\": \"object\",\n        \"num_unique_values\": 49609,\n        \"samples\": [\n          \"2024-01-01 12:00:46\",\n          \"2024-01-30 07:28:43\",\n          \"2024-02-12 08:52:00\"\n        ],\n        \"semantic_type\": \"\",\n        \"description\": \"\"\n      }\n    },\n    {\n      \"column\": \"content\",\n      \"properties\": {\n        \"dtype\": \"string\",\n        \"num_unique_values\": 31701,\n        \"samples\": [\n          \"Uang hilang tidak ada kejelasan..sudah lapor di aplikasi nomer laporan tidak tertera..lebih baik unistal ini aplikasi....kalau ada apa\\u00b2 di ini aplikasi pasti tidak akan di kembalikan. Aplikasi pencuri penipu\",\n          \"semoga bisa membantu\",\n          \"dana sangat membantu tp knp akun saya tidak bisa masuk ya pdhl tidak sengaja kepencet keluar \\ud83d\\ude2d\"\n        ],\n        \"semantic_type\": \"\",\n        \"description\": \"\"\n      }\n    },\n    {\n      \"column\": \"sentimen\",\n      \"properties\": {\n        \"dtype\": \"category\",\n        \"num_unique_values\": 3,\n        \"samples\": [\n          \"POSITIVE\",\n          \"NEGATIVE\",\n          \"NEUTRAL\"\n        ],\n        \"semantic_type\": \"\",\n        \"description\": \"\"\n      }\n    }\n  ]\n}"
            }
          },
          "metadata": {},
          "execution_count": 3
        }
      ]
    },
    {
      "cell_type": "code",
      "source": [
        "# menampilkan jumlah data pada setiap label sentimen\n",
        "print(\"Distribusi Label Sentimen:\")\n",
        "print(df['sentimen'].value_counts())\n",
        "\n",
        "# menampilkan persentase tiap label terhadap total data\n",
        "print(\"\\nPersentase (%):\")\n",
        "print(df['sentimen'].value_counts(normalize=True) * 100)"
      ],
      "metadata": {
        "colab": {
          "base_uri": "https://localhost:8080/"
        },
        "id": "1LMJUjGHWMUS",
        "outputId": "7144de53-1a7a-4add-c873-de1ff85ec8c6"
      },
      "execution_count": 4,
      "outputs": [
        {
          "output_type": "stream",
          "name": "stdout",
          "text": [
            "Distribusi Label Sentimen:\n",
            "sentimen\n",
            "POSITIVE    26555\n",
            "NEGATIVE    17073\n",
            "NEUTRAL      6372\n",
            "Name: count, dtype: int64\n",
            "\n",
            "Persentase (%):\n",
            "sentimen\n",
            "POSITIVE    53.110\n",
            "NEGATIVE    34.146\n",
            "NEUTRAL     12.744\n",
            "Name: proportion, dtype: float64\n"
          ]
        }
      ]
    },
    {
      "cell_type": "code",
      "source": [
        "# analisis panjang teks ulasan\n",
        "# fungsi untuk membersihkan teks dari simbol, angka, dan tanda baca\n",
        "def clean_basic(teks):\n",
        "    teks = str(teks).lower()\n",
        "    teks = re.sub(r\"http\\S+|www\\S+|@\\w+|#\\w+\", \" \", teks)  # hapus URL, mention, hashtag\n",
        "    teks = re.sub(r\"[^a-z0-9\\s]\", \" \", teks)               # hapus simbol & tanda baca\n",
        "    teks = re.sub(r\"\\s+\", \" \", teks).strip()               # rapikan spasi\n",
        "    return teks\n",
        "\n",
        "# terapkan fungsi ke kolom 'content'\n",
        "df['clean_text'] = df['content'].apply(clean_basic)\n",
        "\n",
        "# hitung jumlah kata di setiap ulasan\n",
        "df['word_count'] = df['clean_text'].apply(lambda x: len(x.split()))\n",
        "\n",
        "# tampilkan statistik umum panjang teks\n",
        "print(\"\\nStatistik Panjang Ulasan (Jumlah Kata):\")\n",
        "print(df['word_count'].describe())"
      ],
      "metadata": {
        "colab": {
          "base_uri": "https://localhost:8080/"
        },
        "id": "QBEw6uQHW0qZ",
        "outputId": "02e4e481-b796-4fdc-d541-bd351719d543"
      },
      "execution_count": 5,
      "outputs": [
        {
          "output_type": "stream",
          "name": "stdout",
          "text": [
            "\n",
            "Statistik Panjang Ulasan (Jumlah Kata):\n",
            "count    50000.000000\n",
            "mean         8.627580\n",
            "std         12.689794\n",
            "min          0.000000\n",
            "25%          1.000000\n",
            "50%          3.000000\n",
            "75%         10.000000\n",
            "max         98.000000\n",
            "Name: word_count, dtype: float64\n"
          ]
        }
      ]
    },
    {
      "cell_type": "code",
      "source": [
        "# cari batas panjang teks berdasarkan persentil (misal 95%)\n",
        "max_len = int(np.percentile(df['word_count'], 95))\n",
        "\n",
        "print(f\"Panjang maksimal teks yang ideal (95 persentil): {max_len} kata\")"
      ],
      "metadata": {
        "colab": {
          "base_uri": "https://localhost:8080/"
        },
        "id": "GBV4O256X8IR",
        "outputId": "c3504389-1efc-4fcc-c154-1fedd05d586f"
      },
      "execution_count": 6,
      "outputs": [
        {
          "output_type": "stream",
          "name": "stdout",
          "text": [
            "Panjang maksimal teks yang ideal (95 persentil): 35 kata\n"
          ]
        }
      ]
    },
    {
      "cell_type": "code",
      "source": [
        "import matplotlib.pyplot as plt\n",
        "\n",
        "# buat plot distribusi label\n",
        "plt.figure(figsize=(6,4))\n",
        "df['sentimen'].value_counts().plot(kind='bar', color=['green','red','gray'], edgecolor='black')\n",
        "plt.title('Distribusi Label Sentimen')\n",
        "plt.xlabel('Kategori Sentimen')\n",
        "plt.ylabel('Jumlah Data')\n",
        "plt.xticks(rotation=0)\n",
        "plt.grid(axis='y', linestyle='--', alpha=0.7)\n",
        "plt.show()"
      ],
      "metadata": {
        "colab": {
          "base_uri": "https://localhost:8080/",
          "height": 410
        },
        "id": "0rLcVY4jm1ZG",
        "outputId": "5a452385-14f5-46cb-af1b-4960fb42f28a"
      },
      "execution_count": 7,
      "outputs": [
        {
          "output_type": "display_data",
          "data": {
            "text/plain": [
              "<Figure size 600x400 with 1 Axes>"
            ],
            "image/png": "[encoded data removed]"
          },
          "metadata": {}
        }
      ]
    },
    {
      "cell_type": "markdown",
      "source": [
        "Grafik batang menunjukkan bahwa data *POSITIVE* memiliki jumlah paling banyak dibanding *NEGATIVE* dan *NEUTRAL*.  \n",
        "Hal ini menandakan dataset sedikit tidak seimbang , karena opini positif mendominasi sekitar setengah dari total data.  \n",
        "Namun, jumlah data negatif dan netral masih cukup besar untuk dilatih tanpa perlu penyeimbangan ekstrem."
      ],
      "metadata": {
        "id": "SI7ZCGB4nGdq"
      }
    },
    {
      "cell_type": "code",
      "source": [
        "plt.figure(figsize=(8,4))\n",
        "plt.hist(df['word_count'], bins=40, color='skyblue', edgecolor='black')\n",
        "plt.title('Distribusi Panjang Ulasan (Jumlah Kata)')\n",
        "plt.xlabel('Jumlah Kata per Ulasan')\n",
        "plt.ylabel('Frekuensi')\n",
        "plt.grid(axis='y', linestyle='--', alpha=0.7)\n",
        "plt.show()"
      ],
      "metadata": {
        "colab": {
          "base_uri": "https://localhost:8080/",
          "height": 410
        },
        "id": "gvDxIo5hm6OH",
        "outputId": "e9cd9922-a0c1-491f-aec9-5c5672bf7942"
      },
      "execution_count": 8,
      "outputs": [
        {
          "output_type": "display_data",
          "data": {
            "text/plain": [
              "<Figure size 800x400 with 1 Axes>"
            ],
            "image/png": "[encoded data removed]"
          },
          "metadata": {}
        }
      ]
    },
    {
      "cell_type": "markdown",
      "source": [
        "Histogram memperlihatkan sebagian besar ulasan memiliki panjang di bawah 15 kata, menandakan gaya komentar pengguna cenderung singkat.  \n",
        "Hanya sedikit ulasan yang sangat panjang (lebih dari 30 kata), sehingga penggunaan `max_len ≈ 35` sudah tepat — mencakup mayoritas data tanpa banyak padding."
      ],
      "metadata": {
        "id": "YJjzhx-inOD_"
      }
    },
    {
      "cell_type": "markdown",
      "source": [
        "## **Praproses**\n",
        "Membersihkan teks, hitung panjang, tetapkan batas panjang, buang baris kosong (setelah bersih), standarisasi label, dan ringkasan."
      ],
      "metadata": {
        "id": "A0LfJNXieeqw"
      }
    },
    {
      "cell_type": "code",
      "source": [
        "import re\n",
        "\n",
        "# fungsi pembersih teks\n",
        "def clean_basic(teks):\n",
        "    teks = str(teks).lower()\n",
        "    teks = re.sub(r\"http\\S+|www\\S+|@\\w+|#\\w+\", \" \", teks)   # hapus URL, mention, hashtag\n",
        "    teks = re.sub(r\"[^a-z0-9\\s]\", \" \", teks)                # hapus simbol & tanda baca\n",
        "    teks = re.sub(r\"\\s+\", \" \", teks).strip()                # rapikan spasi\n",
        "    return teks\n",
        "\n",
        "# hilangkan nilai kosong\n",
        "df = df.dropna(subset=['content','sentimen']).reset_index(drop=True)\n",
        "\n",
        "# bersihkan teks dan hitung jumlah kata\n",
        "df['clean_text'] = df['content'].apply(clean_basic)\n",
        "df['word_count'] = df['clean_text'].apply(lambda x: len(x.split()))\n",
        "\n",
        "# tampilkan hasil ringkas\n",
        "print(\"Jumlah total data:\", len(df))\n",
        "print(\"Contoh hasil cleaning (kolom clean_text):\")\n",
        "print(df['clean_text'].head(10))"
      ],
      "metadata": {
        "colab": {
          "base_uri": "https://localhost:8080/"
        },
        "id": "KaCMxUgKl9g2",
        "outputId": "6984748a-bc9e-4b73-c01f-ede089338053"
      },
      "execution_count": 9,
      "outputs": [
        {
          "output_type": "stream",
          "name": "stdout",
          "text": [
            "Jumlah total data: 50000\n",
            "Contoh hasil cleaning (kolom clean_text):\n",
            "0                                                bagus\n",
            "1                                dana mmg keren mantap\n",
            "2    saya ngajuin upgrade dana premium krna ktp say...\n",
            "3    kocak mana diskon nya ml malah eror segala kag...\n",
            "4    saldo hilang karena no lama hilang ganti no sa...\n",
            "5                                                mayan\n",
            "6    udah gua hapus dana ya ilang ya udah 1 juta le...\n",
            "7                                                 baik\n",
            "8    tolong untuk sistem keamanan di perbaiki kalau...\n",
            "9                                 mempermudah transfer\n",
            "Name: clean_text, dtype: object\n"
          ]
        }
      ]
    },
    {
      "cell_type": "code",
      "source": [
        "# batas panjang teks (95 persentil)\n",
        "max_len = int(np.percentile(df['word_count'], 95))\n",
        "\n",
        "# jumlah ulasan kosong setelah pembersihan\n",
        "jumlah_ulasan_kosong = int((df['word_count'] == 0).sum())\n",
        "\n",
        "print(\"Batas panjang teks (max_len):\", max_len)\n",
        "print(\"Ulasan kosong setelah cleaning:\", jumlah_ulasan_kosong)"
      ],
      "metadata": {
        "colab": {
          "base_uri": "https://localhost:8080/"
        },
        "id": "LMp8kLEZpIeD",
        "outputId": "f0be0766-0606-4939-acb9-fae82ffcdc6f"
      },
      "execution_count": 10,
      "outputs": [
        {
          "output_type": "stream",
          "name": "stdout",
          "text": [
            "Batas panjang teks (max_len): 35\n",
            "Ulasan kosong setelah cleaning: 617\n"
          ]
        }
      ]
    },
    {
      "cell_type": "code",
      "source": [
        "# buang ulasan kosong (word_count == 0) dan normalkan label\n",
        "df = df[df['word_count'] > 0].reset_index(drop=True)\n",
        "\n",
        "df['sentimen'] = df['sentimen'].astype(str).str.upper().str.strip()\n",
        "label_valid = {'NEGATIVE', 'NEUTRAL', 'POSITIVE'}\n",
        "df = df[df['sentimen'].isin(label_valid)].reset_index(drop=True)\n",
        "\n",
        "print(\"Baris tersisa:\", len(df))\n",
        "print(\"Min word_count:\", df['word_count'].min())\n",
        "print(\"word_count==0:\", (df['word_count'] == 0).sum())\n",
        "print(\"\\nDistribusi label:\")\n",
        "print(df['sentimen'].value_counts())"
      ],
      "metadata": {
        "colab": {
          "base_uri": "https://localhost:8080/"
        },
        "id": "u-J9gv7ipI4j",
        "outputId": "e2ffbdb4-9725-419e-e7f3-d3ec04de9d3d"
      },
      "execution_count": 11,
      "outputs": [
        {
          "output_type": "stream",
          "name": "stdout",
          "text": [
            "Baris tersisa: 49383\n",
            "Min word_count: 1\n",
            "word_count==0: 0\n",
            "\n",
            "Distribusi label:\n",
            "sentimen\n",
            "POSITIVE    26291\n",
            "NEGATIVE    17073\n",
            "NEUTRAL      6019\n",
            "Name: count, dtype: int64\n"
          ]
        }
      ]
    },
    {
      "cell_type": "code",
      "source": [
        "# hapus duplikat berdasarkan gabungan konten + label\n",
        "before = len(df)\n",
        "df = df.drop_duplicates(subset=['content', 'sentimen']).reset_index(drop=True)\n",
        "after = len(df)\n",
        "\n",
        "print(\"Baris sebelum dedup :\", before)\n",
        "print(\"Baris sesudah dedup :\", after)\n",
        "print(\"Duplikat terhapus   :\", before - after)\n",
        "print(\"\\nDistribusi label:\")\n",
        "print(df['sentimen'].value_counts())"
      ],
      "metadata": {
        "colab": {
          "base_uri": "https://localhost:8080/"
        },
        "id": "IW3EmWG1ph2Y",
        "outputId": "4f7497bb-57bb-4ddd-fc3e-5138c033903b"
      },
      "execution_count": 12,
      "outputs": [
        {
          "output_type": "stream",
          "name": "stdout",
          "text": [
            "Baris sebelum dedup : 49383\n",
            "Baris sesudah dedup : 31479\n",
            "Duplikat terhapus   : 17904\n",
            "\n",
            "Distribusi label:\n",
            "sentimen\n",
            "NEGATIVE    14030\n",
            "POSITIVE    11524\n",
            "NEUTRAL      5925\n",
            "Name: count, dtype: int64\n"
          ]
        }
      ]
    },
    {
      "cell_type": "code",
      "source": [
        "# visualisasi distribusi label setelah dedup\n",
        "plt.figure(figsize=(6,4))\n",
        "df['sentimen'].value_counts().plot(kind='bar', color=['salmon','lightgray','skyblue'], edgecolor='black')\n",
        "plt.title('Distribusi Label Sentimen (Setelah Dedup)')\n",
        "plt.xlabel('Label')\n",
        "plt.ylabel('Jumlah Data')\n",
        "plt.xticks(rotation=0)\n",
        "plt.grid(axis='y', linestyle='--', alpha=0.5)\n",
        "plt.show()"
      ],
      "metadata": {
        "colab": {
          "base_uri": "https://localhost:8080/",
          "height": 410
        },
        "id": "FLPASwDhqBAN",
        "outputId": "4db9924b-e704-4d73-b3b1-7101ab45b058"
      },
      "execution_count": 13,
      "outputs": [
        {
          "output_type": "display_data",
          "data": {
            "text/plain": [
              "<Figure size 600x400 with 1 Axes>"
            ],
            "image/png": "[encoded data removed]"
          },
          "metadata": {}
        }
      ]
    },
    {
      "cell_type": "code",
      "source": [
        "# visualisasi distribusi panjang ulasan (jumlah kata) setelah dedup\n",
        "plt.figure(figsize=(8,4))\n",
        "plt.hist(df['word_count'], bins=40, color='skyblue', edgecolor='black')\n",
        "plt.title('Distribusi Panjang Ulasan (Jumlah Kata) Setelah Dedup')\n",
        "plt.xlabel('Jumlah Kata per Ulasan')\n",
        "plt.ylabel('Frekuensi')\n",
        "plt.grid(axis='y', linestyle='--', alpha=0.5)\n",
        "plt.show()"
      ],
      "metadata": {
        "colab": {
          "base_uri": "https://localhost:8080/",
          "height": 410
        },
        "id": "Uu52VFBrrKYB",
        "outputId": "367bd9e6-a258-45ab-dd7a-06d68d0bebef"
      },
      "execution_count": 14,
      "outputs": [
        {
          "output_type": "display_data",
          "data": {
            "text/plain": [
              "<Figure size 800x400 with 1 Axes>"
            ],
            "image/png": "[encoded data removed]"
          },
          "metadata": {}
        }
      ]
    },
    {
      "cell_type": "code",
      "source": [
        "# ubah label teks menjadi angka biar bisa dipakai model\n",
        "label2id = {'NEGATIVE': 0, 'NEUTRAL': 1, 'POSITIVE': 2}\n",
        "df['label_id'] = df['sentimen'].map(label2id)\n",
        "\n",
        "# cek hasil konversi label\n",
        "print(df[['sentimen', 'label_id']].drop_duplicates().sort_values('label_id'))"
      ],
      "metadata": {
        "colab": {
          "base_uri": "https://localhost:8080/"
        },
        "id": "X3hw9YCmrbi2",
        "outputId": "3cdcac18-a044-4bdf-c63f-7d750196ab6b"
      },
      "execution_count": 15,
      "outputs": [
        {
          "output_type": "stream",
          "name": "stdout",
          "text": [
            "   sentimen  label_id\n",
            "2  NEGATIVE         0\n",
            "8   NEUTRAL         1\n",
            "0  POSITIVE         2\n"
          ]
        }
      ]
    },
    {
      "cell_type": "code",
      "source": [
        "# tokenisasi teks: ubah kata menjadi deretan angka\n",
        "MAX_VOCAB = 10000  # jumlah maksimal kata unik yang akan dipertahankan\n",
        "tokenizer = Tokenizer(num_words=MAX_VOCAB, oov_token=\"<OOV>\")\n",
        "tokenizer.fit_on_texts(df['clean_text'])\n",
        "\n",
        "# ubah teks menjadi deretan indeks angka\n",
        "sequences = tokenizer.texts_to_sequences(df['clean_text'])\n",
        "\n",
        "# padding supaya semua teks punya panjang sama\n",
        "X = pad_sequences(sequences, maxlen=max_len, padding='post', truncating='post')\n",
        "\n",
        "# siapkan label\n",
        "y = np.array(df['label_id'])\n",
        "\n",
        "# cek hasil\n",
        "print(\"Contoh hasil tokenisasi & padding:\")\n",
        "print(X[0])\n",
        "print(\"\\nPanjang input (X):\", X.shape)\n",
        "print(\"Panjang label (y):\", y.shape)"
      ],
      "metadata": {
        "colab": {
          "base_uri": "https://localhost:8080/"
        },
        "id": "Fs7vSStsr9oT",
        "outputId": "af1ece16-a9b4-4f5e-ab2d-62a828f22d52"
      },
      "execution_count": 16,
      "outputs": [
        {
          "output_type": "stream",
          "name": "stdout",
          "text": [
            "Contoh hasil tokenisasi & padding:\n",
            "[24  0  0  0  0  0  0  0  0  0  0  0  0  0  0  0  0  0  0  0  0  0  0  0\n",
            "  0  0  0  0  0  0  0  0  0  0  0]\n",
            "\n",
            "Panjang input (X): (31479, 35)\n",
            "Panjang label (y): (31479,)\n"
          ]
        }
      ]
    },
    {
      "cell_type": "code",
      "source": [
        "# split data latih dan validasi (80%:20%) agar proporsi label tetap seimbang\n",
        "from sklearn.model_selection import train_test_split\n",
        "import numpy as np\n",
        "\n",
        "X_train, X_val, y_train, y_val = train_test_split(\n",
        "    X, y, test_size=0.2, stratify=y, random_state=42\n",
        ")\n",
        "\n",
        "# cek bentuk data hasil split\n",
        "print(\"X_train:\", X_train.shape, \"| y_train:\", y_train.shape)\n",
        "print(\"X_val  :\", X_val.shape,   \"| y_val  :\", y_val.shape)\n",
        "\n",
        "# lihat distribusi label di masing-masing subset\n",
        "print(\"\\nDistribusi label y_train:\", np.bincount(y_train))\n",
        "print(\"Distribusi label y_val  :\", np.bincount(y_val))"
      ],
      "metadata": {
        "colab": {
          "base_uri": "https://localhost:8080/"
        },
        "id": "SxFb0XTUsF4r",
        "outputId": "9ab0b088-8eb6-4629-a528-7fe5c712b755"
      },
      "execution_count": 17,
      "outputs": [
        {
          "output_type": "stream",
          "name": "stdout",
          "text": [
            "X_train: (25183, 35) | y_train: (25183,)\n",
            "X_val  : (6296, 35) | y_val  : (6296,)\n",
            "\n",
            "Distribusi label y_train: [11224  4740  9219]\n",
            "Distribusi label y_val  : [2806 1185 2305]\n"
          ]
        }
      ]
    },
    {
      "cell_type": "markdown",
      "source": [
        "## **Pembuatan Model LSTM (Klasifikasi Sentimen)**\n",
        "Pada tahap ini kita membangun arsitektur jaringan berbasis LSTM untuk memproses urutan kata dan memprediksi label sentimen. LSTM dipilih karena mampu “mengingat” konteks penting dalam urutan teks melalui mekanisme gerbang (forget, input, output), sehingga lebih stabil dibanding RNN sederhana untuk kalimat yang bervariasi panjangnya.\n"
      ],
      "metadata": {
        "id": "X0OL9srKxZR6"
      }
    },
    {
      "cell_type": "code",
      "source": [
        "# Menetapkan seed agar hasil pelatihan tetap konsisten setiap kali dijalankan\n",
        "import tensorflow as tf\n",
        "import numpy as np\n",
        "import random\n",
        "\n",
        "tf.random.set_seed(42)\n",
        "np.random.seed(42)\n",
        "random.seed(42)"
      ],
      "metadata": {
        "id": "SpOdk1xoRw0j"
      },
      "execution_count": 18,
      "outputs": []
    },
    {
      "cell_type": "code",
      "source": [
        "# model LSTM untuk klasifikasi 3 kelas (NEGATIVE, NEUTRAL, POSITIVE)\n",
        "from tensorflow.keras.optimizers import Adam\n",
        "\n",
        "vocab_size = min(10000, len(tokenizer.word_index) + 1)\n",
        "\n",
        "model = Sequential([\n",
        "    Embedding(input_dim=vocab_size, output_dim=128, input_length=max_len),\n",
        "    Bidirectional(LSTM(128, dropout=0.2, recurrent_dropout=0.2, return_sequences=False)),\n",
        "    Dropout(0.3),\n",
        "    Dense(64, activation='relu'),\n",
        "    Dense(3, activation='softmax')\n",
        "])\n",
        "\n",
        "model.compile(\n",
        "    optimizer=Adam(learning_rate=2e-3),\n",
        "    loss='sparse_categorical_crossentropy',\n",
        "    metrics=['accuracy']\n",
        ")\n",
        "\n",
        "model.summary()\n"
      ],
      "metadata": {
        "colab": {
          "base_uri": "https://localhost:8080/",
          "height": 321
        },
        "id": "sTMzKTn_xbeS",
        "outputId": "07dbc3b1-534a-445f-eb7d-13493d4213ab"
      },
      "execution_count": 19,
      "outputs": [
        {
          "output_type": "stream",
          "name": "stderr",
          "text": [
            "/usr/local/lib/python3.12/dist-packages/keras/src/layers/core/embedding.py:97: UserWarning: Argument `input_length` is deprecated. Just remove it.\n",
            "  warnings.warn(\n"
          ]
        },
        {
          "output_type": "display_data",
          "data": {
            "text/plain": [
              "\u001b[1mModel: \"sequential\"\u001b[0m\n"
            ],
            "text/html": [
              "<pre style=\"white-space:pre;overflow-x:auto;line-height:normal;font-family:Menlo,'DejaVu Sans Mono',consolas,'Courier New',monospace\"><span style=\"font-weight: bold\">Model: \"sequential\"</span>\n",
              "</pre>\n"
            ]
          },
          "metadata": {}
        },
        {
          "output_type": "display_data",
          "data": {
            "text/plain": [
              "┏━━━━━━━━━━━━━━━━━━━━━━━━━━━━━━━━━┳━━━━━━━━━━━━━━━━━━━━━━━━┳━━━━━━━━━━━━━━━┓\n",
              "┃\u001b[1m \u001b[0m\u001b[1mLayer (type)                   \u001b[0m\u001b[1m \u001b[0m┃\u001b[1m \u001b[0m\u001b[1mOutput Shape          \u001b[0m\u001b[1m \u001b[0m┃\u001b[1m \u001b[0m\u001b[1m      Param #\u001b[0m\u001b[1m \u001b[0m┃\n",
              "┡━━━━━━━━━━━━━━━━━━━━━━━━━━━━━━━━━╇━━━━━━━━━━━━━━━━━━━━━━━━╇━━━━━━━━━━━━━━━┩\n",
              "│ embedding (\u001b[38;5;33mEmbedding\u001b[0m)           │ ?                      │   \u001b[38;5;34m0\u001b[0m (unbuilt) │\n",
              "├─────────────────────────────────┼────────────────────────┼───────────────┤\n",
              "│ bidirectional (\u001b[38;5;33mBidirectional\u001b[0m)   │ ?                      │   \u001b[38;5;34m0\u001b[0m (unbuilt) │\n",
              "├─────────────────────────────────┼────────────────────────┼───────────────┤\n",
              "│ dropout (\u001b[38;5;33mDropout\u001b[0m)               │ ?                      │             \u001b[38;5;34m0\u001b[0m │\n",
              "├─────────────────────────────────┼────────────────────────┼───────────────┤\n",
              "│ dense (\u001b[38;5;33mDense\u001b[0m)                   │ ?                      │   \u001b[38;5;34m0\u001b[0m (unbuilt) │\n",
              "├─────────────────────────────────┼────────────────────────┼───────────────┤\n",
              "│ dense_1 (\u001b[38;5;33mDense\u001b[0m)                 │ ?                      │   \u001b[38;5;34m0\u001b[0m (unbuilt) │\n",
              "└─────────────────────────────────┴────────────────────────┴───────────────┘\n"
            ],
            "text/html": [
              "<pre style=\"white-space:pre;overflow-x:auto;line-height:normal;font-family:Menlo,'DejaVu Sans Mono',consolas,'Courier New',monospace\">┏━━━━━━━━━━━━━━━━━━━━━━━━━━━━━━━━━┳━━━━━━━━━━━━━━━━━━━━━━━━┳━━━━━━━━━━━━━━━┓\n",
              "┃<span style=\"font-weight: bold\"> Layer (type)                    </span>┃<span style=\"font-weight: bold\"> Output Shape           </span>┃<span style=\"font-weight: bold\">       Param # </span>┃\n",
              "┡━━━━━━━━━━━━━━━━━━━━━━━━━━━━━━━━━╇━━━━━━━━━━━━━━━━━━━━━━━━╇━━━━━━━━━━━━━━━┩\n",
              "│ embedding (<span style=\"color: #0087ff; text-decoration-color: #0087ff\">Embedding</span>)           │ ?                      │   <span style=\"color: #00af00; text-decoration-color: #00af00\">0</span> (unbuilt) │\n",
              "├─────────────────────────────────┼────────────────────────┼───────────────┤\n",
              "│ bidirectional (<span style=\"color: #0087ff; text-decoration-color: #0087ff\">Bidirectional</span>)   │ ?                      │   <span style=\"color: #00af00; text-decoration-color: #00af00\">0</span> (unbuilt) │\n",
              "├─────────────────────────────────┼────────────────────────┼───────────────┤\n",
              "│ dropout (<span style=\"color: #0087ff; text-decoration-color: #0087ff\">Dropout</span>)               │ ?                      │             <span style=\"color: #00af00; text-decoration-color: #00af00\">0</span> │\n",
              "├─────────────────────────────────┼────────────────────────┼───────────────┤\n",
              "│ dense (<span style=\"color: #0087ff; text-decoration-color: #0087ff\">Dense</span>)                   │ ?                      │   <span style=\"color: #00af00; text-decoration-color: #00af00\">0</span> (unbuilt) │\n",
              "├─────────────────────────────────┼────────────────────────┼───────────────┤\n",
              "│ dense_1 (<span style=\"color: #0087ff; text-decoration-color: #0087ff\">Dense</span>)                 │ ?                      │   <span style=\"color: #00af00; text-decoration-color: #00af00\">0</span> (unbuilt) │\n",
              "└─────────────────────────────────┴────────────────────────┴───────────────┘\n",
              "</pre>\n"
            ]
          },
          "metadata": {}
        },
        {
          "output_type": "display_data",
          "data": {
            "text/plain": [
              "\u001b[1m Total params: \u001b[0m\u001b[38;5;34m0\u001b[0m (0.00 B)\n"
            ],
            "text/html": [
              "<pre style=\"white-space:pre;overflow-x:auto;line-height:normal;font-family:Menlo,'DejaVu Sans Mono',consolas,'Courier New',monospace\"><span style=\"font-weight: bold\"> Total params: </span><span style=\"color: #00af00; text-decoration-color: #00af00\">0</span> (0.00 B)\n",
              "</pre>\n"
            ]
          },
          "metadata": {}
        },
        {
          "output_type": "display_data",
          "data": {
            "text/plain": [
              "\u001b[1m Trainable params: \u001b[0m\u001b[38;5;34m0\u001b[0m (0.00 B)\n"
            ],
            "text/html": [
              "<pre style=\"white-space:pre;overflow-x:auto;line-height:normal;font-family:Menlo,'DejaVu Sans Mono',consolas,'Courier New',monospace\"><span style=\"font-weight: bold\"> Trainable params: </span><span style=\"color: #00af00; text-decoration-color: #00af00\">0</span> (0.00 B)\n",
              "</pre>\n"
            ]
          },
          "metadata": {}
        },
        {
          "output_type": "display_data",
          "data": {
            "text/plain": [
              "\u001b[1m Non-trainable params: \u001b[0m\u001b[38;5;34m0\u001b[0m (0.00 B)\n"
            ],
            "text/html": [
              "<pre style=\"white-space:pre;overflow-x:auto;line-height:normal;font-family:Menlo,'DejaVu Sans Mono',consolas,'Courier New',monospace\"><span style=\"font-weight: bold\"> Non-trainable params: </span><span style=\"color: #00af00; text-decoration-color: #00af00\">0</span> (0.00 B)\n",
              "</pre>\n"
            ]
          },
          "metadata": {}
        }
      ]
    },
    {
      "cell_type": "markdown",
      "source": [
        "Model ini merupakan arsitektur **Long Short-Term Memory (LSTM)** yang digunakan untuk klasifikasi sentimen.  \n",
        "Lapisan `Embedding` mengubah kata menjadi representasi vektor, sedangkan `Bidirectional(LSTM)` menjadi inti model yang mempelajari konteks kalimat dari dua arah.  \n",
        "Lapisan `Dropout` mencegah overfitting, dan `Dense` berfungsi dalam proses pembelajaran hingga menghasilkan tiga output sentimen: negatif, netral, dan positif.  \n",
        "Model ini termasuk jenis **LSTM many-to-one**, karena menerima banyak kata dan menghasilkan satu label sentimen.  \n",
        "Optimizer **Adam** digunakan untuk menyesuaikan bobot model secara efisien agar proses pelatihan lebih cepat dan stabil."
      ],
      "metadata": {
        "id": "kWqxTI2XSUtt"
      }
    },
    {
      "cell_type": "code",
      "source": [
        "# latih model dengan early stopping\n",
        "from tensorflow.keras.callbacks import EarlyStopping\n",
        "\n",
        "early_stop = EarlyStopping(monitor='val_loss', patience=3, restore_best_weights=True)\n",
        "\n",
        "history = model.fit(\n",
        "    X_train, y_train,\n",
        "    validation_data=(X_val, y_val),\n",
        "    epochs=12,\n",
        "    batch_size=128,\n",
        "    callbacks=[early_stop],\n",
        "    verbose=1\n",
        ")"
      ],
      "metadata": {
        "colab": {
          "base_uri": "https://localhost:8080/"
        },
        "id": "YljgxhzPSWmQ",
        "outputId": "6e7e6b36-c06d-447a-9522-688b2b1e54b7"
      },
      "execution_count": 20,
      "outputs": [
        {
          "output_type": "stream",
          "name": "stdout",
          "text": [
            "Epoch 1/12\n",
            "\u001b[1m197/197\u001b[0m \u001b[32m━━━━━━━━━━━━━━━━━━━━\u001b[0m\u001b[37m\u001b[0m \u001b[1m116s\u001b[0m 496ms/step - accuracy: 0.6951 - loss: 0.6992 - val_accuracy: 0.8166 - val_loss: 0.4614\n",
            "Epoch 2/12\n",
            "\u001b[1m197/197\u001b[0m \u001b[32m━━━━━━━━━━━━━━━━━━━━\u001b[0m\u001b[37m\u001b[0m \u001b[1m94s\u001b[0m 475ms/step - accuracy: 0.8330 - loss: 0.4240 - val_accuracy: 0.8194 - val_loss: 0.4629\n",
            "Epoch 3/12\n",
            "\u001b[1m197/197\u001b[0m \u001b[32m━━━━━━━━━━━━━━━━━━━━\u001b[0m\u001b[37m\u001b[0m \u001b[1m103s\u001b[0m 522ms/step - accuracy: 0.8706 - loss: 0.3439 - val_accuracy: 0.8161 - val_loss: 0.4827\n",
            "Epoch 4/12\n",
            "\u001b[1m197/197\u001b[0m \u001b[32m━━━━━━━━━━━━━━━━━━━━\u001b[0m\u001b[37m\u001b[0m \u001b[1m94s\u001b[0m 476ms/step - accuracy: 0.8916 - loss: 0.2920 - val_accuracy: 0.8081 - val_loss: 0.5053\n"
          ]
        }
      ]
    },
    {
      "cell_type": "code",
      "source": [
        "# evaluasi pada data validasi/test\n",
        "from sklearn.metrics import classification_report, confusion_matrix\n",
        "\n",
        "val_loss, val_acc = model.evaluate(X_val, y_val, verbose=0)\n",
        "print(f\"Akurasi validasi: {val_acc:.4f}\")\n",
        "print(f\"Loss validasi   : {val_loss:.4f}\")\n",
        "\n",
        "y_pred = model.predict(X_val, verbose=0).argmax(axis=1)\n",
        "\n",
        "print(\"\\nClassification Report:\")\n",
        "print(classification_report(y_val, y_pred, target_names=['NEGATIVE','NEUTRAL','POSITIVE']))\n",
        "\n",
        "print(\"Confusion Matrix:\")\n",
        "print(confusion_matrix(y_val, y_pred))"
      ],
      "metadata": {
        "colab": {
          "base_uri": "https://localhost:8080/"
        },
        "id": "OUtVa3A8ayz5",
        "outputId": "6e4bda7d-9579-4ec2-8662-ed3df7ed8bbe"
      },
      "execution_count": 21,
      "outputs": [
        {
          "output_type": "stream",
          "name": "stdout",
          "text": [
            "Akurasi validasi: 0.8166\n",
            "Loss validasi   : 0.4614\n",
            "\n",
            "Classification Report:\n",
            "              precision    recall  f1-score   support\n",
            "\n",
            "    NEGATIVE       0.81      0.87      0.84      2806\n",
            "     NEUTRAL       0.72      0.52      0.61      1185\n",
            "    POSITIVE       0.86      0.90      0.88      2305\n",
            "\n",
            "    accuracy                           0.82      6296\n",
            "   macro avg       0.80      0.76      0.77      6296\n",
            "weighted avg       0.81      0.82      0.81      6296\n",
            "\n",
            "Confusion Matrix:\n",
            "[[2451  167  188]\n",
            " [ 426  618  141]\n",
            " [ 162   71 2072]]\n"
          ]
        }
      ]
    },
    {
      "cell_type": "markdown",
      "source": [
        "Hasil evaluasi menunjukkan bahwa model LSTM berhasil mengenali pola sentimen dengan baik.  \n",
        "Model mencapai akurasi validasi sebesar **81,6%**, menandakan sebagian besar prediksi sudah sesuai dengan label sebenarnya.  \n",
        "Nilai *loss* yang cukup rendah (0,46) juga menunjukkan model mampu mempelajari data tanpa terlalu banyak kesalahan.  \n",
        "Dari *classification report*, terlihat bahwa performa terbaik ada pada kelas **positif**, sedangkan kelas **netral** masih menjadi tantangan karena sering tertukar dengan kelas lain.  \n",
        "Secara keseluruhan, model bekerja stabil."
      ],
      "metadata": {
        "id": "qjtHQ-nKhlis"
      }
    },
    {
      "cell_type": "code",
      "source": [
        "# Uji Prediksi Manual\n",
        "def prediksi_sentimen(teks):\n",
        "    # pra-pemrosesan sederhana seperti di data training\n",
        "    teks_bersih = re.sub(r\"http\\S+|www\\S+|@\\w+|#\\w+\", \" \", teks.lower())\n",
        "    teks_bersih = re.sub(r\"[^a-z0-9\\s]\", \" \", teks_bersih)\n",
        "    teks_bersih = re.sub(r\"\\s+\", \" \", teks_bersih).strip()\n",
        "\n",
        "    # ubah teks ke urutan angka dan lakukan padding\n",
        "    seq = tokenizer.texts_to_sequences([teks_bersih])\n",
        "    pad = pad_sequences(seq, maxlen=max_len, padding='post', truncating='post')\n",
        "\n",
        "    # prediksi\n",
        "    pred = model.predict(pad, verbose=0).argmax(axis=1)[0]\n",
        "    label_map = {0: \"NEGATIVE\", 1: \"NEUTRAL\", 2: \"POSITIVE\"}\n",
        "    return label_map[pred]\n",
        "\n",
        "# contoh uji\n",
        "contoh_teks = [\n",
        "    \"Aplikasi yang bagus!\",\n",
        "    \"Dana mempunyai tampilan yang rapi!\",\n",
        "    \"Aplikasi jelek.\",\n",
        "    \"UI nya cukup bagus, simple\"\n",
        "]\n",
        "\n",
        "for teks in contoh_teks:\n",
        "    print(f\"Teks: {teks}\")\n",
        "    print(f\"Prediksi sentimen: {prediksi_sentimen(teks)}\\n\")"
      ],
      "metadata": {
        "colab": {
          "base_uri": "https://localhost:8080/"
        },
        "id": "7hONV7PNgksY",
        "outputId": "ebed22d8-afdd-4504-9db9-66ab1084b5a4"
      },
      "execution_count": 22,
      "outputs": [
        {
          "output_type": "stream",
          "name": "stdout",
          "text": [
            "Teks: Aplikasi yang bagus!\n",
            "Prediksi sentimen: POSITIVE\n",
            "\n",
            "Teks: Dana mempunyai tampilan yang rapi!\n",
            "Prediksi sentimen: POSITIVE\n",
            "\n",
            "Teks: Aplikasi jelek.\n",
            "Prediksi sentimen: NEGATIVE\n",
            "\n",
            "Teks: UI nya cukup bagus, simple\n",
            "Prediksi sentimen: POSITIVE\n",
            "\n"
          ]
        }
      ]
    },
    {
      "cell_type": "code",
      "source": [
        "# Lihat probabilitas per kelas untuk teks uji\n",
        "id2label = {0:'NEGATIVE', 1:'NEUTRAL', 2:'POSITIVE'}\n",
        "\n",
        "def probs_per_teks(texts):\n",
        "    clean = [re.sub(r\"\\s+\", \" \", re.sub(r\"[^a-z0-9\\s]\", \" \", re.sub(r\"http\\S+|www\\S+|@\\w+|#\\w+\",\" \", t.lower()))).strip()\n",
        "             for t in texts]\n",
        "    seqs = tokenizer.texts_to_sequences(clean)\n",
        "    X_infer = pad_sequences(seqs, maxlen=max_len, padding='post', truncating='post')\n",
        "    probs = model.predict(X_infer, verbose=0)\n",
        "    for t, pr in zip(texts, probs):\n",
        "        pred = pr.argmax()\n",
        "        print(f\"\\nTeks: {t}\\nPrediksi: {id2label[pred]} | Prob → NEG={pr[0]:.2f} | NEU={pr[1]:.2f} | POS={pr[2]:.2f}\")\n",
        "\n",
        "probs_per_teks([\n",
        "    \"Aplikasi yang bagus!\",\n",
        "    \"Biasa saja, tidak ada yang spesial\",\n",
        "    \"Aplikasi jelek.\",\n",
        "    \"UI nya cukup bagus, simple\",\n",
        "    \"Tidak bagus\"\n",
        "])"
      ],
      "metadata": {
        "colab": {
          "base_uri": "https://localhost:8080/"
        },
        "id": "Xz_-2azWiTTv",
        "outputId": "673720c7-114f-48ff-9bc0-0b40ab8390e9"
      },
      "execution_count": 23,
      "outputs": [
        {
          "output_type": "stream",
          "name": "stdout",
          "text": [
            "\n",
            "Teks: Aplikasi yang bagus!\n",
            "Prediksi: POSITIVE | Prob → NEG=0.01 | NEU=0.01 | POS=0.97\n",
            "\n",
            "Teks: Biasa saja, tidak ada yang spesial\n",
            "Prediksi: NEGATIVE | Prob → NEG=0.96 | NEU=0.04 | POS=0.01\n",
            "\n",
            "Teks: Aplikasi jelek.\n",
            "Prediksi: NEGATIVE | Prob → NEG=0.96 | NEU=0.02 | POS=0.02\n",
            "\n",
            "Teks: UI nya cukup bagus, simple\n",
            "Prediksi: POSITIVE | Prob → NEG=0.01 | NEU=0.01 | POS=0.99\n",
            "\n",
            "Teks: Tidak bagus\n",
            "Prediksi: POSITIVE | Prob → NEG=0.48 | NEU=0.03 | POS=0.50\n"
          ]
        }
      ]
    },
    {
      "cell_type": "markdown",
      "source": [
        "Hasil prediksi menunjukkan bahwa model sudah cukup baik dalam mengenali kalimat dengan nada positif dan negatif yang jelas.  \n",
        "Kalimat seperti **“Aplikasi yang bagus!”** dan **“UI nya cukup bagus, simple”** diprediksi dengan tingkat keyakinan tinggi sebagai **positif**, sementara **“Aplikasi jelek.”** terdeteksi kuat sebagai **negatif**.  \n",
        "\n",
        "Namun, pada kalimat **“Biasa saja, tidak ada yang spesial”**, model memberikan prediksi **negatif**, padahal konteksnya lebih cenderung **netral**.  \n",
        "Selain itu, kalimat **“Tidak bagus”** juga keliru diklasifikasikan sebagai **positif**, karena model lebih fokus pada kata “bagus” tanpa memahami makna penyangkalan dari kata “tidak”.  \n",
        "\n",
        "Hal ini menunjukkan bahwa model masih kesulitan dalam mengenali konteks **negasi (kata tidak, bukan, kurang, dll)** dan **kalimat netral**.  \n",
        "Penyebab utamanya kemungkinan karena **data pelatihan kurang bervariasi** dalam contoh kalimat yang mengandung pola negasi atau ekspresi netral.  \n",
        "\n",
        "Secara keseluruhan, model sudah mampu menangkap pola sentimen dasar dengan baik, tetapi masih perlu penyempurnaan agar lebih peka terhadap konteks yang lebih kompleks seperti negasi dan netralitas."
      ],
      "metadata": {
        "id": "537IRGsfp3ov"
      }
    },
    {
      "cell_type": "markdown",
      "source": [
        "## **Penyesuaian**"
      ],
      "metadata": {
        "id": "TAyfWKTRt1gk"
      }
    },
    {
      "cell_type": "markdown",
      "source": [
        "Pada tahap ini dilakukan **penyesuaian kecil** untuk meningkatkan kemampuan model dalam memahami kalimat yang mengandung **kata penyangkalan (negasi)**, seperti *“tidak bagus”*, *“kurang cepat”*, atau *“bukan jelek”*.  \n",
        "\n",
        "Masalah ini muncul karena model sebelumnya hanya mengenali kata berdasarkan frekuensi kemunculannya di data latih.  \n",
        "Akibatnya, kata positif seperti *“bagus”* tetap dianggap positif walaupun ada kata *“tidak”* di depannya, karena model tidak benar-benar memahami konteks penyangkalan.\n",
        "\n",
        "Untuk mengatasi hal ini, digunakan **metode aturan pascaprediksi (post-processing rule)**.  \n",
        "Artinya, setelah model memberikan hasil prediksi, dilakukan pengecekan tambahan terhadap kalimat aslinya.  \n",
        "Jika ditemukan pola **kata negasi** yang diikuti oleh **kata bernada positif**, maka hasil prediksi akan dikoreksi menjadi **negatif**.  \n",
        "Sebaliknya, jika kata negasi diikuti oleh **kata bernada negatif**, maka dianggap sebagai **penyangkalan ganda (double negation)** dan hasilnya menjadi **positif**.\n",
        "\n",
        "Dengan cara ini, model tidak perlu dilatih ulang, tetapi tetap dapat mengenali makna yang lebih sesuai pada kalimat yang mengandung kata “tidak”, “bukan”, “kurang”, dan sejenisnya."
      ],
      "metadata": {
        "id": "QLYqUeLItwhY"
      }
    },
    {
      "cell_type": "code",
      "source": [
        "# Penyesuaian hasil prediksi dengan aturan negasi sederhana\n",
        "\n",
        "# daftar kata negasi dan kata sentimen umum\n",
        "NEGATORS = {\"tidak\", \"nggak\", \"gak\", \"ga\", \"bukan\", \"kurang\", \"tdk\", \"tak\"}\n",
        "POS_WORDS = {\"bagus\", \"mantap\", \"keren\", \"baik\", \"cepat\", \"mudah\", \"simple\", \"simpel\", \"rapi\", \"memuaskan\"}\n",
        "NEG_WORDS = {\"jelek\", \"buruk\", \"lemot\", \"lambat\", \"error\", \"susah\", \"parah\", \"kecewa\", \"mengecewakan\", \"ribet\"}\n",
        "\n",
        "id2label = {0: 'NEGATIVE', 1: 'NEUTRAL', 2: 'POSITIVE'}\n",
        "\n",
        "def predict_with_negation_rule(texts):\n",
        "    results = []\n",
        "    for t in texts:\n",
        "        # pembersihan sederhana\n",
        "        s = re.sub(r\"http\\S+|www\\S+|@\\w+|#\\w+\", \" \", t.lower())\n",
        "        s = re.sub(r\"[^a-z0-9\\s]\", \" \", s)\n",
        "        s = re.sub(r\"\\s+\", \" \", s).strip()\n",
        "        toks = s.split()\n",
        "\n",
        "        # ubah teks ke urutan angka + padding\n",
        "        seq = tokenizer.texts_to_sequences([s])\n",
        "        X_infer = pad_sequences(seq, maxlen=max_len, padding='post', truncating='post')\n",
        "\n",
        "        # prediksi dari model (softmax)\n",
        "        prob = model.predict(X_infer, verbose=0)[0]\n",
        "        top = prob.argmax()\n",
        "        pred = id2label[top]\n",
        "\n",
        "        # aturan negasi: cek jika ada kata negator diikuti kata sentimen\n",
        "        flip_to = None\n",
        "        for i, w in enumerate(toks):\n",
        "            if w in NEGATORS:\n",
        "                # cek 1–2 kata setelahnya\n",
        "                neighbors = toks[i+1:i+3]\n",
        "                if any(n in POS_WORDS for n in neighbors):\n",
        "                    flip_to = 'NEGATIVE'   # tidak + bagus → NEGATIVE\n",
        "                    break\n",
        "                if any(n in NEG_WORDS for n in neighbors):\n",
        "                    flip_to = 'POSITIVE'   # bukan + jelek → POSITIVE\n",
        "                    break\n",
        "\n",
        "        # jika ditemukan pola negasi, ubah hasil\n",
        "        if flip_to:\n",
        "            pred = flip_to\n",
        "\n",
        "        results.append((t, pred, prob))\n",
        "\n",
        "    # tampilkan hasil\n",
        "    for t, lab, pr in results:\n",
        "        print(f\"\\nTeks: {t}\\nPrediksi (setelah aturan negasi): {lab} | Prob→ NEG={pr[0]:.2f} | NEU={pr[1]:.2f} | POS={pr[2]:.2f}\")\n",
        "\n",
        "# contoh pengujian\n",
        "predict_with_negation_rule([\n",
        "\"Tidak terlalu bagus\",\n",
        "\"Ga begitu cepat\",\n",
        "    \"Bukan sangat jelek\",\n",
        "\"Tidak cepat sama sekali\",\n",
        "    \"UI bagus tapi sering error\",\n",
        "    \"Fitur lengkap namun lambat\",\n",
        "    \"Baru instal, belum coba\",\n",
        "    \"Versi terbaru 5.3 dirilis kemarin\",\n",
        "    \"baguuusss sekali\",\n",
        "    \"JELEK!!!\",\n",
        "    \"keren tapi sometimes slow\",\n",
        "    \"Bagus\",\n",
        "    \"Kecewa\",\n",
        "    \"Lumayan, tapi kadang lemot\"])"
      ],
      "metadata": {
        "colab": {
          "base_uri": "https://localhost:8080/"
        },
        "id": "ZZ2Zf1wptzr-",
        "outputId": "4134167d-9b8c-48e3-9fc2-e9eb49659fef"
      },
      "execution_count": 32,
      "outputs": [
        {
          "output_type": "stream",
          "name": "stdout",
          "text": [
            "\n",
            "Teks: Tidak terlalu bagus\n",
            "Prediksi (setelah aturan negasi): NEGATIVE | Prob→ NEG=0.91 | NEU=0.02 | POS=0.07\n",
            "\n",
            "Teks: Ga begitu cepat\n",
            "Prediksi (setelah aturan negasi): NEGATIVE | Prob→ NEG=0.26 | NEU=0.06 | POS=0.68\n",
            "\n",
            "Teks: Bukan sangat jelek\n",
            "Prediksi (setelah aturan negasi): POSITIVE | Prob→ NEG=0.97 | NEU=0.01 | POS=0.02\n",
            "\n",
            "Teks: Tidak cepat sama sekali\n",
            "Prediksi (setelah aturan negasi): NEGATIVE | Prob→ NEG=0.66 | NEU=0.04 | POS=0.30\n",
            "\n",
            "Teks: UI bagus tapi sering error\n",
            "Prediksi (setelah aturan negasi): NEGATIVE | Prob→ NEG=0.83 | NEU=0.03 | POS=0.14\n",
            "\n",
            "Teks: Fitur lengkap namun lambat\n",
            "Prediksi (setelah aturan negasi): NEGATIVE | Prob→ NEG=0.70 | NEU=0.16 | POS=0.14\n",
            "\n",
            "Teks: Baru instal, belum coba\n",
            "Prediksi (setelah aturan negasi): NEUTRAL | Prob→ NEG=0.25 | NEU=0.67 | POS=0.08\n",
            "\n",
            "Teks: Versi terbaru 5.3 dirilis kemarin\n",
            "Prediksi (setelah aturan negasi): NEUTRAL | Prob→ NEG=0.45 | NEU=0.51 | POS=0.04\n",
            "\n",
            "Teks: baguuusss sekali\n",
            "Prediksi (setelah aturan negasi): POSITIVE | Prob→ NEG=0.37 | NEU=0.07 | POS=0.56\n",
            "\n",
            "Teks: JELEK!!!\n",
            "Prediksi (setelah aturan negasi): NEGATIVE | Prob→ NEG=0.96 | NEU=0.02 | POS=0.02\n",
            "\n",
            "Teks: keren tapi sometimes slow\n",
            "Prediksi (setelah aturan negasi): NEGATIVE | Prob→ NEG=0.64 | NEU=0.14 | POS=0.22\n",
            "\n",
            "Teks: Bagus\n",
            "Prediksi (setelah aturan negasi): POSITIVE | Prob→ NEG=0.02 | NEU=0.01 | POS=0.97\n",
            "\n",
            "Teks: Kecewa\n",
            "Prediksi (setelah aturan negasi): NEGATIVE | Prob→ NEG=0.97 | NEU=0.01 | POS=0.02\n",
            "\n",
            "Teks: Lumayan, tapi kadang lemot\n",
            "Prediksi (setelah aturan negasi): NEGATIVE | Prob→ NEG=0.97 | NEU=0.02 | POS=0.02\n"
          ]
        }
      ]
    },
    {
      "cell_type": "markdown",
      "source": [
        "Setelah dilakukan penyesuaian dengan penambahan aturan negasi sederhana, model menunjukkan peningkatan yang cukup baik dalam memahami konteks kalimat yang mengandung kata penyangkalan seperti *“tidak”*, *“bukan”*, atau *“kurang”*. Kalimat yang sebelumnya keliru, seperti *“Tidak bagus”* atau *“Kurang cepat”*, kini berhasil dikenali sebagai sentimen negatif sesuai maknanya, sementara bentuk penyangkalan ganda seperti *“Bukan sangat jelek”* terdeteksi sebagai positif.  \n",
        "\n",
        "Perbaikan ini dilakukan tanpa pelatihan ulang model, melainkan melalui pengecekan tambahan pada hasil prediksi. Pendekatan ini membuat model lebih peka terhadap konteks bahasa alami, sekaligus mempertahankan kestabilan hasil prediksi pada kalimat positif dan negatif yang jelas. Secara keseluruhan, model kini mampu memberikan hasil yang lebih akurat dan kontekstual dalam klasifikasi sentimen."
      ],
      "metadata": {
        "id": "rujdVnXXxnc3"
      }
    },
    {
      "cell_type": "markdown",
      "source": [
        "## **Kesimpulan**\n",
        "\n",
        "Proyek ini berhasil membangun model **Long Short-Term Memory (LSTM)** untuk melakukan klasifikasi sentimen terhadap ulasan pengguna aplikasi *DANA* berbahasa Indonesia. Proses dimulai dari eksplorasi data (EDA) untuk memahami struktur dan distribusi sentimen, kemudian dilakukan tahap praproses seperti pembersihan teks, tokenisasi, dan padding agar data siap digunakan oleh model. Model LSTM yang digunakan bersifat **many-to-one**, di mana satu urutan teks menghasilkan satu keluaran berupa label sentimen — negatif, netral, atau positif.  \n",
        "\n",
        "Hasil pelatihan menunjukkan bahwa model mencapai **akurasi validasi sekitar 81%**, dengan performa sangat baik pada kelas **positif** dan **negatif**, namun masih sedikit lemah dalam membedakan kalimat **netral**. Analisis lebih lanjut juga menunjukkan bahwa model belum memahami bentuk **negasi** seperti “tidak bagus” atau “kurang cepat”. Untuk mengatasi hal tersebut, ditambahkan **aturan pascaprediksi (post-processing rule)** sederhana yang memungkinkan model mengenali kata penyangkal dan memperbaiki hasil prediksi tanpa pelatihan ulang.  \n",
        "\n",
        "Setelah penyesuaian tersebut, model mampu memberikan hasil yang lebih kontekstual — kalimat dengan kata negasi kini diklasifikasikan dengan benar, dan prediksi keseluruhan menjadi lebih stabil. Secara umum, penelitian ini menunjukkan bahwa LSTM mampu mempelajari pola sentimen bahasa Indonesia dengan cukup baik, dan penambahan aturan linguistik sederhana dapat meningkatkan akurasi pemahaman konteks kalimat secara signifikan."
      ],
      "metadata": {
        "id": "BsoeQWa4y-25"
      }
    }
  ]
}