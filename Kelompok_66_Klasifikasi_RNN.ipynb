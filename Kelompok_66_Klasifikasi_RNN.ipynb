{
  "nbformat": 4,
  "nbformat_minor": 0,
  "metadata": {
    "colab": {
      "provenance": []
    },
    "kernelspec": {
      "name": "python3",
      "display_name": "Python 3"
    },
    "language_info": {
      "name": "python"
    }
  },
  "cells": [
    {
      "cell_type": "markdown",
      "source": [
        "# **Analisis Ulasan Netizen Terhadap Aplikasi Dana di Google Playstore menggunakan Recurrent Neural Network (RNN)**\n",
        "\n",
        "**Kelompok 66 — Mata Kuliah Deep Learning**  \n",
        "Universitas Pendidikan Indonesia  \n",
        "Semester 5 — Tahun 2025  \n",
        "\n",
        "---\n",
        "\n",
        "### Anggota:\n",
        "- Muhamad Khafabillah Sopian (2307824)  \n",
        "- Abyan Laksono (2304127)  \n",
        "\n",
        "---\n"
      ],
      "metadata": {
        "id": "y5ai-oNw09ZX"
      }
    },
    {
      "cell_type": "markdown",
      "source": [
        "### **Import Library**\n",
        "\n",
        "Pada tahap ini dilakukan import pustaka (library) yang dibutuhkan untuk melakukan pemrosesan data teks, pembuatan model RNN, serta evaluasi hasilnya.\n",
        "\n",
        "Fungsi utama setiap library:\n",
        "\n",
        "pandas → membaca dan mengelola dataset.\n",
        "\n",
        "numpy → menangani operasi matematis pada array.\n",
        "\n",
        "re & string → membersihkan teks menggunakan regular expressions.\n",
        "\n",
        "scikit-learn → menyediakan fungsi train-test split dan metrik evaluasi seperti classification report serta confusion matrix.\n",
        "\n",
        "tensorflow.keras → membangun dan melatih model RNN.\n",
        "Termasuk komponen seperti Embedding, SimpleRNN, Dense, dan Dropout.\n",
        "\n",
        "matplotlib → membantu membuat grafik visualisasi data."
      ],
      "metadata": {
        "id": "YgfaBiuI1zSQ"
      }
    },
    {
      "cell_type": "code",
      "source": [
        "# Import library utama\n",
        "\n",
        "import pandas as pd\n",
        "import numpy as np\n",
        "import re, string\n",
        "import tensorflow as tf # PENTING: Tambahkan tf secara eksplisit\n",
        "from sklearn.model_selection import train_test_split\n",
        "from sklearn.metrics import classification_report, confusion_matrix\n",
        "from tensorflow.keras.preprocessing.text import Tokenizer\n",
        "from tensorflow.keras.preprocessing.sequence import pad_sequences\n",
        "from tensorflow.keras.models import Sequential\n",
        "# Tambahkan SimpleRNN dan Adam secara eksplisit untuk kejelasan\n",
        "from tensorflow.keras.layers import Embedding, SimpleRNN, Dense, Dropout\n",
        "from tensorflow.keras.optimizers import Adam\n",
        "from tensorflow.keras.callbacks import EarlyStopping\n",
        "import matplotlib.pyplot as plt\n",
        "import random # Untuk seed"
      ],
      "metadata": {
        "collapsed": true,
        "id": "sFwa1t5l2RQU"
      },
      "execution_count": 12,
      "outputs": []
    },
    {
      "cell_type": "markdown",
      "source": [
        "### **Load Data**\n",
        "\n",
        "Dataset yang digunakan berisi ulasan pengguna (netizen) terhadap aplikasi Dana yang diambil dari Google Playstore.\n",
        "Setiap ulasan telah diberi label sentimen:\n",
        "\n",
        "positif — ulasan bernada dukungan, apresiasi, atau kepuasan.\n",
        "\n",
        "negatif — ulasan bernada kritik, keluhan, atau ketidakpuasan.\n",
        "\n",
        "netral — ulasan yang bersifat informatif atau kurang menunjukkan emosi yang kuat."
      ],
      "metadata": {
        "id": "fqV37gkd7JWq"
      }
    },
    {
      "cell_type": "code",
      "source": [
        "# instal dan import library gdown\n",
        "!pip install gdown -q\n",
        "import gdown, pandas as pd\n",
        "\n",
        "# Tentukan ID file dari Google Drive untuk dataset 'review_dana_labelled.csv'\n",
        "file_id = \"1iFsoFUEFET_D9Q0aIKsBimWNX6nVa2Or\"\n",
        "\n",
        "# Buat URL unduhan\n",
        "url = f\"https://drive.google.com/uc?id={file_id}\"\n",
        "output = \"review_dana_labelled.csv\"\n",
        "\n",
        "# Unduh file dari Google Drive\n",
        "print(f\"Memulai pengunduhan file: {output}...\")\n",
        "gdown.download(url, output, quiet=False)\n",
        "\n",
        "# Baca file CSV ke dalam DataFrame pandas\n",
        "# Menggunakan sep=None, engine=\"python\" untuk penanganan format CSV yang fleksibel\n",
        "try:\n",
        "    df = pd.read_csv(output, sep=None, engine=\"python\", encoding=\"utf-8\")\n",
        "except Exception:\n",
        "    # Jika gagal, coba dengan delimiter koma standar\n",
        "    print(\"Gagal membaca file dengan deteksi otomatis. Mencoba dengan delimiter koma (',').\")\n",
        "    df = pd.read_csv(output, encoding=\"utf-8\")\n",
        "\n",
        "# Tampilkan info dan 5 baris pertama untuk memastikan data berhasil dimuat\n",
        "print(\"\\nPengunduhan dan Pemuatan Dataset Selesai.\")\n",
        "print(\"\\nInformasi Dataset:\")\n",
        "df.info()\n",
        "print(\"\\n5 Baris Pertama Dataset:\")\n",
        "df.head()"
      ],
      "metadata": {
        "colab": {
          "base_uri": "https://localhost:8080/",
          "height": 605
        },
        "id": "pPCyzdHP3l0a",
        "outputId": "0e0980a4-1980-4879-ce71-ccf807a42137"
      },
      "execution_count": 13,
      "outputs": [
        {
          "output_type": "stream",
          "name": "stdout",
          "text": [
            "Memulai pengunduhan file: review_dana_labelled.csv...\n"
          ]
        },
        {
          "output_type": "stream",
          "name": "stderr",
          "text": [
            "Downloading...\n",
            "From: https://drive.google.com/uc?id=1iFsoFUEFET_D9Q0aIKsBimWNX6nVa2Or\n",
            "To: /content/review_dana_labelled.csv\n",
            "100%|██████████| 4.89M/4.89M [00:00<00:00, 62.3MB/s]\n"
          ]
        },
        {
          "output_type": "stream",
          "name": "stdout",
          "text": [
            "\n",
            "Pengunduhan dan Pemuatan Dataset Selesai.\n",
            "\n",
            "Informasi Dataset:\n",
            "<class 'pandas.core.frame.DataFrame'>\n",
            "RangeIndex: 50000 entries, 0 to 49999\n",
            "Data columns (total 5 columns):\n",
            " #   Column    Non-Null Count  Dtype \n",
            "---  ------    --------------  ----- \n",
            " 0   userName  50000 non-null  object\n",
            " 1   score     50000 non-null  int64 \n",
            " 2   at        50000 non-null  object\n",
            " 3   content   50000 non-null  object\n",
            " 4   sentimen  50000 non-null  object\n",
            "dtypes: int64(1), object(4)\n",
            "memory usage: 1.9+ MB\n",
            "\n",
            "5 Baris Pertama Dataset:\n"
          ]
        },
        {
          "output_type": "execute_result",
          "data": {
            "text/plain": [
              "          userName  score                   at  \\\n",
              "0     Elisya Kasni      5  2024-02-15 11:24:56   \n",
              "1       Rusman Man      2  2024-02-15 11:24:03   \n",
              "2     Qiliw Sadega      1  2024-02-15 11:23:34   \n",
              "3  Kijutjrv2 Kijut      3  2024-02-15 11:22:46   \n",
              "4     Fifi Alfiyah      1  2024-02-15 11:21:34   \n",
              "\n",
              "                                             content  sentimen  \n",
              "0                                              Bagus  POSITIVE  \n",
              "1                             Dana mmg keren mantap.  POSITIVE  \n",
              "2  Saya ngajuin upgrade dana premium krna ktp say...  NEGATIVE  \n",
              "3  Kocak mana diskon nya ml malah eror segala kag...  NEGATIVE  \n",
              "4  Saldo hilang karena no lama Hilang ganti no sa...  NEGATIVE  "
            ],
            "text/html": [
              "\n",
              "  <div id=\"df-21a1f11b-a485-4b70-92a1-f4e5faa4b945\" class=\"colab-df-container\">\n",
              "    <div>\n",
              "<style scoped>\n",
              "    .dataframe tbody tr th:only-of-type {\n",
              "        vertical-align: middle;\n",
              "    }\n",
              "\n",
              "    .dataframe tbody tr th {\n",
              "        vertical-align: top;\n",
              "    }\n",
              "\n",
              "    .dataframe thead th {\n",
              "        text-align: right;\n",
              "    }\n",
              "</style>\n",
              "<table border=\"1\" class=\"dataframe\">\n",
              "  <thead>\n",
              "    <tr style=\"text-align: right;\">\n",
              "      <th></th>\n",
              "      <th>userName</th>\n",
              "      <th>score</th>\n",
              "      <th>at</th>\n",
              "      <th>content</th>\n",
              "      <th>sentimen</th>\n",
              "    </tr>\n",
              "  </thead>\n",
              "  <tbody>\n",
              "    <tr>\n",
              "      <th>0</th>\n",
              "      <td>Elisya Kasni</td>\n",
              "      <td>5</td>\n",
              "      <td>2024-02-15 11:24:56</td>\n",
              "      <td>Bagus</td>\n",
              "      <td>POSITIVE</td>\n",
              "    </tr>\n",
              "    <tr>\n",
              "      <th>1</th>\n",
              "      <td>Rusman Man</td>\n",
              "      <td>2</td>\n",
              "      <td>2024-02-15 11:24:03</td>\n",
              "      <td>Dana mmg keren mantap.</td>\n",
              "      <td>POSITIVE</td>\n",
              "    </tr>\n",
              "    <tr>\n",
              "      <th>2</th>\n",
              "      <td>Qiliw Sadega</td>\n",
              "      <td>1</td>\n",
              "      <td>2024-02-15 11:23:34</td>\n",
              "      <td>Saya ngajuin upgrade dana premium krna ktp say...</td>\n",
              "      <td>NEGATIVE</td>\n",
              "    </tr>\n",
              "    <tr>\n",
              "      <th>3</th>\n",
              "      <td>Kijutjrv2 Kijut</td>\n",
              "      <td>3</td>\n",
              "      <td>2024-02-15 11:22:46</td>\n",
              "      <td>Kocak mana diskon nya ml malah eror segala kag...</td>\n",
              "      <td>NEGATIVE</td>\n",
              "    </tr>\n",
              "    <tr>\n",
              "      <th>4</th>\n",
              "      <td>Fifi Alfiyah</td>\n",
              "      <td>1</td>\n",
              "      <td>2024-02-15 11:21:34</td>\n",
              "      <td>Saldo hilang karena no lama Hilang ganti no sa...</td>\n",
              "      <td>NEGATIVE</td>\n",
              "    </tr>\n",
              "  </tbody>\n",
              "</table>\n",
              "</div>\n",
              "    <div class=\"colab-df-buttons\">\n",
              "\n",
              "  <div class=\"colab-df-container\">\n",
              "    <button class=\"colab-df-convert\" onclick=\"convertToInteractive('df-21a1f11b-a485-4b70-92a1-f4e5faa4b945')\"\n",
              "            title=\"Convert this dataframe to an interactive table.\"\n",
              "            style=\"display:none;\">\n",
              "\n",
              "  <svg xmlns=\"http://www.w3.org/2000/svg\" height=\"24px\" viewBox=\"0 -960 960 960\">\n",
              "    <path d=\"M120-120v-720h720v720H120Zm60-500h600v-160H180v160Zm220 220h160v-160H400v160Zm0 220h160v-160H400v160ZM180-400h160v-160H180v160Zm440 0h160v-160H620v160ZM180-180h160v-160H180v160Zm440 0h160v-160H620v160Z\"/>\n",
              "  </svg>\n",
              "    </button>\n",
              "\n",
              "  <style>\n",
              "    .colab-df-container {\n",
              "      display:flex;\n",
              "      gap: 12px;\n",
              "    }\n",
              "\n",
              "    .colab-df-convert {\n",
              "      background-color: #E8F0FE;\n",
              "      border: none;\n",
              "      border-radius: 50%;\n",
              "      cursor: pointer;\n",
              "      display: none;\n",
              "      fill: #1967D2;\n",
              "      height: 32px;\n",
              "      padding: 0 0 0 0;\n",
              "      width: 32px;\n",
              "    }\n",
              "\n",
              "    .colab-df-convert:hover {\n",
              "      background-color: #E2EBFA;\n",
              "      box-shadow: 0px 1px 2px rgba(60, 64, 67, 0.3), 0px 1px 3px 1px rgba(60, 64, 67, 0.15);\n",
              "      fill: #174EA6;\n",
              "    }\n",
              "\n",
              "    .colab-df-buttons div {\n",
              "      margin-bottom: 4px;\n",
              "    }\n",
              "\n",
              "    [theme=dark] .colab-df-convert {\n",
              "      background-color: #3B4455;\n",
              "      fill: #D2E3FC;\n",
              "    }\n",
              "\n",
              "    [theme=dark] .colab-df-convert:hover {\n",
              "      background-color: #434B5C;\n",
              "      box-shadow: 0px 1px 3px 1px rgba(0, 0, 0, 0.15);\n",
              "      filter: drop-shadow(0px 1px 2px rgba(0, 0, 0, 0.3));\n",
              "      fill: #FFFFFF;\n",
              "    }\n",
              "  </style>\n",
              "\n",
              "    <script>\n",
              "      const buttonEl =\n",
              "        document.querySelector('#df-21a1f11b-a485-4b70-92a1-f4e5faa4b945 button.colab-df-convert');\n",
              "      buttonEl.style.display =\n",
              "        google.colab.kernel.accessAllowed ? 'block' : 'none';\n",
              "\n",
              "      async function convertToInteractive(key) {\n",
              "        const element = document.querySelector('#df-21a1f11b-a485-4b70-92a1-f4e5faa4b945');\n",
              "        const dataTable =\n",
              "          await google.colab.kernel.invokeFunction('convertToInteractive',\n",
              "                                                    [key], {});\n",
              "        if (!dataTable) return;\n",
              "\n",
              "        const docLinkHtml = 'Like what you see? Visit the ' +\n",
              "          '<a target=\"_blank\" href=https://colab.research.google.com/notebooks/data_table.ipynb>data table notebook</a>'\n",
              "          + ' to learn more about interactive tables.';\n",
              "        element.innerHTML = '';\n",
              "        dataTable['output_type'] = 'display_data';\n",
              "        await google.colab.output.renderOutput(dataTable, element);\n",
              "        const docLink = document.createElement('div');\n",
              "        docLink.innerHTML = docLinkHtml;\n",
              "        element.appendChild(docLink);\n",
              "      }\n",
              "    </script>\n",
              "  </div>\n",
              "\n",
              "\n",
              "    <div id=\"df-0001bf98-1e62-4e40-a18d-2ba3067f88af\">\n",
              "      <button class=\"colab-df-quickchart\" onclick=\"quickchart('df-0001bf98-1e62-4e40-a18d-2ba3067f88af')\"\n",
              "                title=\"Suggest charts\"\n",
              "                style=\"display:none;\">\n",
              "\n",
              "<svg xmlns=\"http://www.w3.org/2000/svg\" height=\"24px\"viewBox=\"0 0 24 24\"\n",
              "     width=\"24px\">\n",
              "    <g>\n",
              "        <path d=\"M19 3H5c-1.1 0-2 .9-2 2v14c0 1.1.9 2 2 2h14c1.1 0 2-.9 2-2V5c0-1.1-.9-2-2-2zM9 17H7v-7h2v7zm4 0h-2V7h2v10zm4 0h-2v-4h2v4z\"/>\n",
              "    </g>\n",
              "</svg>\n",
              "      </button>\n",
              "\n",
              "<style>\n",
              "  .colab-df-quickchart {\n",
              "      --bg-color: #E8F0FE;\n",
              "      --fill-color: #1967D2;\n",
              "      --hover-bg-color: #E2EBFA;\n",
              "      --hover-fill-color: #174EA6;\n",
              "      --disabled-fill-color: #AAA;\n",
              "      --disabled-bg-color: #DDD;\n",
              "  }\n",
              "\n",
              "  [theme=dark] .colab-df-quickchart {\n",
              "      --bg-color: #3B4455;\n",
              "      --fill-color: #D2E3FC;\n",
              "      --hover-bg-color: #434B5C;\n",
              "      --hover-fill-color: #FFFFFF;\n",
              "      --disabled-bg-color: #3B4455;\n",
              "      --disabled-fill-color: #666;\n",
              "  }\n",
              "\n",
              "  .colab-df-quickchart {\n",
              "    background-color: var(--bg-color);\n",
              "    border: none;\n",
              "    border-radius: 50%;\n",
              "    cursor: pointer;\n",
              "    display: none;\n",
              "    fill: var(--fill-color);\n",
              "    height: 32px;\n",
              "    padding: 0;\n",
              "    width: 32px;\n",
              "  }\n",
              "\n",
              "  .colab-df-quickchart:hover {\n",
              "    background-color: var(--hover-bg-color);\n",
              "    box-shadow: 0 1px 2px rgba(60, 64, 67, 0.3), 0 1px 3px 1px rgba(60, 64, 67, 0.15);\n",
              "    fill: var(--button-hover-fill-color);\n",
              "  }\n",
              "\n",
              "  .colab-df-quickchart-complete:disabled,\n",
              "  .colab-df-quickchart-complete:disabled:hover {\n",
              "    background-color: var(--disabled-bg-color);\n",
              "    fill: var(--disabled-fill-color);\n",
              "    box-shadow: none;\n",
              "  }\n",
              "\n",
              "  .colab-df-spinner {\n",
              "    border: 2px solid var(--fill-color);\n",
              "    border-color: transparent;\n",
              "    border-bottom-color: var(--fill-color);\n",
              "    animation:\n",
              "      spin 1s steps(1) infinite;\n",
              "  }\n",
              "\n",
              "  @keyframes spin {\n",
              "    0% {\n",
              "      border-color: transparent;\n",
              "      border-bottom-color: var(--fill-color);\n",
              "      border-left-color: var(--fill-color);\n",
              "    }\n",
              "    20% {\n",
              "      border-color: transparent;\n",
              "      border-left-color: var(--fill-color);\n",
              "      border-top-color: var(--fill-color);\n",
              "    }\n",
              "    30% {\n",
              "      border-color: transparent;\n",
              "      border-left-color: var(--fill-color);\n",
              "      border-top-color: var(--fill-color);\n",
              "      border-right-color: var(--fill-color);\n",
              "    }\n",
              "    40% {\n",
              "      border-color: transparent;\n",
              "      border-right-color: var(--fill-color);\n",
              "      border-top-color: var(--fill-color);\n",
              "    }\n",
              "    60% {\n",
              "      border-color: transparent;\n",
              "      border-right-color: var(--fill-color);\n",
              "    }\n",
              "    80% {\n",
              "      border-color: transparent;\n",
              "      border-right-color: var(--fill-color);\n",
              "      border-bottom-color: var(--fill-color);\n",
              "    }\n",
              "    90% {\n",
              "      border-color: transparent;\n",
              "      border-bottom-color: var(--fill-color);\n",
              "    }\n",
              "  }\n",
              "</style>\n",
              "\n",
              "      <script>\n",
              "        async function quickchart(key) {\n",
              "          const quickchartButtonEl =\n",
              "            document.querySelector('#' + key + ' button');\n",
              "          quickchartButtonEl.disabled = true;  // To prevent multiple clicks.\n",
              "          quickchartButtonEl.classList.add('colab-df-spinner');\n",
              "          try {\n",
              "            const charts = await google.colab.kernel.invokeFunction(\n",
              "                'suggestCharts', [key], {});\n",
              "          } catch (error) {\n",
              "            console.error('Error during call to suggestCharts:', error);\n",
              "          }\n",
              "          quickchartButtonEl.classList.remove('colab-df-spinner');\n",
              "          quickchartButtonEl.classList.add('colab-df-quickchart-complete');\n",
              "        }\n",
              "        (() => {\n",
              "          let quickchartButtonEl =\n",
              "            document.querySelector('#df-0001bf98-1e62-4e40-a18d-2ba3067f88af button');\n",
              "          quickchartButtonEl.style.display =\n",
              "            google.colab.kernel.accessAllowed ? 'block' : 'none';\n",
              "        })();\n",
              "      </script>\n",
              "    </div>\n",
              "\n",
              "    </div>\n",
              "  </div>\n"
            ],
            "application/vnd.google.colaboratory.intrinsic+json": {
              "type": "dataframe",
              "variable_name": "df",
              "summary": "{\n  \"name\": \"df\",\n  \"rows\": 50000,\n  \"fields\": [\n    {\n      \"column\": \"userName\",\n      \"properties\": {\n        \"dtype\": \"string\",\n        \"num_unique_values\": 48177,\n        \"samples\": [\n          \"Yayat Burhan\",\n          \"bendol hithe\",\n          \"Firman Tahir\"\n        ],\n        \"semantic_type\": \"\",\n        \"description\": \"\"\n      }\n    },\n    {\n      \"column\": \"score\",\n      \"properties\": {\n        \"dtype\": \"number\",\n        \"std\": 1,\n        \"min\": 1,\n        \"max\": 5,\n        \"num_unique_values\": 5,\n        \"samples\": [\n          2,\n          4,\n          1\n        ],\n        \"semantic_type\": \"\",\n        \"description\": \"\"\n      }\n    },\n    {\n      \"column\": \"at\",\n      \"properties\": {\n        \"dtype\": \"object\",\n        \"num_unique_values\": 49609,\n        \"samples\": [\n          \"2024-01-01 12:00:46\",\n          \"2024-01-30 07:28:43\",\n          \"2024-02-12 08:52:00\"\n        ],\n        \"semantic_type\": \"\",\n        \"description\": \"\"\n      }\n    },\n    {\n      \"column\": \"content\",\n      \"properties\": {\n        \"dtype\": \"string\",\n        \"num_unique_values\": 31701,\n        \"samples\": [\n          \"Uang hilang tidak ada kejelasan..sudah lapor di aplikasi nomer laporan tidak tertera..lebih baik unistal ini aplikasi....kalau ada apa\\u00b2 di ini aplikasi pasti tidak akan di kembalikan. Aplikasi pencuri penipu\",\n          \"semoga bisa membantu\",\n          \"dana sangat membantu tp knp akun saya tidak bisa masuk ya pdhl tidak sengaja kepencet keluar \\ud83d\\ude2d\"\n        ],\n        \"semantic_type\": \"\",\n        \"description\": \"\"\n      }\n    },\n    {\n      \"column\": \"sentimen\",\n      \"properties\": {\n        \"dtype\": \"category\",\n        \"num_unique_values\": 3,\n        \"samples\": [\n          \"POSITIVE\",\n          \"NEGATIVE\",\n          \"NEUTRAL\"\n        ],\n        \"semantic_type\": \"\",\n        \"description\": \"\"\n      }\n    }\n  ]\n}"
            }
          },
          "metadata": {},
          "execution_count": 13
        }
      ]
    },
    {
      "cell_type": "markdown",
      "source": [
        "## **Exploratory Data Analysis (EDA)**\n",
        "\n",
        "Tahap Eksplorasi Data ini bertujuan untuk memahami pola dan struktur dataset ulasan Dana secara menyeluruh sebelum pemodelan. Analisis utama yang dilakukan adalah pemeriksaan **Distribusi Label Sentimen** dan **Distribusi Panjang Teks (Ulasan)**. Dari distribusi sentimen, akan diketahui keseimbangan jumlah data pada ketiga kelas: positif, negatif, dan netral. Hasil ini penting karena dataset ulasan cenderung **tidak seimbang**, yang harus dipertimbangkan saat mengevaluasi kinerja model. Sementara itu, analisis panjang teks ulasan sangat krusial untuk menentukan parameter panjang maksimum teks (`MAX_LEN`) saat melakukan *padding*. Parameter `MAX_LEN` yang tepat akan memastikan mayoritas ulasan tercakup tanpa membebani model RNN dengan *padding* yang berlebihan, sehingga mendukung strategi pra-pemrosesan dan penentuan ukuran input yang efisien."
      ],
      "metadata": {
        "id": "uS2yMaJtGWYa"
      }
    },
    {
      "cell_type": "code",
      "source": [
        "# Distribusi Label Sentimen\n",
        "\n",
        "print(\"Distribusi Jumlah Data per Sentimen:\")\n",
        "sentiment_counts = df['sentimen'].value_counts()\n",
        "print(sentiment_counts)\n",
        "print(\"-\" * 30)\n",
        "\n",
        "# Visualisasi distribusi label\n",
        "plt.figure(figsize=(7, 5))\n",
        "\n",
        "# Urutan warna diatur sesuai urutan default value_counts (Positive, Negative, Neutral)\n",
        "sentiment_counts.plot(kind='bar', color=['skyblue', 'salmon', 'lightgray'])\n",
        "plt.title('Distribusi Sentimen Ulasan Aplikasi Dana (3 Kelas)')\n",
        "plt.xlabel('Sentimen')\n",
        "plt.ylabel('Jumlah Data')\n",
        "plt.xticks(rotation=0)\n",
        "plt.grid(axis='y', linestyle='--', alpha=0.6)\n",
        "plt.show()\n",
        "\n",
        "# Distribusi Panjang Teks\n",
        "\n",
        "# Hitung jumlah kata pada kolom 'content'\n",
        "df['temp_word_count'] = df['content'].apply(lambda x: len(str(x).split()))\n",
        "\n",
        "# Menampilkan statistik deskriptif panjang teks\n",
        "print(\"Statistik Deskriptif Panjang Teks (Jumlah Kata):\")\n",
        "print(df['temp_word_count'].describe())\n",
        "print(\"-\" * 30)\n",
        "\n",
        "# Visualisasi distribusi panjang teks menggunakan histogram\n",
        "plt.figure(figsize=(10, 6))\n",
        "\n",
        "# Batasi sumbu x hingga 50 kata untuk melihat distribusi inti, karena kebanyakan ulasan pendek\n",
        "plt.hist(df['temp_word_count'], bins=50, range=(0, 50), color='forestgreen', edgecolor='black')\n",
        "plt.title('Distribusi Panjang Teks Ulasan')\n",
        "plt.xlabel('Panjang Teks (Jumlah Kata)')\n",
        "plt.ylabel('Frekuensi')\n",
        "plt.grid(axis='y', linestyle='--', alpha=0.6)\n",
        "plt.show()\n",
        "\n",
        "# Menentukan persentil ke-95 sebagai acuan MAX_LEN\n",
        "max_len_percentile = int(np.percentile(df['temp_word_count'], 95))\n",
        "print(f\"Panjang Teks pada Persentil ke-95 (Acuan MAX_LEN): {max_len_percentile} kata\")\n",
        "\n",
        "# Hapus kolom temporer\n",
        "df.drop(columns=['temp_word_count'], inplace=True)"
      ],
      "metadata": {
        "colab": {
          "base_uri": "https://localhost:8080/",
          "height": 1000
        },
        "id": "GXJyy4dXGfey",
        "outputId": "3dd79b9b-1601-4126-8cc4-b72d65fe6f2d"
      },
      "execution_count": 4,
      "outputs": [
        {
          "output_type": "stream",
          "name": "stdout",
          "text": [
            "Distribusi Jumlah Data per Sentimen:\n",
            "sentimen\n",
            "POSITIVE    26555\n",
            "NEGATIVE    17073\n",
            "NEUTRAL      6372\n",
            "Name: count, dtype: int64\n",
            "------------------------------\n"
          ]
        },
        {
          "output_type": "display_data",
          "data": {
            "text/plain": [
              "<Figure size 700x500 with 1 Axes>"
            ],
            "image/png": "[encoded data removed]"
          },
          "metadata": {}
        },
        {
          "output_type": "stream",
          "name": "stdout",
          "text": [
            "Statistik Deskriptif Panjang Teks (Jumlah Kata):\n",
            "count    50000.000000\n",
            "mean         8.558440\n",
            "std         12.513374\n",
            "min          1.000000\n",
            "25%          1.000000\n",
            "50%          3.000000\n",
            "75%         10.000000\n",
            "max         98.000000\n",
            "Name: temp_word_count, dtype: float64\n",
            "------------------------------\n"
          ]
        },
        {
          "output_type": "display_data",
          "data": {
            "text/plain": [
              "<Figure size 1000x600 with 1 Axes>"
            ],
            "image/png": "[encoded data removed]"
          },
          "metadata": {}
        },
        {
          "output_type": "stream",
          "name": "stdout",
          "text": [
            "Panjang Teks pada Persentil ke-95 (Acuan MAX_LEN): 34 kata\n"
          ]
        }
      ]
    },
    {
      "cell_type": "markdown",
      "source": [
        "## **Praproses**\n",
        "\n",
        "Tahap ini sangat penting untuk mengubah data teks mentah menjadi representasi numerik yang siap diproses oleh model RNN. Prosesnya dimulai dengan **Pembersihan Teks**, di mana ulasan dibersihkan dari simbol, tautan, atau angka yang tidak relevan, serta diseragamkan ke huruf kecil. Selanjutnya, dilakukan **Penanganan Baris Kosong** dan **Penanganan Duplikat** untuk memastikan kualitas dan keunikan data, yang sangat penting untuk mencegah *overfitting* saat pelatihan. Setelah teks bersih, **Label Encoding** dilakukan untuk mengubah label sentimen kategorikal (NEGATIVE, NEUTRAL, POSITIVE) menjadi nilai numerik (0, 1, 2) yang dapat dipahami oleh model. Langkah terakhir adalah **Tokenisasi dan Padding**, yaitu mengubah setiap kata menjadi indeks numerik dan menyeragamkan panjang semua urutan teks menjadi 35 kata (`MAX_LEN`) menggunakan *padding* agar input model memiliki dimensi yang seragam."
      ],
      "metadata": {
        "id": "KQNH7sR1MV25"
      }
    },
    {
      "cell_type": "code",
      "source": [
        "# Tentukan parameter yang akan digunakan dari hasil EDA\n",
        "MAX_VOCAB = 10000  # Maksimal kata unik\n",
        "MAX_LEN = 35       # Panjang sekuens (dari persentil 95% di analisis sebelumnya)\n",
        "\n",
        "# Pembersihan Teks\n",
        "\n",
        "def clean_text(teks):\n",
        "    teks = str(teks).lower()\n",
        "    # hapus URL, mention, hashtag\n",
        "    teks = re.sub(r\"http\\S+|www\\S+|@\\w+|#\\w+\", \" \", teks)\n",
        "    # hapus simbol & tanda baca (pertahankan a-z, 0-9, dan spasi)\n",
        "    teks = re.sub(r\"[^a-z0-9\\s]\", \" \", teks)\n",
        "    # rapikan spasi\n",
        "    teks = re.sub(r\"\\s+\", \" \", teks).strip()\n",
        "    return teks\n",
        "\n",
        "# Terapkan pembersihan\n",
        "df['clean_text'] = df['content'].apply(clean_text)\n",
        "\n",
        "# Hitung jumlah kata setelah pembersihan\n",
        "df['word_count'] = df['clean_text'].apply(lambda x: len(x.split()))\n",
        "\n",
        "print(f\"Jumlah total data awal: {len(df)}\")\n",
        "print(f\"Batas panjang teks (MAX_LEN): {MAX_LEN}\")\n",
        "print(\"-\" * 40)"
      ],
      "metadata": {
        "colab": {
          "base_uri": "https://localhost:8080/"
        },
        "id": "G7UHlSOTHYvL",
        "outputId": "663530b1-379a-459d-fdb4-39138eca3c02"
      },
      "execution_count": 6,
      "outputs": [
        {
          "output_type": "stream",
          "name": "stdout",
          "text": [
            "Jumlah total data awal: 50000\n",
            "Batas panjang teks (MAX_LEN): 35\n",
            "----------------------------------------\n"
          ]
        }
      ]
    },
    {
      "cell_type": "code",
      "source": [
        "# Penanganan Baris Kosong dan Duplikat\n",
        "\n",
        "# Buang ulasan kosong (word_count == 0) dan pastikan label valid\n",
        "df = df[df['word_count'] > 0].reset_index(drop=True)\n",
        "df['sentimen'] = df['sentimen'].astype(str).str.upper().str.strip()\n",
        "label_valid = {'NEGATIVE', 'NEUTRAL', 'POSITIVE'}\n",
        "df = df[df['sentimen'].isin(label_valid)].reset_index(drop=True)\n",
        "\n",
        "before_dedup = len(df)\n",
        "# Hapus duplikat berdasarkan gabungan konten + label\n",
        "df = df.drop_duplicates(subset=['content', 'sentimen']).reset_index(drop=True)\n",
        "after_dedup = len(df)\n",
        "\n",
        "print(f\"Baris tersisa setelah buang kosong: {before_dedup}\")\n",
        "print(f\"Duplikat terhapus: {before_dedup - after_dedup}\")\n",
        "print(f\"Jumlah data akhir: {after_dedup}\")\n",
        "print(\"-\" * 40)"
      ],
      "metadata": {
        "colab": {
          "base_uri": "https://localhost:8080/"
        },
        "id": "VAs1bY6dHdwO",
        "outputId": "145c0d1d-f3ab-466f-a531-2adafa4de936"
      },
      "execution_count": 7,
      "outputs": [
        {
          "output_type": "stream",
          "name": "stdout",
          "text": [
            "Baris tersisa setelah buang kosong: 49383\n",
            "Duplikat terhapus: 17904\n",
            "Jumlah data akhir: 31479\n",
            "----------------------------------------\n"
          ]
        }
      ]
    },
    {
      "cell_type": "code",
      "source": [
        "# Label Encoding\n",
        "\n",
        "# Ubah label teks menjadi angka (0: NEGATIVE, 1: NEUTRAL, 2: POSITIVE)\n",
        "label2id = {'NEGATIVE': 0, 'NEUTRAL': 1, 'POSITIVE': 2}\n",
        "df['label_id'] = df['sentimen'].map(label2id)\n",
        "y = np.array(df['label_id'])\n",
        "\n",
        "print(\"Distribusi label akhir:\")\n",
        "print(df['sentimen'].value_counts())\n",
        "print(\"-\" * 40)"
      ],
      "metadata": {
        "colab": {
          "base_uri": "https://localhost:8080/"
        },
        "id": "yeKWHTPaHg9I",
        "outputId": "42f9d389-03f2-497a-b338-978c209523c5"
      },
      "execution_count": 8,
      "outputs": [
        {
          "output_type": "stream",
          "name": "stdout",
          "text": [
            "Distribusi label akhir:\n",
            "sentimen\n",
            "NEGATIVE    14030\n",
            "POSITIVE    11524\n",
            "NEUTRAL      5925\n",
            "Name: count, dtype: int64\n",
            "----------------------------------------\n"
          ]
        }
      ]
    },
    {
      "cell_type": "code",
      "source": [
        "# Tokenisasi dan Padding\n",
        "\n",
        "# Inisialisasi tokenizer\n",
        "# MAX_VOCAB (10000) sudah didefinisikan di Cell 1\n",
        "tokenizer = Tokenizer(num_words=MAX_VOCAB, oov_token=\"\")\n",
        "# Fit hanya pada data bersih ('clean_text')\n",
        "tokenizer.fit_on_texts(df['clean_text'])\n",
        "\n",
        "# Ubah teks menjadi deretan indeks angka (sequences)\n",
        "sequences = tokenizer.texts_to_sequences(df['clean_text'])\n",
        "\n",
        "# Padding: samakan panjang sekuens (X)\n",
        "# MAX_LEN (35) sudah didefinisikan di Cell 1\n",
        "X = pad_sequences(sequences, maxlen=MAX_LEN, padding='post', truncating='post')\n",
        "\n",
        "print(\"Contoh hasil tokenisasi & padding (X[0]):\")\n",
        "print(X[0])\n",
        "print(f\"\\nPanjang input (X): {X.shape}\")\n",
        "print(f\"Panjang label (y): {y.shape}\")"
      ],
      "metadata": {
        "colab": {
          "base_uri": "https://localhost:8080/"
        },
        "id": "5htrbRGyHnDw",
        "outputId": "e855e78d-7596-4219-d784-599d0e8e49c2"
      },
      "execution_count": 9,
      "outputs": [
        {
          "output_type": "stream",
          "name": "stdout",
          "text": [
            "Contoh hasil tokenisasi & padding (X[0]):\n",
            "[24  0  0  0  0  0  0  0  0  0  0  0  0  0  0  0  0  0  0  0  0  0  0  0\n",
            "  0  0  0  0  0  0  0  0  0  0  0]\n",
            "\n",
            "Panjang input (X): (31479, 35)\n",
            "Panjang label (y): (31479,)\n"
          ]
        }
      ]
    },
    {
      "cell_type": "markdown",
      "source": [
        "## **Split Data Latih dan Validasi**\n",
        "\n",
        "Tahap ini membagi dataset yang telah diproses (`X` dan `y`) menjadi dua subset: Data Latih (80%), yang digunakan untuk melatih model RNN, dan Data Validasi (20%), yang digunakan untuk mengevaluasi kinerja model setelah setiap *epoch* pelatihan. Pembagian dilakukan dengan strategi **stratified sampling** (`stratify=y`) untuk memastikan bahwa proporsi ketiga label sentimen (Negatif, Netral, Positif) pada data latih dan data validasi tetap seimbang dan merepresentasikan distribusi sentimen pada data total."
      ],
      "metadata": {
        "id": "xn0aKf5D7Ve8"
      }
    },
    {
      "cell_type": "code",
      "source": [
        "# Split data latih dan validasi (80%:20%)\n",
        "# Menggunakan stratify=y untuk mempertahankan proporsi label di kedua set\n",
        "# Menggunakan random_state=42 agar hasilnya konsisten\n",
        "X_train, X_val, y_train, y_val = train_test_split(\n",
        "    X, y,\n",
        "    test_size=0.2,\n",
        "    stratify=y,\n",
        "    random_state=42\n",
        ")\n",
        "\n",
        "# Cek bentuk data hasil split\n",
        "print(\"X_train:\", X_train.shape, \"| y_train:\", y_train.shape)\n",
        "print(\"X_val  :\", X_val.shape,   \"| y_val  :\", y_val.shape)\n",
        "\n",
        "# Lihat distribusi label di masing-masing subset\n",
        "print(\"\\nDistribusi label y_train (0: NEG, 1: NEU, 2: POS):\", np.bincount(y_train))\n",
        "print(\"Distribusi label y_val   (0: NEG, 1: NEU, 2: POS):\", np.bincount(y_val))"
      ],
      "metadata": {
        "id": "JFrYlgRt5Ix9",
        "colab": {
          "base_uri": "https://localhost:8080/"
        },
        "outputId": "c91b4fa6-4767-4260-8d20-10d72e170df3"
      },
      "execution_count": 10,
      "outputs": [
        {
          "output_type": "stream",
          "name": "stdout",
          "text": [
            "X_train: (25183, 35) | y_train: (25183,)\n",
            "X_val  : (6296, 35) | y_val  : (6296,)\n",
            "\n",
            "Distribusi label y_train (0: NEG, 1: NEU, 2: POS): [11224  4740  9219]\n",
            "Distribusi label y_val   (0: NEG, 1: NEU, 2: POS): [2806 1185 2305]\n"
          ]
        }
      ]
    },
    {
      "cell_type": "markdown",
      "source": [
        "## **Membuat Model RNN Sederhana (SimpleRNN)**\n",
        "\n",
        "Di tahap ini, kita akan membuat kerangka model Recurrent Neural Network yang paling sederhana, yaitu SimpleRNN. Tujuan utamanya adalah melakukan klasifikasi sentimen 3-kelas. Model ini dirancang dengan beberapa lapisan utama: dimulai dari **Lapisan Embedding** untuk mengubah setiap kata menjadi representasi angka, kemudian **Lapisan SimpleRNN** sebagai inti untuk memahami urutan teks, lalu **Lapisan Dropout** untuk mencegah *overfitting*, dan diakhiri dengan **Lapisan Dense** yang memberikan hasil prediksi sentimen (Negatif, Netral, atau Positif)."
      ],
      "metadata": {
        "id": "kSR_Pd6X1PhA"
      }
    },
    {
      "cell_type": "code",
      "source": [
        "# Pastikan library sudah diimpor: Sequential, Embedding, SimpleRNN, Dense, Dropout, Adam\n",
        "# dan import tensorflow as tf, numpy as np, random\n",
        "\n",
        "# Tetapkan seed agar hasil pelatihan tetap konsisten\n",
        "tf.random.set_seed(42)\n",
        "np.random.seed(42)\n",
        "random.seed(42)\n",
        "\n",
        "# Hitung ukuran vocabulary aktual\n",
        "vocab_size = min(MAX_VOCAB, len(tokenizer.word_index) + 1)\n",
        "\n",
        "# Pembuatan Model SimpleRNN untuk klasifikasi 3 kelas\n",
        "model_rnn = Sequential([\n",
        "    # Lapisan Embedding: output_dim=128\n",
        "    Embedding(input_dim=vocab_size, output_dim=128, input_length=MAX_LEN),\n",
        "\n",
        "    # Lapisan SimpleRNN: 128 unit, dropout diaktifkan\n",
        "    SimpleRNN(128, dropout=0.2, recurrent_dropout=0.2),\n",
        "\n",
        "    # Dropout untuk mencegah overfitting\n",
        "    Dropout(0.3),\n",
        "\n",
        "    # Lapisan Dense (Tersembunyi)\n",
        "    Dense(64, activation='relu'),\n",
        "\n",
        "    # Lapisan Output: 3 unit (NEG, NEU, POS), menggunakan softmax\n",
        "    Dense(3, activation='softmax')\n",
        "])\n",
        "\n",
        "# Kompilasi Model\n",
        "from tensorflow.keras.optimizers import Adam\n",
        "model_rnn.compile(\n",
        "    optimizer=Adam(learning_rate=2e-3),\n",
        "    loss='sparse_categorical_crossentropy',\n",
        "    metrics=['accuracy']\n",
        ")\n",
        "\n",
        "model_rnn.summary()"
      ],
      "metadata": {
        "colab": {
          "base_uri": "https://localhost:8080/",
          "height": 321
        },
        "id": "ENU468-q8rzd",
        "outputId": "ea27ea27-0c5d-4127-ad03-07c4aaa84761"
      },
      "execution_count": 14,
      "outputs": [
        {
          "output_type": "stream",
          "name": "stderr",
          "text": [
            "/usr/local/lib/python3.12/dist-packages/keras/src/layers/core/embedding.py:97: UserWarning: Argument `input_length` is deprecated. Just remove it.\n",
            "  warnings.warn(\n"
          ]
        },
        {
          "output_type": "display_data",
          "data": {
            "text/plain": [
              "\u001b[1mModel: \"sequential\"\u001b[0m\n"
            ],
            "text/html": [
              "<pre style=\"white-space:pre;overflow-x:auto;line-height:normal;font-family:Menlo,'DejaVu Sans Mono',consolas,'Courier New',monospace\"><span style=\"font-weight: bold\">Model: \"sequential\"</span>\n",
              "</pre>\n"
            ]
          },
          "metadata": {}
        },
        {
          "output_type": "display_data",
          "data": {
            "text/plain": [
              "┏━━━━━━━━━━━━━━━━━━━━━━━━━━━━━━━━━┳━━━━━━━━━━━━━━━━━━━━━━━━┳━━━━━━━━━━━━━━━┓\n",
              "┃\u001b[1m \u001b[0m\u001b[1mLayer (type)                   \u001b[0m\u001b[1m \u001b[0m┃\u001b[1m \u001b[0m\u001b[1mOutput Shape          \u001b[0m\u001b[1m \u001b[0m┃\u001b[1m \u001b[0m\u001b[1m      Param #\u001b[0m\u001b[1m \u001b[0m┃\n",
              "┡━━━━━━━━━━━━━━━━━━━━━━━━━━━━━━━━━╇━━━━━━━━━━━━━━━━━━━━━━━━╇━━━━━━━━━━━━━━━┩\n",
              "│ embedding (\u001b[38;5;33mEmbedding\u001b[0m)           │ ?                      │   \u001b[38;5;34m0\u001b[0m (unbuilt) │\n",
              "├─────────────────────────────────┼────────────────────────┼───────────────┤\n",
              "│ simple_rnn (\u001b[38;5;33mSimpleRNN\u001b[0m)          │ ?                      │   \u001b[38;5;34m0\u001b[0m (unbuilt) │\n",
              "├─────────────────────────────────┼────────────────────────┼───────────────┤\n",
              "│ dropout (\u001b[38;5;33mDropout\u001b[0m)               │ ?                      │             \u001b[38;5;34m0\u001b[0m │\n",
              "├─────────────────────────────────┼────────────────────────┼───────────────┤\n",
              "│ dense (\u001b[38;5;33mDense\u001b[0m)                   │ ?                      │   \u001b[38;5;34m0\u001b[0m (unbuilt) │\n",
              "├─────────────────────────────────┼────────────────────────┼───────────────┤\n",
              "│ dense_1 (\u001b[38;5;33mDense\u001b[0m)                 │ ?                      │   \u001b[38;5;34m0\u001b[0m (unbuilt) │\n",
              "└─────────────────────────────────┴────────────────────────┴───────────────┘\n"
            ],
            "text/html": [
              "<pre style=\"white-space:pre;overflow-x:auto;line-height:normal;font-family:Menlo,'DejaVu Sans Mono',consolas,'Courier New',monospace\">┏━━━━━━━━━━━━━━━━━━━━━━━━━━━━━━━━━┳━━━━━━━━━━━━━━━━━━━━━━━━┳━━━━━━━━━━━━━━━┓\n",
              "┃<span style=\"font-weight: bold\"> Layer (type)                    </span>┃<span style=\"font-weight: bold\"> Output Shape           </span>┃<span style=\"font-weight: bold\">       Param # </span>┃\n",
              "┡━━━━━━━━━━━━━━━━━━━━━━━━━━━━━━━━━╇━━━━━━━━━━━━━━━━━━━━━━━━╇━━━━━━━━━━━━━━━┩\n",
              "│ embedding (<span style=\"color: #0087ff; text-decoration-color: #0087ff\">Embedding</span>)           │ ?                      │   <span style=\"color: #00af00; text-decoration-color: #00af00\">0</span> (unbuilt) │\n",
              "├─────────────────────────────────┼────────────────────────┼───────────────┤\n",
              "│ simple_rnn (<span style=\"color: #0087ff; text-decoration-color: #0087ff\">SimpleRNN</span>)          │ ?                      │   <span style=\"color: #00af00; text-decoration-color: #00af00\">0</span> (unbuilt) │\n",
              "├─────────────────────────────────┼────────────────────────┼───────────────┤\n",
              "│ dropout (<span style=\"color: #0087ff; text-decoration-color: #0087ff\">Dropout</span>)               │ ?                      │             <span style=\"color: #00af00; text-decoration-color: #00af00\">0</span> │\n",
              "├─────────────────────────────────┼────────────────────────┼───────────────┤\n",
              "│ dense (<span style=\"color: #0087ff; text-decoration-color: #0087ff\">Dense</span>)                   │ ?                      │   <span style=\"color: #00af00; text-decoration-color: #00af00\">0</span> (unbuilt) │\n",
              "├─────────────────────────────────┼────────────────────────┼───────────────┤\n",
              "│ dense_1 (<span style=\"color: #0087ff; text-decoration-color: #0087ff\">Dense</span>)                 │ ?                      │   <span style=\"color: #00af00; text-decoration-color: #00af00\">0</span> (unbuilt) │\n",
              "└─────────────────────────────────┴────────────────────────┴───────────────┘\n",
              "</pre>\n"
            ]
          },
          "metadata": {}
        },
        {
          "output_type": "display_data",
          "data": {
            "text/plain": [
              "\u001b[1m Total params: \u001b[0m\u001b[38;5;34m0\u001b[0m (0.00 B)\n"
            ],
            "text/html": [
              "<pre style=\"white-space:pre;overflow-x:auto;line-height:normal;font-family:Menlo,'DejaVu Sans Mono',consolas,'Courier New',monospace\"><span style=\"font-weight: bold\"> Total params: </span><span style=\"color: #00af00; text-decoration-color: #00af00\">0</span> (0.00 B)\n",
              "</pre>\n"
            ]
          },
          "metadata": {}
        },
        {
          "output_type": "display_data",
          "data": {
            "text/plain": [
              "\u001b[1m Trainable params: \u001b[0m\u001b[38;5;34m0\u001b[0m (0.00 B)\n"
            ],
            "text/html": [
              "<pre style=\"white-space:pre;overflow-x:auto;line-height:normal;font-family:Menlo,'DejaVu Sans Mono',consolas,'Courier New',monospace\"><span style=\"font-weight: bold\"> Trainable params: </span><span style=\"color: #00af00; text-decoration-color: #00af00\">0</span> (0.00 B)\n",
              "</pre>\n"
            ]
          },
          "metadata": {}
        },
        {
          "output_type": "display_data",
          "data": {
            "text/plain": [
              "\u001b[1m Non-trainable params: \u001b[0m\u001b[38;5;34m0\u001b[0m (0.00 B)\n"
            ],
            "text/html": [
              "<pre style=\"white-space:pre;overflow-x:auto;line-height:normal;font-family:Menlo,'DejaVu Sans Mono',consolas,'Courier New',monospace\"><span style=\"font-weight: bold\"> Non-trainable params: </span><span style=\"color: #00af00; text-decoration-color: #00af00\">0</span> (0.00 B)\n",
              "</pre>\n"
            ]
          },
          "metadata": {}
        }
      ]
    },
    {
      "cell_type": "code",
      "source": [
        "# Tentukan parameter pelatihan\n",
        "NUM_EPOCHS = 10\n",
        "BATCH_SIZE = 128\n",
        "\n",
        "# Latih model\n",
        "history_rnn = model_rnn.fit(\n",
        "    X_train,\n",
        "    y_train,\n",
        "    epochs=NUM_EPOCHS,\n",
        "    batch_size=BATCH_SIZE,\n",
        "    validation_data=(X_val, y_val),\n",
        "    verbose=1 # Tampilkan progress di setiap epoch\n",
        ")"
      ],
      "metadata": {
        "colab": {
          "base_uri": "https://localhost:8080/"
        },
        "id": "4OX4JrVrBHmb",
        "outputId": "29944589-77a9-43c7-e27f-9157f19fb8dd"
      },
      "execution_count": 17,
      "outputs": [
        {
          "output_type": "stream",
          "name": "stdout",
          "text": [
            "Epoch 1/10\n",
            "\u001b[1m197/197\u001b[0m \u001b[32m━━━━━━━━━━━━━━━━━━━━\u001b[0m\u001b[37m\u001b[0m \u001b[1m13s\u001b[0m 66ms/step - accuracy: 0.5933 - loss: 0.9066 - val_accuracy: 0.5964 - val_loss: 0.9369\n",
            "Epoch 2/10\n",
            "\u001b[1m197/197\u001b[0m \u001b[32m━━━━━━━━━━━━━━━━━━━━\u001b[0m\u001b[37m\u001b[0m \u001b[1m13s\u001b[0m 65ms/step - accuracy: 0.6043 - loss: 0.8940 - val_accuracy: 0.6050 - val_loss: 0.9455\n",
            "Epoch 3/10\n",
            "\u001b[1m197/197\u001b[0m \u001b[32m━━━━━━━━━━━━━━━━━━━━\u001b[0m\u001b[37m\u001b[0m \u001b[1m13s\u001b[0m 67ms/step - accuracy: 0.6036 - loss: 0.8953 - val_accuracy: 0.5902 - val_loss: 0.9517\n",
            "Epoch 4/10\n",
            "\u001b[1m197/197\u001b[0m \u001b[32m━━━━━━━━━━━━━━━━━━━━\u001b[0m\u001b[37m\u001b[0m \u001b[1m13s\u001b[0m 65ms/step - accuracy: 0.5966 - loss: 0.8997 - val_accuracy: 0.5975 - val_loss: 0.9516\n",
            "Epoch 5/10\n",
            "\u001b[1m197/197\u001b[0m \u001b[32m━━━━━━━━━━━━━━━━━━━━\u001b[0m\u001b[37m\u001b[0m \u001b[1m13s\u001b[0m 65ms/step - accuracy: 0.6015 - loss: 0.8926 - val_accuracy: 0.5921 - val_loss: 0.9545\n",
            "Epoch 6/10\n",
            "\u001b[1m197/197\u001b[0m \u001b[32m━━━━━━━━━━━━━━━━━━━━\u001b[0m\u001b[37m\u001b[0m \u001b[1m13s\u001b[0m 65ms/step - accuracy: 0.5974 - loss: 0.8941 - val_accuracy: 0.5780 - val_loss: 0.9821\n",
            "Epoch 7/10\n",
            "\u001b[1m197/197\u001b[0m \u001b[32m━━━━━━━━━━━━━━━━━━━━\u001b[0m\u001b[37m\u001b[0m \u001b[1m13s\u001b[0m 65ms/step - accuracy: 0.5802 - loss: 0.9232 - val_accuracy: 0.5696 - val_loss: 0.9867\n",
            "Epoch 8/10\n",
            "\u001b[1m197/197\u001b[0m \u001b[32m━━━━━━━━━━━━━━━━━━━━\u001b[0m\u001b[37m\u001b[0m \u001b[1m13s\u001b[0m 65ms/step - accuracy: 0.5739 - loss: 0.9250 - val_accuracy: 0.5511 - val_loss: 1.0038\n",
            "Epoch 9/10\n",
            "\u001b[1m197/197\u001b[0m \u001b[32m━━━━━━━━━━━━━━━━━━━━\u001b[0m\u001b[37m\u001b[0m \u001b[1m13s\u001b[0m 65ms/step - accuracy: 0.5548 - loss: 0.9346 - val_accuracy: 0.5629 - val_loss: 0.9763\n",
            "Epoch 10/10\n",
            "\u001b[1m197/197\u001b[0m \u001b[32m━━━━━━━━━━━━━━━━━━━━\u001b[0m\u001b[37m\u001b[0m \u001b[1m13s\u001b[0m 65ms/step - accuracy: 0.5426 - loss: 0.9441 - val_accuracy: 0.4752 - val_loss: 1.0127\n"
          ]
        }
      ]
    },
    {
      "cell_type": "code",
      "source": [
        "# Hitung Akurasi Validasi dan Prediksi\n",
        "# Menggunakan model_rnn yang sudah dilatih\n",
        "\n",
        "# Menghitung Loss dan Akurasi Validasi\n",
        "loss, accuracy = model_rnn.evaluate(X_val, y_val, verbose=0)\n",
        "\n",
        "# Melakukan Prediksi Probabilitas pada Data Validasi\n",
        "y_pred_probs = model_rnn.predict(X_val, verbose=0)\n",
        "\n",
        "# Mengubah Probabilitas menjadi Label Kelas (0, 1, 2)\n",
        "y_pred = np.argmax(y_pred_probs, axis=1)\n",
        "\n",
        "# Definisikan nama label\n",
        "target_names = ['NEGATIVE (0)', 'NEUTRAL (1)', 'POSITIVE (2)']\n",
        "\n",
        "print(f\"Akurasi Validasi Model RNN Sederhana: {accuracy:.4f}\")\n",
        "print(f\"Loss Validasi: {loss:.4f}\")\n",
        "\n",
        "print(\"\\n\" + \"=\"*50)\n",
        "print(\"Classification Report:\")\n",
        "print(\"=\"*50)\n",
        "\n",
        "# Classification Report\n",
        "print(classification_report(y_val, y_pred, target_names=target_names))\n",
        "\n",
        "print(\"\\n\" + \"=\"*50)\n",
        "print(\"Confusion Matrix:\")\n",
        "print(\"=\"*50)\n",
        "\n",
        "# Confusion Matrix (ditampilkan sebagai DataFrame agar mudah dibaca)\n",
        "cm = confusion_matrix(y_val, y_pred)\n",
        "cm_df = pd.DataFrame(cm, index=target_names, columns=target_names)\n",
        "print(cm_df)"
      ],
      "metadata": {
        "colab": {
          "base_uri": "https://localhost:8080/"
        },
        "id": "WHNSC7o0Br0y",
        "outputId": "d00ce75d-d290-4da8-bb3f-b643ec21f171"
      },
      "execution_count": 18,
      "outputs": [
        {
          "output_type": "stream",
          "name": "stdout",
          "text": [
            "Akurasi Validasi Model RNN Sederhana: 0.4752\n",
            "Loss Validasi: 1.0127\n",
            "\n",
            "==================================================\n",
            "Classification Report:\n",
            "==================================================\n",
            "              precision    recall  f1-score   support\n",
            "\n",
            "NEGATIVE (0)       0.47      0.90      0.62      2806\n",
            " NEUTRAL (1)       0.00      0.00      0.00      1185\n",
            "POSITIVE (2)       0.50      0.20      0.29      2305\n",
            "\n",
            "    accuracy                           0.48      6296\n",
            "   macro avg       0.32      0.37      0.30      6296\n",
            "weighted avg       0.39      0.48      0.38      6296\n",
            "\n",
            "\n",
            "==================================================\n",
            "Confusion Matrix:\n",
            "==================================================\n",
            "              NEGATIVE (0)  NEUTRAL (1)  POSITIVE (2)\n",
            "NEGATIVE (0)          2529            0           277\n",
            "NEUTRAL (1)            995            0           190\n",
            "POSITIVE (2)          1842            0           463\n"
          ]
        },
        {
          "output_type": "stream",
          "name": "stderr",
          "text": [
            "/usr/local/lib/python3.12/dist-packages/sklearn/metrics/_classification.py:1565: UndefinedMetricWarning: Precision is ill-defined and being set to 0.0 in labels with no predicted samples. Use `zero_division` parameter to control this behavior.\n",
            "  _warn_prf(average, modifier, f\"{metric.capitalize()} is\", len(result))\n",
            "/usr/local/lib/python3.12/dist-packages/sklearn/metrics/_classification.py:1565: UndefinedMetricWarning: Precision is ill-defined and being set to 0.0 in labels with no predicted samples. Use `zero_division` parameter to control this behavior.\n",
            "  _warn_prf(average, modifier, f\"{metric.capitalize()} is\", len(result))\n",
            "/usr/local/lib/python3.12/dist-packages/sklearn/metrics/_classification.py:1565: UndefinedMetricWarning: Precision is ill-defined and being set to 0.0 in labels with no predicted samples. Use `zero_division` parameter to control this behavior.\n",
            "  _warn_prf(average, modifier, f\"{metric.capitalize()} is\", len(result))\n"
          ]
        }
      ]
    },
    {
      "cell_type": "markdown",
      "source": [
        "## **Evaluasi Model SimpleRNN Sederhana**\n",
        "\n",
        "Setelah melatih model SimpleRNN selama 10 *epoch*, evaluasi dilakukan pada data validasi (`X_val`, `y_val`). Hasil evaluasi menunjukkan akurasi validasi sebesar **47.52%** dan *loss* validasi sebesar **1.0127**.\n",
        "\n",
        "Berikut adalah rincian performa model berdasarkan *Classification Report* dan *Confusion Matrix*:\n",
        "\n",
        "**Classification Report:**\n",
        "\n",
        "| Sentimen       | Precision | Recall | F1-Score | Support |\n",
        "|----------------|-----------|--------|----------|---------|\n",
        "| NEGATIVE (0)   | 0.47      | 0.90   | 0.62     | 2806    |\n",
        "| NEUTRAL (1)    | 0.00      | 0.00   | 0.00     | 1185    |\n",
        "| POSITIVE (2)   | 0.50      | 0.20   | 0.29     | 2305    |\n",
        "| **Accuracy**   |           |        | **0.48** | 6296    |\n",
        "| **Macro Avg**  | 0.32      | 0.37   | 0.30     | 6296    |\n",
        "| **Weighted Avg**| 0.39      | 0.48   | 0.38     | 6296    |\n",
        "\n",
        "**Confusion Matrix:**\n",
        "\n",
        "|               | NEGATIVE (0) | NEUTRAL (1) | POSITIVE (2) |\n",
        "|---------------|--------------|-------------|--------------|\n",
        "| NEGATIVE (0)  | 2529         | 0           | 277          |\n",
        "| NEUTRAL (1)   | 995          | 0           | 190          |\n",
        "| POSITIVE (2)  | 1842         | 0           | 463          |\n",
        "\n",
        "**Analisis Hasil:**\n",
        "\n",
        "*   **Akurasi yang Rendah:** Akurasi keseluruhan model (47.52%) masih tergolong rendah, menunjukkan bahwa model SimpleRNN sederhana ini belum mampu mengklasifikasikan sentimen dengan baik.\n",
        "*   **Masalah Kelas Netral:** Model kesulitan memprediksi kelas Netral (1). Terlihat dari *precision*, *recall*, dan *f1-score* untuk kelas Netral yang bernilai 0. Ini juga terlihat jelas pada *Confusion Matrix* di mana tidak ada satupun data Netral yang diprediksi sebagai Netral. Data Netral mayoritas salah diklasifikasikan sebagai Negatif atau Positif.\n",
        "*   **Bias ke Kelas Negatif:** Model cenderung memprediksi sebagian besar data sebagai Negatif, terlihat dari *recall* yang tinggi untuk kelas Negatif (0.90) namun *precision* yang lebih rendah (0.47).\n",
        "*   **Performa Kelas Positif:** Performa untuk kelas Positif juga masih rendah, dengan *recall* hanya 0.20.\n",
        "\n",
        "Hasil ini mengindikasikan bahwa model SimpleRNN sederhana ini mungkin tidak cukup kompleks untuk menangani dataset ulasan dengan tiga kelas sentimen, terutama dengan adanya ketidakseimbangan data (meskipun telah menggunakan *stratified split*)."
      ],
      "metadata": {
        "id": "lyEdmNSv7sp5"
      }
    },
    {
      "cell_type": "markdown",
      "source": [
        "## **Pengujian Model Secara Manual**\n",
        "\n",
        "Tahap ini digunakan untuk menguji kinerja model SimpleRNN yang telah dilatih dengan ulasan baru yang belum pernah dilihat. Ulasan baru akan melewati tahapan yang sama dengan data pelatihan (pembersihan teks, tokenisasi, dan *padding*) sebelum dimasukkan ke model untuk mendapatkan prediksi sentimen."
      ],
      "metadata": {
        "id": "ybKwi1LH8FA6"
      }
    },
    {
      "cell_type": "code",
      "source": [
        "# Fungsi Inference untuk prediksi satu ulasan (Tanpa pemisah internal)\n",
        "def predict_sentiment(review_text):\n",
        "    # Pra-Pemrosesan: Bersihkan teks\n",
        "    cleaned_text = clean_text(review_text)\n",
        "\n",
        "    # Tokenisasi\n",
        "    sequence = tokenizer.texts_to_sequences([cleaned_text])\n",
        "\n",
        "    # Padding\n",
        "    padded_sequence = pad_sequences(sequence, maxlen=MAX_LEN, padding='post', truncating='post')\n",
        "\n",
        "    # Prediksi Model\n",
        "    prediction = model_rnn.predict(padded_sequence, verbose=0)[0]\n",
        "\n",
        "    # Konversi hasil\n",
        "    predicted_class_index = np.argmax(prediction)\n",
        "    id2label = {0: 'NEGATIVE', 1: 'NEUTRAL', 2: 'POSITIVE'}\n",
        "    predicted_label = id2label.get(predicted_class_index, \"UNKNOWN\")\n",
        "\n",
        "    # Tampilkan hasil\n",
        "    print(f\"Ulasan Asli: \\\"{review_text}\\\"\")\n",
        "    print(f\"Teks Bersih: \\\"{cleaned_text}\\\"\")\n",
        "    print(f\"Prediksi Sentimen: {predicted_label} (Indeks: {predicted_class_index})\")\n",
        "    print(f\"Probabilitas Kelas: {prediction}\")\n",
        "\n",
        "# --- UJI COBA MANUAL ---\n",
        "\n",
        "# Ulasan Contoh 1\n",
        "predict_sentiment(\"aplikasi yang cukup baik.\")\n",
        "print(\"\\n\" + \"=\"*50 + \"\\n\") # PEMISAH BARIS\n",
        "\n",
        "# Ulasan Contoh 2\n",
        "predict_sentiment(\"tidak bagus.\")\n",
        "print(\"\\n\" + \"=\"*50 + \"\\n\") # PEMISAH BARIS\n",
        "\n",
        "# Ulasan Contoh 3\n",
        "predict_sentiment(\"UI dari aplikasinya simpel bagus.\")\n",
        "print(\"\\n\" + \"=\"*50 + \"\\n\") # PEMISAH BARIS\n",
        "\n",
        "# Ulasan Contoh 4\n",
        "predict_sentiment(\"UANG SAYA HILANG, APLIKASI LAKNAT.\")\n",
        "print(\"\\n\" + \"=\"*50 + \"\\n\") # PEMISAH BARIS"
      ],
      "metadata": {
        "colab": {
          "base_uri": "https://localhost:8080/"
        },
        "id": "Hoxq3KLa8IV-",
        "outputId": "e5a76321-39ca-43af-f5fe-192e6aa1bb0e"
      },
      "execution_count": 20,
      "outputs": [
        {
          "output_type": "stream",
          "name": "stdout",
          "text": [
            "Ulasan Asli: \"aplikasi yang cukup baik.\"\n",
            "Teks Bersih: \"aplikasi yang cukup baik\"\n",
            "Prediksi Sentimen: NEGATIVE (Indeks: 0)\n",
            "Probabilitas Kelas: [0.407281   0.21861278 0.3741062 ]\n",
            "\n",
            "==================================================\n",
            "\n",
            "Ulasan Asli: \"tidak bagus.\"\n",
            "Teks Bersih: \"tidak bagus\"\n",
            "Prediksi Sentimen: NEGATIVE (Indeks: 0)\n",
            "Probabilitas Kelas: [0.4072807  0.21861307 0.37410614]\n",
            "\n",
            "==================================================\n",
            "\n",
            "Ulasan Asli: \"UI dari aplikasinya simpel bagus.\"\n",
            "Teks Bersih: \"ui dari aplikasinya simpel bagus\"\n",
            "Prediksi Sentimen: NEGATIVE (Indeks: 0)\n",
            "Probabilitas Kelas: [0.40728077 0.21861306 0.37410617]\n",
            "\n",
            "==================================================\n",
            "\n",
            "Ulasan Asli: \"UANG SAYA HILANG, APLIKASI LAKNAT.\"\n",
            "Teks Bersih: \"uang saya hilang aplikasi laknat\"\n",
            "Prediksi Sentimen: NEGATIVE (Indeks: 0)\n",
            "Probabilitas Kelas: [0.40728104 0.21861275 0.3741062 ]\n",
            "\n",
            "==================================================\n",
            "\n"
          ]
        }
      ]
    },
    {
      "cell_type": "markdown",
      "source": [
        "## **Kesimpulan Analisis Model RNN Sederhana (SimpleRNN)**\n",
        "\n",
        "Analisis ini telah melalui tahap persiapan data yang cermat, mulai dari pra-pemrosesan, pembersihan teks, penghapusan duplikat, hingga tokenisasi dan *padding*, menghasilkan data yang siap untuk pelatihan model. Selanjutnya, arsitektur SimpleRNN dibangun dan dilatih selama 10 *epoch*.\n",
        "\n",
        "Hasil evaluasi menunjukkan bahwa Model SimpleRNN ini **tidak mampu beroperasi secara efektif** pada tugas klasifikasi sentimen 3-kelas ini. Model hanya mencapai **Akurasi Validasi 47.52%**. Kinerja yang buruk ini berpuncak pada dua temuan kritis:\n",
        "\n",
        "1.  **Kegagalan Total Kelas Netral:** *Classification Report* menunjukkan *F1-score* **0.00** untuk kelas Netral. Kegagalan ini dikonfirmasi oleh *Confusion Matrix* dan uji coba manual, di mana model tidak pernah berhasil memprediksi ulasan Netral, melainkan memiliki kecenderungan kuat untuk memprediksi **kelas Negatif** di hampir semua kasus, termasuk ulasan yang sebenarnya Positif atau Netral.\n",
        "2.  **Kelemahan Arsitektur:** Kegagalan ini adalah cerminan dari kelemahan bawaan SimpleRNN dalam menangani *long-term dependencies* (*vanishing gradient*). Arsitektur yang sederhana ini tidak dapat mempelajari pola halus dari kelas minoritas pada dataset yang tidak seimbang.\n",
        "\n",
        "**Kesimpulan Akhir:** Berdasarkan performa yang sangat rendah dan ketidakmampuan model dalam membedakan kelas Netral, Model SimpleRNN Sederhana ini **tidak direkomendasikan** untuk digunakan sebagai solusi klasifikasi sentimen untuk dataset ulasan ini."
      ],
      "metadata": {
        "id": "aeK8v_O8-klm"
      }
    }
  ]
}
